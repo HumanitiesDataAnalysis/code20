{
  "nbformat": 4,
  "nbformat_minor": 0,
  "metadata": {
    "colab": {
      "name": "Supplemental Week 5.ipynb",
      "provenance": [],
      "collapsed_sections": [],
      "authorship_tag": "ABX9TyMjFEcpHzcLskclfiECeRcp",
      "include_colab_link": true
    },
    "kernelspec": {
      "name": "python3",
      "display_name": "Python 3"
    }
  },
  "cells": [
    {
      "cell_type": "markdown",
      "metadata": {
        "id": "view-in-github",
        "colab_type": "text"
      },
      "source": [
        "<a href=\"https://colab.research.google.com/github/HumanitiesDataAnalysis/code20/blob/master/Supplemental_Week_5.ipynb\" target=\"_parent\"><img src=\"https://colab.research.google.com/assets/colab-badge.svg\" alt=\"Open In Colab\"/></a>"
      ]
    },
    {
      "cell_type": "markdown",
      "metadata": {
        "id": "5MiNkfccywXV"
      },
      "source": [
        "# Recursion and lists\n",
        "\n",
        "In Python, you'll rarely need to use recusion. But if you do, just\n",
        "as with a for-loop, you can print the results at each step to understand what's going on. When recursing, it can be helpful to keep track of the depth and use indentation "
      ]
    },
    {
      "cell_type": "code",
      "metadata": {
        "id": "08WsKuNH5oEt",
        "outputId": "f4f2f0c9-45b6-4d72-d2ba-790e6a603efd",
        "colab": {
          "base_uri": "https://localhost:8080/",
          "height": 311
        }
      },
      "source": [
        "def doubler(sequence, depth = 0):\n",
        "    if len(sequence) == 0:\n",
        "        return []\n",
        "    else:\n",
        "        head = sequence[0]\n",
        "        tail = sequence[1:]\n",
        "        a = [head * 2]\n",
        "        print(\"-\"* depth + \"At depth of \" + str(depth) + \", adding to \" + str(a) + \" to the double of\", tail)\n",
        "        b = doubler(tail, depth + 1)\n",
        "        print(\"-\" * depth, \"Learned that the double of\", sequence, \"is\", a + b)\n",
        "        return a + b\n",
        "\n",
        "doubler([1, 2, 3, 4, 5, 6, 7, 8], 0)"
      ],
      "execution_count": null,
      "outputs": [
        {
          "output_type": "stream",
          "text": [
            "At depth of 0, adding to [2] to the double of [2, 3, 4, 5, 6, 7, 8]\n",
            "-At depth of 1, adding to [4] to the double of [3, 4, 5, 6, 7, 8]\n",
            "--At depth of 2, adding to [6] to the double of [4, 5, 6, 7, 8]\n",
            "---At depth of 3, adding to [8] to the double of [5, 6, 7, 8]\n",
            "----At depth of 4, adding to [10] to the double of [6, 7, 8]\n",
            "-----At depth of 5, adding to [12] to the double of [7, 8]\n",
            "------At depth of 6, adding to [14] to the double of [8]\n",
            "-------At depth of 7, adding to [16] to the double of []\n",
            "------- Learned that the double of [8] is [16]\n",
            "------ Learned that the double of [7, 8] is [14, 16]\n",
            "----- Learned that the double of [6, 7, 8] is [12, 14, 16]\n",
            "---- Learned that the double of [5, 6, 7, 8] is [10, 12, 14, 16]\n",
            "--- Learned that the double of [4, 5, 6, 7, 8] is [8, 10, 12, 14, 16]\n",
            "-- Learned that the double of [3, 4, 5, 6, 7, 8] is [6, 8, 10, 12, 14, 16]\n",
            "- Learned that the double of [2, 3, 4, 5, 6, 7, 8] is [4, 6, 8, 10, 12, 14, 16]\n",
            " Learned that the double of [1, 2, 3, 4, 5, 6, 7, 8] is [2, 4, 6, 8, 10, 12, 14, 16]\n"
          ],
          "name": "stdout"
        },
        {
          "output_type": "execute_result",
          "data": {
            "text/plain": [
              "[2, 4, 6, 8, 10, 12, 14, 16]"
            ]
          },
          "metadata": {
            "tags": []
          },
          "execution_count": 93
        }
      ]
    },
    {
      "cell_type": "markdown",
      "metadata": {
        "id": "AI0uAkOezRUq"
      },
      "source": [
        "## Divide and conquer\n",
        "\n",
        "Montfort generally shows you recursive functions that split\n",
        "into the first element and the rest of the list. Sometimes, it makes sense instead to split into two equally sized halves. The \n",
        "following function produces the same result, but doubles each half individually."
      ]
    },
    {
      "cell_type": "code",
      "metadata": {
        "id": "iOwYXv8alTPx",
        "outputId": "6aaaba4a-902e-4600-818a-615dcf6ca623",
        "colab": {
          "base_uri": "https://localhost:8080/",
          "height": 415
        }
      },
      "source": [
        "def recurse_double(sequence, depth = 0):\n",
        "  midpoint = int(len(sequence)/2)\n",
        "  if len(sequence) == 1:\n",
        "    el = sequence[0]\n",
        "    print(\"-\" * depth + \"Learned that double of\", sequence, \"is\", [el*2])\n",
        "    return [el * 2]\n",
        "  if len(sequence) == 0:\n",
        "    return []\n",
        "  print(\"-\" * depth + \"At depth of\", depth, \"preparing to double\", sequence)\n",
        "  front_half = recurse_double(sequence[:midpoint], depth + 1)\n",
        "  last_half = recurse_double(sequence[midpoint:], depth + 1)\n",
        "  print(\"-\" * depth + \"Learned that double of\", sequence, \"is\", front_half + last_half)\n",
        "  return front_half + last_half\n",
        "recurse_double([1, 2, 3, 4, 5, 6, 7, 8])"
      ],
      "execution_count": null,
      "outputs": [
        {
          "output_type": "stream",
          "text": [
            "At depth of 0 preparing to double [1, 2, 3, 4, 5, 6, 7, 8]\n",
            "-At depth of 1 preparing to double [1, 2, 3, 4]\n",
            "--At depth of 2 preparing to double [1, 2]\n",
            "---Learned that double of [1] is [2]\n",
            "---Learned that double of [2] is [4]\n",
            "--Learned that double of [1, 2] is [2, 4]\n",
            "--At depth of 2 preparing to double [3, 4]\n",
            "---Learned that double of [3] is [6]\n",
            "---Learned that double of [4] is [8]\n",
            "--Learned that double of [3, 4] is [6, 8]\n",
            "-Learned that double of [1, 2, 3, 4] is [2, 4, 6, 8]\n",
            "-At depth of 1 preparing to double [5, 6, 7, 8]\n",
            "--At depth of 2 preparing to double [5, 6]\n",
            "---Learned that double of [5] is [10]\n",
            "---Learned that double of [6] is [12]\n",
            "--Learned that double of [5, 6] is [10, 12]\n",
            "--At depth of 2 preparing to double [7, 8]\n",
            "---Learned that double of [7] is [14]\n",
            "---Learned that double of [8] is [16]\n",
            "--Learned that double of [7, 8] is [14, 16]\n",
            "-Learned that double of [5, 6, 7, 8] is [10, 12, 14, 16]\n",
            "Learned that double of [1, 2, 3, 4, 5, 6, 7, 8] is [2, 4, 6, 8, 10, 12, 14, 16]\n"
          ],
          "name": "stdout"
        },
        {
          "output_type": "execute_result",
          "data": {
            "text/plain": [
              "[2, 4, 6, 8, 10, 12, 14, 16]"
            ]
          },
          "metadata": {
            "tags": []
          },
          "execution_count": 96
        }
      ]
    },
    {
      "cell_type": "code",
      "metadata": {
        "id": "4dCm--GzrGib"
      },
      "source": [
        ""
      ],
      "execution_count": null,
      "outputs": []
    },
    {
      "cell_type": "code",
      "metadata": {
        "id": "z4LnvNRZ_bR7",
        "outputId": "d07a0657-5366-4cf1-de6d-cc43a537b3e4",
        "colab": {
          "base_uri": "https://localhost:8080/",
          "height": 35
        }
      },
      "source": [
        "def reverse(sequence):\n",
        "  # A much less verbose version of the above strategy.\n",
        "  midpoint = int(len(sequence)/2)\n",
        "  if len(sequence) <= 1:\n",
        "    return sequence\n",
        "  return reverse(sequence[midpoint:]) + reverse(sequence[:midpoint])\n",
        "\n",
        "reverse([1, 2, 3, 4, 5, 6, 7, 8])"
      ],
      "execution_count": null,
      "outputs": [
        {
          "output_type": "execute_result",
          "data": {
            "text/plain": [
              "[8, 7, 6, 5, 4, 3, 2, 1]"
            ]
          },
          "metadata": {
            "tags": []
          },
          "execution_count": 100
        }
      ]
    },
    {
      "cell_type": "code",
      "metadata": {
        "id": "dCZ8cdjWzvAS",
        "outputId": "9af2bdc8-518e-4632-84ba-a726b3628f5f",
        "colab": {
          "base_uri": "https://localhost:8080/",
          "height": 86
        }
      },
      "source": [
        "def all_combinations(a, b):\n",
        "  output = []\n",
        "  for elem in b:\n",
        "    output.append(a + elem)\n",
        "  return output\n",
        "\n",
        "def permutations(sequence, maxdepth = 4, depth = 0):\n",
        "  # A less lethal version of the forkbomb program.\n",
        "  if depth >= maxdepth: # Remove this, and it will keep growing!\n",
        "    return []\n",
        "  output = []\n",
        "  for elem in sequence:\n",
        "    all_combos_below = all_combinations(elem, sequence)\n",
        "    for below in all_combos_below:\n",
        "      output.append(elem + below)\n",
        "    \n",
        "  return output\n",
        "    \n",
        "\n",
        "permutations(\"🐇🎃\", maxdepth=4)"
      ],
      "execution_count": null,
      "outputs": [
        {
          "output_type": "stream",
          "text": [
            "🐇🐇\n",
            "🐇🎃\n",
            "🎃🐇\n",
            "🎃🎃\n"
          ],
          "name": "stdout"
        }
      ]
    },
    {
      "cell_type": "code",
      "metadata": {
        "id": "JCQhabKQuCNE",
        "outputId": "1adea8f2-2632-4caa-e494-d45499ae365b",
        "colab": {
          "base_uri": "https://localhost:8080/",
          "height": 207
        }
      },
      "source": [
        "def count_words(text):\n",
        "  counts = {}\n",
        "  for word in text.split(\" \"):\n",
        "    try:\n",
        "      counts[word] = counts[word] + 1\n",
        "    except KeyError:\n",
        "      counts[word] = 1\n",
        "  return counts\n",
        "\n",
        "count_words(\"We the people, in order to form a more perfect union\")"
      ],
      "execution_count": null,
      "outputs": [
        {
          "output_type": "execute_result",
          "data": {
            "text/plain": [
              "{'We': 1,\n",
              " 'a': 1,\n",
              " 'form': 1,\n",
              " 'in': 1,\n",
              " 'more': 1,\n",
              " 'order': 1,\n",
              " 'people,': 1,\n",
              " 'perfect': 1,\n",
              " 'the': 1,\n",
              " 'to': 1,\n",
              " 'union': 1}"
            ]
          },
          "metadata": {
            "tags": []
          },
          "execution_count": 43
        }
      ]
    },
    {
      "cell_type": "code",
      "metadata": {
        "id": "r2-XoTkh54S0",
        "outputId": "3a388c95-1527-4e74-bc0e-0cd379d19956",
        "colab": {
          "base_uri": "https://localhost:8080/"
        }
      },
      "source": [
        "# list access methods\n",
        "\n",
        "our_list = [\"A\", \"B\", \"C\", \"D\", \"E\"]\n",
        "\n",
        "\n",
        "######################################################\n",
        "##### Ways of getting single elements back. ##########\n",
        "######################################################\n",
        "\n",
        "\n",
        "# The first element (a letter)\n",
        "our_list[0]\n",
        "\n",
        "# The second element (a letter) (note the offsets.)\n",
        "our_list[1]\n",
        "\n",
        "# The last element\n",
        "our_list[-1]\n",
        "\n",
        "# The pre-ante-penultimate element\n",
        "our_list[-4]\n",
        "\n",
        "######################################################\n",
        "########## Ways of getting lists back. ###############\n",
        "######################################################\n",
        "\n",
        "# The first two elements\n",
        "our_list[0:2]\n",
        "# OR\n",
        "our_list[:2]\n",
        "\n",
        "# The elements from 2 on\n",
        "our_list[2:len(our_list)] # ugly!\n",
        "our_list[2:] # Beautiful.\n",
        "\n",
        "# The last two elements:\n",
        "our_list[-2:]\n",
        "\n",
        "### Fancy strides--ugly triple notation.\n",
        "# Every other element from the first.\n",
        "our_list[0::2]\n",
        "\n",
        "# The list backward\n",
        "\n",
        "our_list[-1::-1]"
      ],
      "execution_count": null,
      "outputs": [
        {
          "output_type": "execute_result",
          "data": {
            "text/plain": [
              "['E', 'D', 'C', 'B', 'A']"
            ]
          },
          "metadata": {
            "tags": []
          },
          "execution_count": 34
        }
      ]
    },
    {
      "cell_type": "code",
      "metadata": {
        "id": "nGmZe5Da5504"
      },
      "source": [
        "def count_letters(string, choice):\n",
        "  count = 0\n",
        "  for letter in string:\n",
        "    if letter == choice:\n",
        "      count = count + 1\n",
        "  return count"
      ],
      "execution_count": null,
      "outputs": []
    },
    {
      "cell_type": "code",
      "metadata": {
        "id": "qyGpWi_u6H0G"
      },
      "source": [
        ""
      ],
      "execution_count": null,
      "outputs": []
    },
    {
      "cell_type": "code",
      "metadata": {
        "id": "KOhP9zeivTPg"
      },
      "source": [
        ""
      ],
      "execution_count": null,
      "outputs": []
    },
    {
      "cell_type": "code",
      "metadata": {
        "id": "xfEUT0CdBJRk"
      },
      "source": [
        "#!/usr/bin/python\n",
        "\n",
        "# Stochastic Texts, copyright (c) 2014 Nick Montfort <nickm@nickm.com>\n",
        "# Original by Theo Lutz, 1959; translation by Helen MacCormack\n",
        "#\n",
        "# Permission to use, copy, modify, and/or distribute this software for any\n",
        "# purpose with or without fee is hereby granted, provided that the above\n",
        "# copyright notice and this permission notice appear in all copies.\n",
        "#\n",
        "# THE SOFTWARE IS PROVIDED \"AS IS\" AND THE AUTHOR DISCLAIMS ALL WARRANTIES\n",
        "# WITH REGARD TO THIS SOFTWARE INCLUDING ALL IMPLIED WARRANTIES OF\n",
        "# MERCHANTABILITY AND FITNESS. IN NO EVENT SHALL THE AUTHOR BE LIABLE FOR ANY\n",
        "# SPECIAL, DIRECT, INDIRECT, OR CONSEQUENTIAL DAMAGES OR ANY DAMAGES\n",
        "# WHATSOEVER RESULTING FROM LOSS OF USE, DATA OR PROFITS, WHETHER IN AN\n",
        "# ACTION OF CONTRACT, NEGLIGENCE OR OTHER TORTIOUS ACTION, ARISING OUT OF OR\n",
        "# IN CONNECTION WITH THE USE OR PERFORMANCE OF THIS SOFTWARE.\n",
        "#\n",
        "# Updated 31 May 2018 to add compatibility with Python 3 (Python 2 still works)\n",
        "\n",
        "from random import choice\n",
        "\n",
        "subjects = ['COUNT', 'STRANGER', 'LOOK', 'CHURCH', 'CASTLE', 'PICTURE',\n",
        "            'MOUTH', 'VILLAGE', 'TOWER', 'FARMER', 'WAY', 'GUEST', 'DAY',\n",
        "            'HOUSE', 'TABLE', 'LABOURER', 'WORKER', \"APPLE\", \"FRUIT\", \"BANANA\",\n",
        "            \"PERSON\", \"FRAME\", \"LIGHT\", \"BUILDING\", \"THEATER\", 'HEART', 'THREAT']\n",
        "predicates = ['OPEN', 'SILENT', 'STRONG', 'GOOD', 'SMALL', 'GRAND', 'EARTHY', 'NARROW', 'NEAR',\n",
        "              'NEW', 'QUIET', 'FAR', 'DEEP', 'LATE', 'DARK', 'FREE', 'ODD', 'FREE', 'NEW',\n",
        "              'LARGE', 'OLD', 'ANGRY', \"CLOSED\", \"GREAT\", \"THEATRICAL\", \"BAD\", \"ODD\"]\n",
        "verbs = ['IS', 'WAS', 'CAN BE', 'IS', 'WAS', 'SHOULD BE', 'WOULD BE']\n",
        "conjunctions = [' AND ', ' OR ', ' THUS ', ' THEREFORE ', '. ', '. ', '. ', '. ', '. ']\n",
        "operators = ['A', 'EVERY', 'NO', 'LESS THAN ONE', 'NOT EVERY', \"AT LEAST ONE\"]\n",
        "\n",
        "\n",
        "def phrase():\n",
        "    text = choice(operators) + ' ' + choice(subjects)\n",
        "    if text == 'A EYE':\n",
        "        text = 'AN EYE'\n",
        "    return text + ' IS '\n",
        "\n",
        "def double_phrase():\n",
        "  print('')\n",
        "  print(phrase() + choice(predicates) + choice(conjunctions) +\n",
        "        phrase() + choice(predicates) + '.')\n",
        "  print('')\n",
        "\n"
      ],
      "execution_count": null,
      "outputs": []
    },
    {
      "cell_type": "code",
      "metadata": {
        "id": "4sCo83wICMPn",
        "outputId": "0d5d5503-5307-4690-96c4-ee3af180f8b3",
        "colab": {
          "base_uri": "https://localhost:8080/"
        }
      },
      "source": [
        "all_possibilities = []\n",
        "for operator in operators:\n",
        "  for subject in subjects:\n",
        "    for predicate in predicates:\n",
        "      for verb in verbs:\n",
        "        op = operator\n",
        "        if subject[0] in \"AEOIU\" and operator == \"A\":\n",
        "          op = \"AN\"\n",
        "        all_possibilities.append(f'{op} {subject} {verb} {predicate}')\n",
        "print(f\"THERE ARE {len(all_possibilities)} possibilities\")"
      ],
      "execution_count": null,
      "outputs": [
        {
          "output_type": "stream",
          "text": [
            "THERE ARE 30618 possibilities\n"
          ],
          "name": "stdout"
        }
      ]
    },
    {
      "cell_type": "code",
      "metadata": {
        "id": "ZRTP1XL-DTV-"
      },
      "source": [
        "newer = []\n",
        "for p in all_possibilities:\n",
        "  letters = [l for l in p]\n",
        "  letters.sort()\n",
        "  newer.append((\"\".join(letters).strip(), p))"
      ],
      "execution_count": null,
      "outputs": []
    },
    {
      "cell_type": "code",
      "metadata": {
        "id": "NgOQvojbDnkI"
      },
      "source": [
        "newer.sort()\n",
        "last = \"\"\n",
        "def check_anagrams(sequence):\n",
        "  for a, b in zip(newer[:-1], newer[1:]):\n",
        "    if (a[0] == b[0]) and a[1] != b[1]:\n",
        "      print(a[1] + ' is an anagram of ' + b[1])    "
      ],
      "execution_count": null,
      "outputs": []
    },
    {
      "cell_type": "code",
      "metadata": {
        "id": "EmF4e2WVECmk"
      },
      "source": [
        "check_anagrams(newer)"
      ],
      "execution_count": null,
      "outputs": []
    },
    {
      "cell_type": "code",
      "metadata": {
        "id": "9-VJPbIGE3h5"
      },
      "source": [
        ""
      ],
      "execution_count": null,
      "outputs": []
    }
  ]
}