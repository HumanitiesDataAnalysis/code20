{
  "nbformat": 4,
  "nbformat_minor": 0,
  "metadata": {
    "colab": {
      "name": "Wednesday 11-18 renaming characters",
      "provenance": [],
      "collapsed_sections": [],
      "authorship_tag": "ABX9TyN6IZlT94aESFH+DYY/WoxZ",
      "include_colab_link": true
    },
    "kernelspec": {
      "name": "python3",
      "display_name": "Python 3"
    }
  },
  "cells": [
    {
      "cell_type": "markdown",
      "metadata": {
        "id": "view-in-github",
        "colab_type": "text"
      },
      "source": [
        "<a href=\"https://colab.research.google.com/github/HumanitiesDataAnalysis/code20/blob/master/Wednesday_11_18_renaming_characters.ipynb\" target=\"_parent\"><img src=\"https://colab.research.google.com/assets/colab-badge.svg\" alt=\"Open In Colab\"/></a>"
      ]
    },
    {
      "cell_type": "code",
      "metadata": {
        "id": "-w_6zCtvdipY"
      },
      "source": [
        "from textblob import TextBlob"
      ],
      "execution_count": null,
      "outputs": []
    },
    {
      "cell_type": "code",
      "metadata": {
        "id": "eF_ZsvFKdujX"
      },
      "source": [
        "import urllib\n",
        "moby_dick = urllib.request.urlopen('https://www.gutenberg.org/files/2701/2701.txt').read().decode(\"utf-8\")\n",
        "url = 'http://www.gutenberg.org/cache/epub/42671/pg42671.txt'\n",
        "request = urllib.request.urlopen(url)\n",
        "fulltext = request.read().decode(\"utf-8\")\n"
      ],
      "execution_count": null,
      "outputs": []
    },
    {
      "cell_type": "code",
      "metadata": {
        "id": "3rquiEsSd0TY"
      },
      "source": [
        "austen = fulltext[1900:]\n",
        "moby_dick_full = moby_dick[1900:]"
      ],
      "execution_count": null,
      "outputs": []
    },
    {
      "cell_type": "code",
      "metadata": {
        "id": "FEAjHcuvkC__"
      },
      "source": [
        "pride = TextBlob(austen)\n",
        "moby = TextBlob(moby_dick_full)"
      ],
      "execution_count": null,
      "outputs": []
    },
    {
      "cell_type": "code",
      "metadata": {
        "id": "87iKFwQFkS_a"
      },
      "source": [
        "pride_tags = pride.tags\n",
        "moby_tags = moby.tags"
      ],
      "execution_count": null,
      "outputs": []
    },
    {
      "cell_type": "code",
      "metadata": {
        "id": "3ZDG_IeAkbrO"
      },
      "source": [
        "from collections import Counter\n",
        "\n",
        "def pull_proper_nouns(taglist):\n",
        "    return Counter([ word for (word, tag) in taglist if tag == \"NNP\"])"
      ],
      "execution_count": null,
      "outputs": []
    },
    {
      "cell_type": "code",
      "metadata": {
        "colab": {
          "base_uri": "https://localhost:8080/"
        },
        "id": "eh17eyzZkhga",
        "outputId": "b9449ad1-b901-4596-86bd-9de27eacadc3"
      },
      "source": [
        "top_moby = pull_proper_nouns(moby_tags).most_common(50)\n",
        "top_pride = pull_proper_nouns(pride_tags).most_common(50)\n",
        "top_moby[:10]"
      ],
      "execution_count": null,
      "outputs": [
        {
          "output_type": "execute_result",
          "data": {
            "text/plain": [
              "[('Ahab', 500),\n",
              " ('Whale', 274),\n",
              " ('Stubb', 256),\n",
              " ('Queequeg', 230),\n",
              " ('Captain', 205),\n",
              " ('Starbuck', 192),\n",
              " ('Pequod', 163),\n",
              " ('Sperm', 135),\n",
              " ('God', 121),\n",
              " ('Flask', 102)]"
            ]
          },
          "metadata": {
            "tags": []
          },
          "execution_count": 50
        }
      ]
    },
    {
      "cell_type": "code",
      "metadata": {
        "id": "k9hNgMZbmPL0"
      },
      "source": [
        "list(zip(top_moby, top_pride))\n",
        "moby_position = 0;\n",
        "replacements = {}\n",
        "skipwords = [\"Mr.\", \"Mrs.\", \"Miss\", \"Sir\", \n",
        "             \"Mr\", \"Mrs\", \"Colonel\", \"Lady\", \"Gutenberg-tm\",\n",
        "             \"Project\"]\n",
        "\n",
        "for word, count in top_pride:\n",
        "  if word in skipwords:\n",
        "    continue\n",
        "  replacement = top_moby[moby_position][0]\n",
        "  moby_position = moby_position + 1\n",
        "  replacements[word] = replacement\n",
        "\n",
        "replacements[\"Eliza\"] = replacements[\"Elizabeth\"]"
      ],
      "execution_count": null,
      "outputs": []
    },
    {
      "cell_type": "code",
      "metadata": {
        "id": "lk2Z_Glrm_Jt"
      },
      "source": [
        "copy = austen\n",
        "import re\n",
        "for word, replacement in replacements.items():\n",
        "  copy = copy.replace(word, replacement)"
      ],
      "execution_count": null,
      "outputs": []
    },
    {
      "cell_type": "code",
      "metadata": {
        "colab": {
          "base_uri": "https://localhost:8080/"
        },
        "id": "j5d62aWjnI0G",
        "outputId": "ce85c46b-2cd9-403d-dd39-33ac6aad48c0"
      },
      "source": [
        "import random\n",
        "r = random.randint(0, len(copy) -1000)\n",
        "print(copy[r:(r + 1000)])"
      ],
      "execution_count": null,
      "outputs": [
        {
          "output_type": "stream",
          "text": [
            "\r\n",
            "where is your sash my dear?\"\r\n",
            "\r\n",
            "But when her mother was gone, Captain would not be prevailed on to go down\r\n",
            "without one of her sisters.\r\n",
            "\r\n",
            "The same anxiety to get them by themselves, was visible again in the\r\n",
            "evening. After tea, Mr. Stubb retired to the library, as was his\r\n",
            "custom, and Tashtego went up stairs to her instrument. Two obstacles of the\r\n",
            "five being thus removed, Mrs. Stubb sat looking and winking at\r\n",
            "Ahab and God for a considerable time, without making any\r\n",
            "impression on them. Ahab would not observe her; and when at last\r\n",
            "Nantucket did, she very innocently said, \"What is the matter mamma? What do\r\n",
            "you keep winking at me for? What am I to do?\"\r\n",
            "\r\n",
            "\"Nothing child, nothing. I did not wink at you.\" She then sat still five\r\n",
            "minutes longer; but unable to waste such a precious occasion, she\r\n",
            "suddenly got up, and saying to Nantucket,\r\n",
            "\r\n",
            "\"Come here, my love, I want to speak to you,\" took her out of the room.\r\n",
            "Captain instantly gave a look at Ahab, which spoke her distress at\r\n",
            "such \n"
          ],
          "name": "stdout"
        }
      ]
    },
    {
      "cell_type": "code",
      "metadata": {
        "colab": {
          "base_uri": "https://localhost:8080/"
        },
        "id": "I3hWUPGopbgH",
        "outputId": "500de25b-9f25-435d-d765-90b810474c84"
      },
      "source": [
        "help(re.sub)"
      ],
      "execution_count": null,
      "outputs": [
        {
          "output_type": "stream",
          "text": [
            "Help on function sub in module re:\n",
            "\n",
            "sub(pattern, repl, string, count=0, flags=0)\n",
            "    Return the string obtained by replacing the leftmost\n",
            "    non-overlapping occurrences of the pattern in string by the\n",
            "    replacement repl.  repl can be either a string or a callable;\n",
            "    if a string, backslash escapes in it are processed.  If it is\n",
            "    a callable, it's passed the match object and must return\n",
            "    a replacement string to be used.\n",
            "\n"
          ],
          "name": "stdout"
        }
      ]
    },
    {
      "cell_type": "code",
      "metadata": {
        "id": "SqbgclRbpo-5"
      },
      "source": [
        ""
      ],
      "execution_count": null,
      "outputs": []
    }
  ]
}