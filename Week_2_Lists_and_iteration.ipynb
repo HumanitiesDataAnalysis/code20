{
  "nbformat": 4,
  "nbformat_minor": 0,
  "metadata": {
    "colab": {
      "name": "Week 2: Lists and iteration",
      "provenance": [],
      "collapsed_sections": [
        "gtx2cZUBgQfP",
        "P6yna_mgiR7F"
      ],
      "authorship_tag": "ABX9TyPfhw9cYaMp/QlMx+yVAgL7",
      "include_colab_link": true
    },
    "kernelspec": {
      "name": "python3",
      "display_name": "Python 3"
    }
  },
  "cells": [
    {
      "cell_type": "markdown",
      "metadata": {
        "id": "view-in-github",
        "colab_type": "text"
      },
      "source": [
        "<a href=\"https://colab.research.google.com/github/HumanitiesDataAnalysis/code20/blob/master/Week_2_Lists_and_iteration.ipynb\" target=\"_parent\"><img src=\"https://colab.research.google.com/assets/colab-badge.svg\" alt=\"Open In Colab\"/></a>"
      ]
    },
    {
      "cell_type": "code",
      "metadata": {
        "id": "cKKShAJugKiz",
        "colab_type": "code",
        "colab": {}
      },
      "source": [
        ""
      ],
      "execution_count": null,
      "outputs": []
    },
    {
      "cell_type": "markdown",
      "metadata": {
        "id": "gtx2cZUBgQfP",
        "colab_type": "text"
      },
      "source": [
        "## Lists and Iteration\n",
        "\n",
        "To this point, we've been looking at two types of basic elements: numbers and letters. You can turn any letter into a number with `ord`; you can turn most numbers into letters with `chr`. Both numbers and letters can be added together, but there's a difference in what comes out.\n",
        "\n"
      ]
    },
    {
      "cell_type": "code",
      "metadata": {
        "id": "C8k9iw-RgbGZ",
        "colab_type": "code",
        "colab": {
          "base_uri": "https://localhost:8080/",
          "height": 34
        },
        "outputId": "a204397f-6a37-4d69-f7ab-cb818908f2ce"
      },
      "source": [
        "2 + 2"
      ],
      "execution_count": 9,
      "outputs": [
        {
          "output_type": "execute_result",
          "data": {
            "text/plain": [
              "4"
            ]
          },
          "metadata": {
            "tags": []
          },
          "execution_count": 9
        }
      ]
    },
    {
      "cell_type": "code",
      "metadata": {
        "id": "amfE8pnAgodt",
        "colab_type": "code",
        "colab": {
          "base_uri": "https://localhost:8080/",
          "height": 35
        },
        "outputId": "0691ec93-0388-46fc-e857-1ce82dc8d3a3"
      },
      "source": [
        "\"2\" + \"2\""
      ],
      "execution_count": 10,
      "outputs": [
        {
          "output_type": "execute_result",
          "data": {
            "application/vnd.google.colaboratory.intrinsic+json": {
              "type": "string"
            },
            "text/plain": [
              "'22'"
            ]
          },
          "metadata": {
            "tags": []
          },
          "execution_count": 10
        }
      ]
    },
    {
      "cell_type": "markdown",
      "metadata": {
        "id": "lFVlaoQKhiwW",
        "colab_type": "text"
      },
      "source": [
        "\"22\" is not a letter--it is *two* letters. This element--or data type--is called a **string**. You can't do everything with a string that you can with a character, for example, this causes an error.\n"
      ]
    },
    {
      "cell_type": "code",
      "metadata": {
        "id": "e79IOO5Lguxl",
        "colab_type": "code",
        "colab": {
          "base_uri": "https://localhost:8080/",
          "height": 164
        },
        "outputId": "772d8dff-a524-4db2-ff6a-63cb48827bca"
      },
      "source": [
        "ord(\"22\")"
      ],
      "execution_count": 11,
      "outputs": [
        {
          "output_type": "error",
          "ename": "TypeError",
          "evalue": "ignored",
          "traceback": [
            "\u001b[0;31m---------------------------------------------------------------------------\u001b[0m",
            "\u001b[0;31mTypeError\u001b[0m                                 Traceback (most recent call last)",
            "\u001b[0;32m<ipython-input-11-d8c5be32e21f>\u001b[0m in \u001b[0;36m<module>\u001b[0;34m()\u001b[0m\n\u001b[0;32m----> 1\u001b[0;31m \u001b[0mord\u001b[0m\u001b[0;34m(\u001b[0m\u001b[0;34m\"22\"\u001b[0m\u001b[0;34m)\u001b[0m\u001b[0;34m\u001b[0m\u001b[0;34m\u001b[0m\u001b[0m\n\u001b[0m",
            "\u001b[0;31mTypeError\u001b[0m: ord() expected a character, but string of length 2 found"
          ]
        }
      ]
    },
    {
      "cell_type": "markdown",
      "metadata": {
        "id": "P6yna_mgiR7F",
        "colab_type": "text"
      },
      "source": [
        "## Basic Data Types\n",
        "\n",
        "There are only four basic data types in Python. They are:\n",
        "\n",
        "* strings (\"hello\")\n",
        "* integers (1, 2, 3, 4)\n",
        "* logical (True or False)\n",
        "* real numbers, or \"floats\": (1.1, 3.3, etc.)\n",
        "\n",
        "Everything else is built up out these. The difference between integers and floats probably seems odd, but it has to do with the underlying representation of numbers in the computer; every number in a computer is represented as a [fraction of two integers](https://en.wikipedia.org/wiki/Floating-point_arithmetic#:~:text=A%20floating%2Dpoint%20number%20is,%C3%971000%20or%20145%2C000%2F100.), which can lead to some weird results. For example:"
      ]
    },
    {
      "cell_type": "code",
      "metadata": {
        "id": "osPx51OriI1z",
        "colab_type": "code",
        "colab": {}
      },
      "source": [
        "1.2 - 1"
      ],
      "execution_count": null,
      "outputs": []
    },
    {
      "cell_type": "code",
      "metadata": {
        "id": "tCflHpEohf3S",
        "colab_type": "code",
        "colab": {}
      },
      "source": [
        ""
      ],
      "execution_count": 21,
      "outputs": []
    },
    {
      "cell_type": "markdown",
      "metadata": {
        "id": "NW8uMrx8kBnU",
        "colab_type": "text"
      },
      "source": [
        "## Lists\n",
        "\n",
        "But computers are not just calculators on these items. Things start to get more interesting as we bundle together items into groups. Strings are (in a conceptual sense, though actually not technically) the first instance of something called a *list*, which is a set of different items.\n",
        "\n",
        "Lists are so important that they have their own set of characters associated with them; the square brackets. You can create a list by using square brackets:"
      ]
    },
    {
      "cell_type": "code",
      "metadata": {
        "id": "DuIkCy_Mh7Mq",
        "colab_type": "code",
        "colab": {}
      },
      "source": [
        "my_list = [1, 2, 3, 4, 5]"
      ],
      "execution_count": 28,
      "outputs": []
    },
    {
      "cell_type": "markdown",
      "metadata": {
        "id": "AtigX59ukhe_",
        "colab_type": "text"
      },
      "source": [
        "And you can access the elements inside a list by using square brackets after the variable name. To get the fourth element of `my_list`, type `my_list[3]`; or to get the fifth element of a string, type `my_string[4]`.\n",
        "\n",
        "**NOTE**: One very confusing thing here is that `my_list[3]` is *not* the third element, but the *fourth* element; that's because **in python, lists start at 0**. Is this a good thing? It's not clear to me--it turns out to make some things easier, and others harder. Here's [an article](http://exple.tive.org/blarg/2013/10/22/citation-needed/), if you want to read more.\n",
        "\n",
        "But be aware that this issue will bedevil you forever in any language."
      ]
    },
    {
      "cell_type": "code",
      "metadata": {
        "id": "9yBX-ZJIkgZN",
        "colab_type": "code",
        "colab": {
          "base_uri": "https://localhost:8080/",
          "height": 34
        },
        "outputId": "72977f61-dbe9-4b15-c528-4fb1db681bd7"
      },
      "source": [
        "my_list[3]"
      ],
      "execution_count": 29,
      "outputs": [
        {
          "output_type": "execute_result",
          "data": {
            "text/plain": [
              "4"
            ]
          },
          "metadata": {
            "tags": []
          },
          "execution_count": 29
        }
      ]
    },
    {
      "cell_type": "code",
      "metadata": {
        "id": "0HO_ZgBqigMr",
        "colab_type": "code",
        "colab": {
          "base_uri": "https://localhost:8080/",
          "height": 35
        },
        "outputId": "b5745090-2a64-4a92-bf4f-d2128e7f21b8"
      },
      "source": [
        "\"Some letters\"[1]"
      ],
      "execution_count": 31,
      "outputs": [
        {
          "output_type": "execute_result",
          "data": {
            "application/vnd.google.colaboratory.intrinsic+json": {
              "type": "string"
            },
            "text/plain": [
              "'h'"
            ]
          },
          "metadata": {
            "tags": []
          },
          "execution_count": 31
        }
      ]
    },
    {
      "cell_type": "code",
      "metadata": {
        "id": "iKJjvivemqLZ",
        "colab_type": "code",
        "colab": {
          "base_uri": "https://localhost:8080/",
          "height": 35
        },
        "outputId": "3c49ca81-aca5-4e1f-efa4-dca0edc084a6"
      },
      "source": [
        "\"Some letters\"[0]"
      ],
      "execution_count": 33,
      "outputs": [
        {
          "output_type": "execute_result",
          "data": {
            "application/vnd.google.colaboratory.intrinsic+json": {
              "type": "string"
            },
            "text/plain": [
              "'S'"
            ]
          },
          "metadata": {
            "tags": []
          },
          "execution_count": 33
        }
      ]
    },
    {
      "cell_type": "code",
      "metadata": {
        "id": "rlGEfFQPnIPG",
        "colab_type": "code",
        "colab": {
          "base_uri": "https://localhost:8080/",
          "height": 35
        },
        "outputId": "644b8823-7d46-43d3-da7c-2780601bf7de"
      },
      "source": [
        "\"Some letters\"[-1]"
      ],
      "execution_count": 34,
      "outputs": [
        {
          "output_type": "execute_result",
          "data": {
            "application/vnd.google.colaboratory.intrinsic+json": {
              "type": "string"
            },
            "text/plain": [
              "'s'"
            ]
          },
          "metadata": {
            "tags": []
          },
          "execution_count": 34
        }
      ]
    },
    {
      "cell_type": "markdown",
      "metadata": {
        "id": "Sd-qbdO9mq-A",
        "colab_type": "text"
      },
      "source": [
        "You can also use colons to take out a *slice* of a list: play around with these numbers."
      ]
    },
    {
      "cell_type": "code",
      "metadata": {
        "id": "SuGxwbUhk7pk",
        "colab_type": "code",
        "colab": {
          "base_uri": "https://localhost:8080/",
          "height": 35
        },
        "outputId": "6d8e70a2-7ba6-46fa-d3cd-7cf14268bcec"
      },
      "source": [
        "\"Some letters\"[4:9]"
      ],
      "execution_count": 36,
      "outputs": [
        {
          "output_type": "execute_result",
          "data": {
            "application/vnd.google.colaboratory.intrinsic+json": {
              "type": "string"
            },
            "text/plain": [
              "' lett'"
            ]
          },
          "metadata": {
            "tags": []
          },
          "execution_count": 36
        }
      ]
    },
    {
      "cell_type": "markdown",
      "metadata": {
        "id": "rlz6GK6ynTC-",
        "colab_type": "text"
      },
      "source": [
        "# Loops and Iteration\n",
        "\n",
        "The last thing that you can do with lists--and the first place that computers start to be useful--is **loop** over them.\n",
        "\n",
        "Look at this code. It introduces three new things. \n",
        "\n",
        "1. The words `for` and `in`. These are fundamental elements of python syntax, called \"control flow operators\". They are not functions, but do make up building blocks of code.\n",
        "2. A new way to define a variable; saying `for letter in \"Some letters\"` means that the value of letter will be reassigned at each stage in the loop.\n",
        "3. An element of python syntax involving spacing. See how how \"print(letter)\" is indented? That's how you indicate what happens *inside* the loop.\n"
      ]
    },
    {
      "cell_type": "code",
      "metadata": {
        "id": "5mqm-vHAnlCI",
        "colab_type": "code",
        "colab": {
          "base_uri": "https://localhost:8080/",
          "height": 221
        },
        "outputId": "72fdfa7d-c7f5-4abf-df2c-1f01b085531a"
      },
      "source": [
        "my_string = \"Some letters\"\n",
        "\n",
        "for letter in my_string:\n",
        "  print(letter)"
      ],
      "execution_count": 39,
      "outputs": [
        {
          "output_type": "stream",
          "text": [
            "S\n",
            "o\n",
            "m\n",
            "e\n",
            " \n",
            "l\n",
            "e\n",
            "t\n",
            "t\n",
            "e\n",
            "r\n",
            "s\n"
          ],
          "name": "stdout"
        }
      ]
    },
    {
      "cell_type": "markdown",
      "metadata": {
        "id": "6tcVRLW41dqJ",
        "colab_type": "text"
      },
      "source": [
        "## While loops\n",
        "\n",
        "Another type of loop is a 'while' loop. It runs a test at every stage in the loop. We can use this, say, to print a table of numbers and their codes.\n"
      ]
    },
    {
      "cell_type": "code",
      "metadata": {
        "id": "n349li3Cno3v",
        "colab_type": "code",
        "colab": {
          "base_uri": "https://localhost:8080/",
          "height": 1000
        },
        "outputId": "285ac3d4-95dc-4939-f64c-8414615bf44e"
      },
      "source": [
        "i = 0\n",
        "\n",
        "while i < 128:\n",
        "  i = i+1\n",
        "  print(i, chr(i))\n"
      ],
      "execution_count": 74,
      "outputs": [
        {
          "output_type": "stream",
          "text": [
            "1 \u0001\n",
            "2 \u0002\n",
            "3 \u0003\n",
            "4 \u0004\n",
            "5 \u0005\n",
            "6 \u0006\n",
            "7 \u0007\n",
            "8 \b\n",
            "9 \t\n",
            "10 \n",
            "\n",
            "11 \u000b\n",
            "12 \f\n",
            "13 \r\n",
            "14 \u000e\n",
            "15 \u000f\n",
            "16 \u0010\n",
            "17 \u0011\n",
            "18 \u0012\n",
            "19 \u0013\n",
            "20 \u0014\n",
            "21 \u0015\n",
            "22 \u0016\n",
            "23 \u0017\n",
            "24 \u0018\n",
            "25 \u0019\n",
            "26 \u001a\n",
            "27 \u001b\n",
            "28 \u001c\n",
            "29 \u001d\n",
            "30 \u001e\n",
            "31 \u001f\n",
            "32  \n",
            "33 !\n",
            "34 \"\n",
            "35 #\n",
            "36 $\n",
            "37 %\n",
            "38 &\n",
            "39 '\n",
            "40 (\n",
            "41 )\n",
            "42 *\n",
            "43 +\n",
            "44 ,\n",
            "45 -\n",
            "46 .\n",
            "47 /\n",
            "48 0\n",
            "49 1\n",
            "50 2\n",
            "51 3\n",
            "52 4\n",
            "53 5\n",
            "54 6\n",
            "55 7\n",
            "56 8\n",
            "57 9\n",
            "58 :\n",
            "59 ;\n",
            "60 <\n",
            "61 =\n",
            "62 >\n",
            "63 ?\n",
            "64 @\n",
            "65 A\n",
            "66 B\n",
            "67 C\n",
            "68 D\n",
            "69 E\n",
            "70 F\n",
            "71 G\n",
            "72 H\n",
            "73 I\n",
            "74 J\n",
            "75 K\n",
            "76 L\n",
            "77 M\n",
            "78 N\n",
            "79 O\n",
            "80 P\n",
            "81 Q\n",
            "82 R\n",
            "83 S\n",
            "84 T\n",
            "85 U\n",
            "86 V\n",
            "87 W\n",
            "88 X\n",
            "89 Y\n",
            "90 Z\n",
            "91 [\n",
            "92 \\\n",
            "93 ]\n",
            "94 ^\n",
            "95 _\n",
            "96 `\n",
            "97 a\n",
            "98 b\n",
            "99 c\n",
            "100 d\n",
            "101 e\n",
            "102 f\n",
            "103 g\n",
            "104 h\n",
            "105 i\n",
            "106 j\n",
            "107 k\n",
            "108 l\n",
            "109 m\n",
            "110 n\n",
            "111 o\n",
            "112 p\n",
            "113 q\n",
            "114 r\n",
            "115 s\n",
            "116 t\n",
            "117 u\n",
            "118 v\n",
            "119 w\n",
            "120 x\n",
            "121 y\n",
            "122 z\n",
            "123 {\n",
            "124 |\n",
            "125 }\n",
            "126 ~\n",
            "127 \n",
            "128 \n"
          ],
          "name": "stdout"
        }
      ]
    },
    {
      "cell_type": "markdown",
      "metadata": {
        "id": "Rje1rhsn18sW",
        "colab_type": "text"
      },
      "source": [
        "## Infinite Loops\n",
        "\n",
        "Be careful to make sure something changes inside your while loop--otherwise, it might run forever! The code below should never stop. Try running it; to \"break\" the block, you can press the play button next to the cell. After you're done, run the cell below to see how large \"i\" has gotten.\n",
        "\n",
        "If there were a print statement inside this loop, it would cause havoc."
      ]
    },
    {
      "cell_type": "code",
      "metadata": {
        "id": "Z3qiM_Y5nxoC",
        "colab_type": "code",
        "colab": {
          "base_uri": "https://localhost:8080/",
          "height": 198
        },
        "outputId": "21a317dc-084a-4b35-eda2-b6c7838a8fab"
      },
      "source": [
        "i = 1\n",
        "while i > 0:\n",
        "  i = i+1"
      ],
      "execution_count": 70,
      "outputs": [
        {
          "output_type": "error",
          "ename": "KeyboardInterrupt",
          "evalue": "ignored",
          "traceback": [
            "\u001b[0;31m---------------------------------------------------------------------------\u001b[0m",
            "\u001b[0;31mKeyboardInterrupt\u001b[0m                         Traceback (most recent call last)",
            "\u001b[0;32m<ipython-input-70-1d27ce643ec8>\u001b[0m in \u001b[0;36m<module>\u001b[0;34m()\u001b[0m\n\u001b[1;32m      1\u001b[0m \u001b[0mi\u001b[0m \u001b[0;34m=\u001b[0m \u001b[0;36m1\u001b[0m\u001b[0;34m\u001b[0m\u001b[0;34m\u001b[0m\u001b[0m\n\u001b[0;32m----> 2\u001b[0;31m \u001b[0;32mwhile\u001b[0m \u001b[0mi\u001b[0m \u001b[0;34m>\u001b[0m \u001b[0;36m0\u001b[0m\u001b[0;34m:\u001b[0m\u001b[0;34m\u001b[0m\u001b[0;34m\u001b[0m\u001b[0m\n\u001b[0m\u001b[1;32m      3\u001b[0m   \u001b[0mi\u001b[0m \u001b[0;34m=\u001b[0m \u001b[0mi\u001b[0m\u001b[0;34m+\u001b[0m\u001b[0;36m1\u001b[0m\u001b[0;34m\u001b[0m\u001b[0;34m\u001b[0m\u001b[0m\n",
            "\u001b[0;31mKeyboardInterrupt\u001b[0m: "
          ]
        }
      ]
    },
    {
      "cell_type": "code",
      "metadata": {
        "id": "qW1PeT1XuBuS",
        "colab_type": "code",
        "colab": {}
      },
      "source": [
        ""
      ],
      "execution_count": 78,
      "outputs": []
    },
    {
      "cell_type": "markdown",
      "metadata": {
        "id": "NQCP6lDm7Kuv",
        "colab_type": "text"
      },
      "source": [
        "## Ways of making lists\n",
        "\n",
        "There loads of ways to make a list. Here are several ways of making exactly the same list.\n",
        "\n"
      ]
    },
    {
      "cell_type": "markdown",
      "metadata": {
        "id": "1hMW-oRa8dms",
        "colab_type": "text"
      },
      "source": [
        "Another way to make lists is to add them together. Often you'll define an empty list with `[]`; and then add on to it. By coupling this with a variable that gets larger each loop, you can generate a bunch of characters in a row."
      ]
    },
    {
      "cell_type": "code",
      "metadata": {
        "id": "J1rFSoqd92yz",
        "colab_type": "code",
        "colab": {
          "base_uri": "https://localhost:8080/",
          "height": 34
        },
        "outputId": "5c0decdf-7b14-496d-bee6-8ae4de73d405"
      },
      "source": [
        "hands = []\n",
        "char = 128070\n",
        "while char < 128081:\n",
        "  hands = hands + [chr(char)]\n",
        "  char = char + 1\n",
        "hands"
      ],
      "execution_count": 103,
      "outputs": [
        {
          "output_type": "execute_result",
          "data": {
            "text/plain": [
              "['👆', '👇', '👈', '👉', '👊', '👋', '👌', '👍', '👎', '👏', '👐']"
            ]
          },
          "metadata": {
            "tags": []
          },
          "execution_count": 103
        }
      ]
    },
    {
      "cell_type": "markdown",
      "metadata": {
        "id": "fiH_kc8W--66",
        "colab_type": "text"
      },
      "source": [
        "This process is so common that there's a function called `range` that takes care of adding the numbers up for you. It generates all the numbers between any two points; in doing so, it means that you don't have to write `i = 0; i = i+1` all the time."
      ]
    },
    {
      "cell_type": "code",
      "metadata": {
        "id": "IB8qV5XI7m1X",
        "colab_type": "code",
        "colab": {
          "base_uri": "https://localhost:8080/",
          "height": 34
        },
        "outputId": "5c61a73e-41ea-4bb6-aefb-598e231456ed"
      },
      "source": [
        "hands = []\n",
        "for char in range(128070, 128081):\n",
        "  hands = hands + [chr(char)]\n",
        "hands"
      ],
      "execution_count": 106,
      "outputs": [
        {
          "output_type": "execute_result",
          "data": {
            "text/plain": [
              "['👆', '👇', '👈', '👉', '👊', '👋', '👌', '👍', '👎', '👏', '👐']"
            ]
          },
          "metadata": {
            "tags": []
          },
          "execution_count": 106
        }
      ]
    },
    {
      "cell_type": "markdown",
      "metadata": {
        "id": "YCv_KItD84-k",
        "colab_type": "text"
      },
      "source": [
        "One last way involves a different way of using functions; adding a **dot** to the end of a variable name. By calling `hands.append(chr(i))`, you can add to the end of a list."
      ]
    },
    {
      "cell_type": "code",
      "metadata": {
        "id": "KFUUeovD8jPP",
        "colab_type": "code",
        "colab": {
          "base_uri": "https://localhost:8080/",
          "height": 34
        },
        "outputId": "5893fd51-2526-478a-853d-77063c6e7735"
      },
      "source": [
        "hands = []\n",
        "for char in range(128070, 128081):\n",
        "  hands.append(chr(char))\n",
        "hands"
      ],
      "execution_count": 107,
      "outputs": [
        {
          "output_type": "execute_result",
          "data": {
            "text/plain": [
              "['👆', '👇', '👈', '👉', '👊', '👋', '👌', '👍', '👎', '👏', '👐']"
            ]
          },
          "metadata": {
            "tags": []
          },
          "execution_count": 107
        }
      ]
    },
    {
      "cell_type": "markdown",
      "metadata": {
        "id": "GaV8ulwv_OjU",
        "colab_type": "text"
      },
      "source": [
        "Finally, you can actually make a list *all at once* without explicitly calling the for loop by putting a `for` statement inside square brackets."
      ]
    },
    {
      "cell_type": "code",
      "metadata": {
        "id": "CQVdzj-O65LE",
        "colab_type": "code",
        "colab": {
          "base_uri": "https://localhost:8080/",
          "height": 34
        },
        "outputId": "d74e72f2-d601-4caa-efc5-df306a9cf724"
      },
      "source": [
        "hands = [chr(i) for i in range(128070, 128081)]\n",
        "hands"
      ],
      "execution_count": 108,
      "outputs": [
        {
          "output_type": "execute_result",
          "data": {
            "text/plain": [
              "['👆', '👇', '👈', '👉', '👊', '👋', '👌', '👍', '👎', '👏', '👐']"
            ]
          },
          "metadata": {
            "tags": []
          },
          "execution_count": 108
        }
      ]
    },
    {
      "cell_type": "markdown",
      "metadata": {
        "id": "YHd2JNCC6kAW",
        "colab_type": "text"
      },
      "source": [
        "## Complicated loops\n",
        "\n",
        "You can nest loops inside of loops to build complicated things. This is probably a little too much for week two; but see if you can understand what's going on here. Try changing some elements; for instance, what happens if you put two spaces in front of the line `print(all_images_for_point)`?"
      ]
    },
    {
      "cell_type": "code",
      "metadata": {
        "id": "CI1yJ6TXuN5n",
        "colab_type": "code",
        "colab": {
          "base_uri": "https://localhost:8080/",
          "height": 204
        },
        "outputId": "987c4243-62ec-4f80-d8b4-52fbfec03755"
      },
      "source": [
        "hands = [chr(i) for i in range(128070, 128081)]\n",
        "skin_colors = [chr(i) for i in range(127995, 128000)]\n",
        "\n",
        "for hand in hands:\n",
        "  all_images_for_point = hand\n",
        "  for color in skin_colors:\n",
        "    all_images_for_point = all_images_for_point + hand + color\n",
        "  print(all_images_for_point)\n"
      ],
      "execution_count": 121,
      "outputs": [
        {
          "output_type": "stream",
          "text": [
            "👆👆🏻👆🏼👆🏽👆🏾👆🏿\n",
            "👇👇🏻👇🏼👇🏽👇🏾👇🏿\n",
            "👈👈🏻👈🏼👈🏽👈🏾👈🏿\n",
            "👉👉🏻👉🏼👉🏽👉🏾👉🏿\n",
            "👊👊🏻👊🏼👊🏽👊🏾👊🏿\n",
            "👋👋🏻👋🏼👋🏽👋🏾👋🏿\n",
            "👌👌🏻👌🏼👌🏽👌🏾👌🏿\n",
            "👍👍🏻👍🏼👍🏽👍🏾👍🏿\n",
            "👎👎🏻👎🏼👎🏽👎🏾👎🏿\n",
            "👏👏🏻👏🏼👏🏽👏🏾👏🏿\n",
            "👐👐🏻👐🏼👐🏽👐🏾👐🏿\n"
          ],
          "name": "stdout"
        }
      ]
    },
    {
      "cell_type": "markdown",
      "metadata": {
        "id": "LzJmUr9__8V4",
        "colab_type": "text"
      },
      "source": [
        "Find another range of characters *besides* `range(128070, 128081)` where this works."
      ]
    },
    {
      "cell_type": "code",
      "metadata": {
        "id": "4RB61EA4_tUS",
        "colab_type": "code",
        "colab": {}
      },
      "source": [
        "# See this hash symbol here? It's a comment character. Anything after is only for people to read,\n",
        "# not computers.\n",
        "\n",
        "# ZWJ is a special unicode character that binds things together.\n",
        "zwj = chr(8205)"
      ],
      "execution_count": 122,
      "outputs": []
    },
    {
      "cell_type": "code",
      "metadata": {
        "id": "B5FXHaYwATWw",
        "colab_type": "code",
        "colab": {
          "base_uri": "https://localhost:8080/",
          "height": 119
        },
        "outputId": "9009ebed-921e-41c7-a927-eb5e22d2fccc"
      },
      "source": [
        "genders = [\"\\U0001F468\", \"\\U0001F469\"]\n",
        "skin_colors = [chr(i) for i in range(127996, 128000)]\n",
        "joiner_character = \"\\u200D\"\n",
        "professions = [\"🎤\", \"💻\"]\n",
        "for profession in professions:\n",
        "  print(\"PROFESSION--\" + profession)\n",
        "  for gender in genders:\n",
        "    print(gender + joiner_character + profession)\n",
        "\n"
      ],
      "execution_count": 158,
      "outputs": [
        {
          "output_type": "stream",
          "text": [
            "PROFESSION--🎤\n",
            "👨‍🎤\n",
            "👩‍🎤\n",
            "PROFESSION--💻\n",
            "👨‍💻\n",
            "👩‍💻\n"
          ],
          "name": "stdout"
        }
      ]
    },
    {
      "cell_type": "markdown",
      "metadata": {
        "id": "j1EjbCbvaQ4A",
        "colab_type": "text"
      },
      "source": [
        "Two last special characters to be aware of: \"\\r\" and \"\\r\".\n",
        "\n",
        "\"\\n\" means \"newline\". \n"
      ]
    },
    {
      "cell_type": "code",
      "metadata": {
        "id": "tQVoqGSNRASp",
        "colab_type": "code",
        "colab": {
          "base_uri": "https://localhost:8080/",
          "height": 68
        },
        "outputId": "11da4e55-b946-481e-e46f-1656d94b2a08"
      },
      "source": [
        "print(\"Hello\\n\\nHello, yourself.\")"
      ],
      "execution_count": 169,
      "outputs": [
        {
          "output_type": "stream",
          "text": [
            "Hello\n",
            "\n",
            "Hello, yourself.\n"
          ],
          "name": "stdout"
        }
      ]
    },
    {
      "cell_type": "code",
      "metadata": {
        "id": "RqEndUK7RVyF",
        "colab_type": "code",
        "colab": {}
      },
      "source": [
        "i = 0\n",
        "while True:\n",
        "  i = i + 1\n",
        "  print(i, end = \"\\r\")"
      ],
      "execution_count": null,
      "outputs": []
    },
    {
      "cell_type": "code",
      "metadata": {
        "id": "0zxv6vgBX4kD",
        "colab_type": "code",
        "colab": {
          "base_uri": "https://localhost:8080/",
          "height": 1000
        },
        "outputId": "de9ced34-8df4-43da-8e78-bc6a22fcab45"
      },
      "source": [
        ""
      ],
      "execution_count": 167,
      "outputs": [
        {
          "output_type": "stream",
          "text": [
            "\u0000\r\u0000\r\u0000\r\u0000\r\u0000\r\u0000\r\u0000\r\u0000\r\u0000\r\u0000\r\u0000\r\u0000\r\u0000\r\u0000\r\u0000\r\u0000\r\u0000\r\u0000\r\u0000\r\u0000\r\u0000\r\u0000\r\u0000\r\u0000\r\u0000\r\u0000\r\u0000\r\u0000\r\u0000\r\u0000\r\u0000\r\u0000\r\u0000\r\u0000\r\u0000\r\u0000\r\u0000\r\u0000\r\u0000\r\u0000\r\u0000\r\u0000\r\u0000\r\u0000\r\u0000\r\u0000\r\u0000\r\u0000\r\u0000\r\u0000\r\u0000\r\u0000\r\u0000\r\u0000\r\u0000\r\u0000\r\u0000\r\u0000\r\u0000\r\u0000\r\u0000\r\u0000\r\u0000\r\u0000\r\u0000\r\u0000\r\u0000\r\u0000\r\u0000\r\u0000\r\u0000\r\u0000\r\u0000\r\u0000\r\u0000\r\u0000\r\u0000\r\u0000\r\u0000\r\u0000\r\u0000\r\u0000\r\u0000\r\u0000\r\u0000\r\u0000\r\u0000\r\u0000\r\u0000\r\u0000\r\u0000\r\u0000\r\u0000\r\u0000\r\u0000\r\u0000\r\u0000\r\u0000\r\u0000\r\u0000\r\u0000\r\u0000\r\u0000\r\u0000\r\u0000\r\u0000\r\u0000\r\u0000\r\u0000\r\u0000\r\u0000\r\u0000\r\u0000\r\u0000\r\u0000\r\u0000\r\u0000\r\u0000\r\u0000\r\u0000\r\u0000\r\u0000\r\u0000\r\u0000\r\u0000\r\u0000\r\u0000\r\u0000\r\u0000\r\u0000\r\u0000\r\u0000\r\u0000\r\u0000\r\u0000\r\u0000\r\u0000\r\u0000\r\u0000\r\u0000\r\u0000\r\u0000\r\u0000\r\u0000\r\u0000\r\u0000\r\u0000\r\u0000\r\u0000\r\u0000\r\u0000\r\u0000\r\u0000\r\u0000\r\u0000\r\u0000\r\u0000\r\u0000\r\u0000\r\u0000\r\u0000\r\u0000\r\u0000\r\u0000\r\u0000\r\u0000\r\u0000\r\u0000\r\u0000\r\u0000\r\u0000\r\u0000\r\u0000\r\u0000\r\u0000\r\u0000\r\u0000\r\u0000\r\u0000\r\u0000\r\u0000\r\u0000\r\u0000\r\u0000\r\u0000\r\u0000\r\u0000\r\u0000\r\u0000\r\u0000\r\u0000\r\u0000\r\u0000\r\u0000\r\u0000\r\u0000\r\u0000\r\u0000\r\u0000\r\u0000\r\u0001\r\u0001\r\u0001\r\u0001\r\u0001\r\u0001\r\u0001\r\u0001\r\u0001\r\u0001\r\u0001\r\u0001\r\u0001\r\u0001\r\u0001\r\u0001\r\u0001\r\u0001\r\u0001\r\u0001\r\u0001\r\u0001\r\u0001\r\u0001\r\u0001\r\u0001\r\u0001\r\u0001\r\u0001\r\u0001\r\u0001\r\u0001\r\u0001\r\u0001\r\u0001\r\u0001\r\u0001\r\u0001\r\u0001\r\u0001\r\u0001\r\u0001\r\u0001\r\u0001\r\u0001\r\u0001\r\u0001\r\u0001\r\u0001\r\u0001\r\u0001\r\u0001\r\u0001\r\u0001\r\u0001\r\u0001\r\u0001\r\u0001\r\u0001\r\u0001\r\u0001\r\u0001\r\u0001\r\u0001\r\u0001\r\u0001\r\u0001\r\u0001\r\u0001\r\u0001\r\u0001\r\u0001\r\u0001\r\u0001\r\u0001\r\u0001\r\u0001\r\u0001\r\u0001\r\u0001\r\u0001\r\u0001\r\u0001\r\u0001\r\u0001\r\u0001\r\u0001\r\u0001\r\u0001\r\u0001\r\u0001\r\u0001\r\u0001\r\u0001\r\u0001\r\u0001\r\u0001\r\u0001\r\u0001\r\u0001\r\u0001\r\u0001\r\u0001\r\u0001\r\u0001\r\u0001\r\u0001\r\u0001\r\u0001\r\u0001\r\u0001\r\u0001\r\u0001\r\u0001\r\u0001\r\u0001\r\u0001\r\u0001\r\u0001\r\u0001\r\u0001\r\u0001\r\u0001\r\u0001\r\u0001\r\u0001\r\u0001\r\u0001\r\u0001\r\u0001\r\u0001\r\u0001\r\u0001\r\u0001\r\u0001\r\u0001\r\u0001\r\u0001\r\u0001\r\u0001\r\u0001\r\u0001\r\u0001\r\u0001\r\u0001\r\u0001\r\u0001\r\u0001\r\u0001\r\u0001\r\u0001\r\u0001\r\u0001\r\u0001\r\u0001\r\u0001\r\u0001\r\u0001\r\u0001\r\u0001\r\u0001\r\u0001\r\u0001\r\u0001\r\u0001\r\u0001\r\u0001\r\u0001\r\u0001\r\u0001\r\u0001\r\u0001\r\u0001\r\u0001\r\u0001\r\u0001\r\u0001\r\u0001\r\u0001\r\u0001\r\u0001\r\u0001\r\u0001\r\u0001\r\u0001\r\u0001\r\u0001\r\u0001\r\u0001\r\u0001\r\u0001\r\u0001\r\u0001\r\u0001\r\u0001\r\u0001\r\u0001\r\u0001\r\u0001\r\u0001\r\u0002\r\u0002\r\u0002\r\u0002\r\u0002\r\u0002\r\u0002\r\u0002\r\u0002\r\u0002\r\u0002\r\u0002\r\u0002\r\u0002\r\u0002\r\u0002\r\u0002\r\u0002\r\u0002\r\u0002\r\u0002\r\u0002\r\u0002\r\u0002\r\u0002\r\u0002\r\u0002\r\u0002\r\u0002\r\u0002\r\u0002\r\u0002\r\u0002\r\u0002\r\u0002\r\u0002\r\u0002\r\u0002\r\u0002\r\u0002\r\u0002\r\u0002\r\u0002\r\u0002\r\u0002\r\u0002\r\u0002\r\u0002\r\u0002\r\u0002\r\u0002\r\u0002\r\u0002\r\u0002\r\u0002\r\u0002\r\u0002\r\u0002\r\u0002\r\u0002\r\u0002\r\u0002\r\u0002\r\u0002\r\u0002\r\u0002\r\u0002\r\u0002\r\u0002\r\u0002\r\u0002\r\u0002\r\u0002\r\u0002\r\u0002\r\u0002\r\u0002\r\u0002\r\u0002\r\u0002\r\u0002\r\u0002\r\u0002\r\u0002\r\u0002\r\u0002\r\u0002\r\u0002\r\u0002\r\u0002\r\u0002\r\u0002\r\u0002\r\u0002\r\u0002\r\u0002\r\u0002\r\u0002\r\u0002\r\u0002\r\u0002\r\u0002\r\u0002\r\u0002\r\u0002\r\u0002\r\u0002\r\u0002\r\u0002\r\u0002\r\u0002\r\u0002\r\u0002\r\u0002\r\u0002\r\u0002\r\u0002\r\u0002\r\u0002\r\u0002\r\u0002\r\u0002\r\u0002\r\u0002\r\u0002\r\u0002\r\u0002\r\u0002\r\u0002\r\u0002\r\u0002\r\u0002\r\u0002\r\u0002\r\u0002\r\u0002\r\u0002\r\u0002\r\u0002\r\u0002\r\u0002\r\u0002\r\u0002\r\u0002\r\u0002\r\u0002\r\u0002\r\u0002\r\u0002\r\u0002\r\u0002\r\u0002\r\u0002\r\u0002\r\u0002\r\u0002\r\u0002\r\u0002\r\u0002\r\u0002\r\u0002\r\u0002\r\u0002\r\u0002\r\u0002\r\u0002\r\u0002\r\u0002\r\u0002\r\u0002\r\u0002\r\u0002\r\u0002\r\u0002\r\u0002\r\u0002\r\u0002\r\u0002\r\u0002\r\u0002\r\u0002\r\u0002\r\u0002\r\u0002\r\u0002\r\u0002\r\u0002\r\u0002\r\u0002\r\u0002\r\u0002\r\u0002\r\u0002\r\u0002\r\u0002\r\u0002\r\u0002\r\u0002\r\u0002\r\u0002\r\u0003\r\u0003\r\u0003\r\u0003\r\u0003\r\u0003\r\u0003\r\u0003\r\u0003\r\u0003\r\u0003\r\u0003\r\u0003\r\u0003\r\u0003\r\u0003\r\u0003\r\u0003\r\u0003\r\u0003\r\u0003\r\u0003\r\u0003\r\u0003\r\u0003\r\u0003\r\u0003\r\u0003\r\u0003\r\u0003\r\u0003\r\u0003\r\u0003\r\u0003\r\u0003\r\u0003\r\u0003\r\u0003\r\u0003\r\u0003\r\u0003\r\u0003\r\u0003\r\u0003\r\u0003\r\u0003\r\u0003\r\u0003\r\u0003\r\u0003\r\u0003\r\u0003\r\u0003\r\u0003\r\u0003\r\u0003\r\u0003\r\u0003\r\u0003\r\u0003\r\u0003\r\u0003\r\u0003\r\u0003\r\u0003\r\u0003\r\u0003\r\u0003\r\u0003\r\u0003\r\u0003\r\u0003\r\u0003\r\u0003\r\u0003\r\u0003\r\u0003\r\u0003\r\u0003\r\u0003\r\u0003\r\u0003\r\u0003\r\u0003\r\u0003\r\u0003\r\u0003\r\u0003\r\u0003\r\u0003\r\u0003\r\u0003\r\u0003\r\u0003\r\u0003\r\u0003\r\u0003\r\u0003\r\u0003\r\u0003\r\u0003\r\u0003\r\u0003\r\u0003\r\u0003\r\u0003\r\u0003\r\u0003\r\u0003\r\u0003\r\u0003\r\u0003\r\u0003\r\u0003\r\u0003\r\u0003\r\u0003\r\u0003\r\u0003\r\u0003\r\u0003\r\u0003\r\u0003\r\u0003\r\u0003\r\u0003\r\u0003\r\u0003\r\u0003\r\u0003\r\u0003\r\u0003\r\u0003\r\u0003\r\u0003\r\u0003\r\u0003\r\u0003\r\u0003\r\u0003\r\u0003\r\u0003\r\u0003\r\u0003\r\u0003\r\u0003\r\u0003\r\u0003\r\u0003\r\u0003\r\u0003\r\u0003\r\u0003\r\u0003\r\u0003\r\u0003\r\u0003\r\u0003\r\u0003\r\u0003\r\u0003\r\u0003\r\u0003\r\u0003\r\u0003\r\u0003\r\u0003\r\u0003\r\u0003\r\u0003\r\u0003\r\u0003\r\u0003\r\u0003\r\u0003\r\u0003\r\u0003\r\u0003\r\u0003\r\u0003\r\u0003\r\u0003\r\u0003\r\u0003\r\u0003\r\u0003\r\u0003\r\u0003\r\u0003\r\u0003\r\u0003\r\u0003\r\u0003\r\u0003\r\u0003\r\u0003\r\u0003\r\u0003\r\u0003\r\u0003\r\u0004\r\u0004\r\u0004\r\u0004\r\u0004\r\u0004\r\u0004\r\u0004\r\u0004\r\u0004\r\u0004\r\u0004\r\u0004\r\u0004\r\u0004\r\u0004\r\u0004\r\u0004\r\u0004\r\u0004\r\u0004\r\u0004\r\u0004\r\u0004\r\u0004\r\u0004\r\u0004\r\u0004\r\u0004\r\u0004\r\u0004\r\u0004\r\u0004\r\u0004\r\u0004\r\u0004\r\u0004\r\u0004\r\u0004\r\u0004\r\u0004\r\u0004\r\u0004\r\u0004\r\u0004\r\u0004\r\u0004\r\u0004\r\u0004\r\u0004\r\u0004\r\u0004\r\u0004\r\u0004\r\u0004\r\u0004\r\u0004\r\u0004\r\u0004\r\u0004\r\u0004\r\u0004\r\u0004\r\u0004\r\u0004\r\u0004\r\u0004\r\u0004\r\u0004\r\u0004\r\u0004\r\u0004\r\u0004\r\u0004\r\u0004\r\u0004\r\u0004\r\u0004\r\u0004\r\u0004\r\u0004\r\u0004\r\u0004\r\u0004\r\u0004\r\u0004\r\u0004\r\u0004\r\u0004\r\u0004\r\u0004\r\u0004\r\u0004\r\u0004\r\u0004\r\u0004\r\u0004\r\u0004\r\u0004\r\u0004\r\u0004\r\u0004\r\u0004\r\u0004\r\u0004\r\u0004\r\u0004\r\u0004\r\u0004\r\u0004\r\u0004\r\u0004\r\u0004\r\u0004\r\u0004\r\u0004\r\u0004\r\u0004\r\u0004\r\u0004\r\u0004\r\u0004\r\u0004\r\u0004\r\u0004\r\u0004\r\u0004\r\u0004\r\u0004\r\u0004\r\u0004\r\u0004\r\u0004\r\u0004\r\u0004\r\u0004\r\u0004\r\u0004\r\u0004\r\u0004\r\u0004\r\u0004\r\u0004\r\u0004\r\u0004\r\u0004\r\u0004\r\u0004\r\u0004\r\u0004\r\u0004\r\u0004\r\u0004\r\u0004\r\u0004\r\u0004\r\u0004\r\u0004\r\u0004\r\u0004\r\u0004\r\u0004\r\u0004\r\u0004\r\u0004\r\u0004\r\u0004\r\u0004\r\u0004\r\u0004\r\u0004\r\u0004\r\u0004\r\u0004\r\u0004\r\u0004\r\u0004\r\u0004\r\u0004\r\u0004\r\u0004\r\u0004\r\u0004\r\u0004\r\u0004\r\u0004\r\u0004\r\u0004\r\u0004\r\u0004\r\u0004\r\u0004\r\u0004\r\u0004\r\u0004\r\u0004\r\u0004\r\u0004\r\u0004\r\u0004\r\u0005\r\u0005\r\u0005\r\u0005\r\u0005\r\u0005\r\u0005\r\u0005\r\u0005\r\u0005\r\u0005\r\u0005\r\u0005\r\u0005\r\u0005\r\u0005\r\u0005\r\u0005\r\u0005\r\u0005\r\u0005\r\u0005\r\u0005\r\u0005\r\u0005\r\u0005\r\u0005\r\u0005\r\u0005\r\u0005\r\u0005\r\u0005\r\u0005\r\u0005\r\u0005\r\u0005\r\u0005\r\u0005\r\u0005\r\u0005\r\u0005\r\u0005\r\u0005\r\u0005\r\u0005\r\u0005\r\u0005\r\u0005\r\u0005\r\u0005\r\u0005\r\u0005\r\u0005\r\u0005\r\u0005\r\u0005\r\u0005\r\u0005\r\u0005\r\u0005\r\u0005\r\u0005\r\u0005\r\u0005\r\u0005\r\u0005\r\u0005\r\u0005\r\u0005\r\u0005\r\u0005\r\u0005\r\u0005\r\u0005\r\u0005\r\u0005\r\u0005\r\u0005\r\u0005\r\u0005\r\u0005\r\u0005\r\u0005\r\u0005\r\u0005\r\u0005\r\u0005\r\u0005\r\u0005\r\u0005\r\u0005\r\u0005\r\u0005\r\u0005\r\u0005\r\u0005\r\u0005\r\u0005\r\u0005\r\u0005\r\u0005\r\u0005\r\u0005\r\u0005\r\u0005\r\u0005\r\u0005\r\u0005\r\u0005\r\u0005\r\u0005\r\u0005\r\u0005\r\u0005\r\u0005\r\u0005\r\u0005\r\u0005\r\u0005\r\u0005\r\u0005\r\u0005\r\u0005\r\u0005\r\u0005\r\u0005\r\u0005\r\u0005\r\u0005\r\u0005\r\u0005\r\u0005\r\u0005\r\u0005\r\u0005\r\u0005\r\u0005\r\u0005\r\u0005\r\u0005\r\u0005\r\u0005\r\u0005\r\u0005\r\u0005\r\u0005\r\u0005\r\u0005\r\u0005\r\u0005\r\u0005\r\u0005\r\u0005\r\u0005\r\u0005\r\u0005\r\u0005\r\u0005\r\u0005\r\u0005\r\u0005\r\u0005\r\u0005\r\u0005\r\u0005\r\u0005\r\u0005\r\u0005\r\u0005\r\u0005\r\u0005\r\u0005\r\u0005\r\u0005\r\u0005\r\u0005\r\u0005\r\u0005\r\u0005\r\u0005\r\u0005\r\u0005\r\u0005\r\u0005\r\u0005\r\u0005\r\u0005\r\u0005\r\u0005\r\u0005\r\u0005\r\u0005\r\u0005\r\u0005\r\u0005\r\u0005\r\u0005\r\u0005\r\u0005\r\u0005\r\u0006\r\u0006\r\u0006\r\u0006\r\u0006\r\u0006\r\u0006\r\u0006\r\u0006\r\u0006\r\u0006\r\u0006\r\u0006\r\u0006\r\u0006\r\u0006\r\u0006\r\u0006\r\u0006\r\u0006\r\u0006\r\u0006\r\u0006\r\u0006\r\u0006\r\u0006\r\u0006\r\u0006\r\u0006\r\u0006\r\u0006\r\u0006\r\u0006\r\u0006\r\u0006\r\u0006\r\u0006\r\u0006\r\u0006\r\u0006\r\u0006\r\u0006\r\u0006\r\u0006\r\u0006\r\u0006\r\u0006\r\u0006\r\u0006\r\u0006\r\u0006\r\u0006\r\u0006\r\u0006\r\u0006\r\u0006\r\u0006\r\u0006\r\u0006\r\u0006\r\u0006\r\u0006\r\u0006\r\u0006\r\u0006\r\u0006\r\u0006\r\u0006\r\u0006\r\u0006\r\u0006\r\u0006\r\u0006\r\u0006\r\u0006\r\u0006\r\u0006\r\u0006\r\u0006\r\u0006\r\u0006\r\u0006\r\u0006\r\u0006\r\u0006\r\u0006\r\u0006\r\u0006\r\u0006\r\u0006\r\u0006\r\u0006\r\u0006\r\u0006\r\u0006\r\u0006\r\u0006\r\u0006\r\u0006\r\u0006\r\u0006\r\u0006\r\u0006\r\u0006\r\u0006\r\u0006\r\u0006\r\u0006\r\u0006\r\u0006\r\u0006\r\u0006\r\u0006\r\u0006\r\u0006\r\u0006\r\u0006\r\u0006\r\u0006\r\u0006\r\u0006\r\u0006\r\u0006\r\u0006\r\u0006\r\u0006\r\u0006\r\u0006\r\u0006\r\u0006\r\u0006\r\u0006\r\u0006\r\u0006\r\u0006\r\u0006\r\u0006\r\u0006\r\u0006\r\u0006\r\u0006\r\u0006\r\u0006\r\u0006\r\u0006\r\u0006\r\u0006\r\u0006\r\u0006\r\u0006\r\u0006\r\u0006\r\u0006\r\u0006\r\u0006\r\u0006\r\u0006\r\u0006\r\u0006\r\u0006\r\u0006\r\u0006\r\u0006\r\u0006\r\u0006\r\u0006\r\u0006\r\u0006\r\u0006\r\u0006\r\u0006\r\u0006\r\u0006\r\u0006\r\u0006\r\u0006\r\u0006\r\u0006\r\u0006\r\u0006\r\u0006\r\u0006\r\u0006\r\u0006\r\u0006\r\u0006\r\u0006\r\u0006\r\u0006\r\u0006\r\u0006\r\u0006\r\u0006\r\u0006\r\u0006\r\u0006\r\u0006\r\u0006\r\u0006\r\u0006\r\u0007\r\u0007\r\u0007\r\u0007\r\u0007\r\u0007\r\u0007\r\u0007\r\u0007\r\u0007\r\u0007\r\u0007\r\u0007\r\u0007\r\u0007\r\u0007\r\u0007\r\u0007\r\u0007\r\u0007\r\u0007\r\u0007\r\u0007\r\u0007\r\u0007\r\u0007\r\u0007\r\u0007\r\u0007\r\u0007\r\u0007\r\u0007\r\u0007\r\u0007\r\u0007\r\u0007\r\u0007\r\u0007\r\u0007\r\u0007\r\u0007\r\u0007\r\u0007\r\u0007\r\u0007\r\u0007\r\u0007\r\u0007\r\u0007\r\u0007\r\u0007\r\u0007\r\u0007\r\u0007\r\u0007\r\u0007\r\u0007\r\u0007\r\u0007\r\u0007\r\u0007\r\u0007\r\u0007\r\u0007\r\u0007\r\u0007\r\u0007\r\u0007\r\u0007\r\u0007\r\u0007\r\u0007\r\u0007\r\u0007\r\u0007\r\u0007\r\u0007\r\u0007\r\u0007\r\u0007\r\u0007\r\u0007\r\u0007\r\u0007\r\u0007\r\u0007\r\u0007\r\u0007\r\u0007\r\u0007\r\u0007\r\u0007\r\u0007\r\u0007\r\u0007\r\u0007\r\u0007\r\u0007\r\u0007\r\u0007\r\u0007\r\u0007\r\u0007\r\u0007\r\u0007\r\u0007\r\u0007\r\u0007\r\u0007\r\u0007\r\u0007\r\u0007\r\u0007\r\u0007\r\u0007\r\u0007\r\u0007\r\u0007\r\u0007\r\u0007\r\u0007\r\u0007\r\u0007\r\u0007\r\u0007\r\u0007\r\u0007\r\u0007\r\u0007\r\u0007\r\u0007\r\u0007\r\u0007\r\u0007\r\u0007\r\u0007\r\u0007\r\u0007\r\u0007\r\u0007\r\u0007\r\u0007\r\u0007\r\u0007\r\u0007\r\u0007\r\u0007\r\u0007\r\u0007\r\u0007\r\u0007\r\u0007\r\u0007\r\u0007\r\u0007\r\u0007\r\u0007\r\u0007\r\u0007\r\u0007\r\u0007\r\u0007\r\u0007\r\u0007\r\u0007\r\u0007\r\u0007\r\u0007\r\u0007\r\u0007\r\u0007\r\u0007\r\u0007\r\u0007\r\u0007\r\u0007\r\u0007\r\u0007\r\u0007\r\u0007\r\u0007\r\u0007\r\u0007\r\u0007\r\u0007\r\u0007\r\u0007\r\u0007\r\u0007\r\u0007\r\u0007\r\u0007\r\u0007\r\u0007\r\u0007\r\u0007\r\u0007\r\u0007\r\u0007\r\u0007\r\b\r\b\r\b\r\b\r\b\r\b\r\b\r\b\r\b\r\b\r\b\r\b\r\b\r\b\r\b\r\b\r\b\r\b\r\b\r\b\r\b\r\b\r\b\r\b\r\b\r\b\r\b\r\b\r\b\r\b\r\b\r\b\r\b\r\b\r\b\r\b\r\b\r\b\r\b\r\b\r\b\r\b\r\b\r\b\r\b\r\b\r\b\r\b\r\b\r\b\r\b\r\b\r\b\r\b\r\b\r\b\r\b\r\b\r\b\r\b\r\b\r\b\r\b\r\b\r\b\r\b\r\b\r\b\r\b\r\b\r\b\r\b\r\b\r\b\r\b\r\b\r\b\r\b\r\b\r\b\r\b\r\b\r\b\r\b\r\b\r\b\r\b\r\b\r\b\r\b\r\b\r\b\r\b\r\b\r\b\r\b\r\b\r\b\r\b\r\b\r\b\r\b\r\b\r\b\r\b\r\b\r\b\r\b\r\b\r\b\r\b\r\b\r\b\r\b\r\b\r\b\r\b\r\b\r\b\r\b\r\b\r\b\r\b\r\b\r\b\r\b\r\b\r\b\r\b\r\b\r\b\r\b\r\b\r\b\r\b\r\b\r\b\r\b\r\b\r\b\r\b\r\b\r\b\r\b\r\b\r\b\r\b\r\b\r\b\r\b\r\b\r\b\r\b\r\b\r\b\r\b\r\b\r\b\r\b\r\b\r\b\r\b\r\b\r\b\r\b\r\b\r\b\r\b\r\b\r\b\r\b\r\b\r\b\r\b\r\b\r\b\r\b\r\b\r\b\r\b\r\b\r\b\r\b\r\b\r\b\r\b\r\b\r\b\r\b\r\b\r\b\r\b\r\b\r\b\r\b\r\b\r\b\r\b\r\b\r\b\r\t\r\t\r\t\r\t\r\t\r\t\r\t\r\t\r\t\r\t\r\t\r\t\r\t\r\t\r\t\r\t\r\t\r\t\r\t\r\t\r\t\r\t\r\t\r\t\r\t\r\t\r\t\r\t\r\t\r\t\r\t\r\t\r\t\r\t\r\t\r\t\r\t\r\t\r\t\r\t\r\t\r\t\r\t\r\t\r\t\r\t\r\t\r\t\r\t\r\t\r\t\r\t\r\t\r\t\r\t\r\t\r\t\r\t\r\t\r\t\r\t\r\t\r\t\r\t\r\t\r\t\r\t\r\t\r\t\r\t\r\t\r\t\r\t\r\t\r\t\r\t\r\t\r\t\r\t\r\t\r\t\r\t\r\t\r\t\r\t\r\t\r\t\r\t\r\t\r\t\r\t\r\t\r\t\r\t\r\t\r\t\r\t\r\t\r\t\r\t\r\t\r\t\r\t\r\t\r\t\r\t\r\t\r\t\r\t\r\t\r\t\r\t\r\t\r\t\r\t\r\t\r\t\r\t\r\t\r\t\r\t\r\t\r\t\r\t\r\t\r\t\r\t\r\t\r\t\r\t\r\t\r\t\r\t\r\t\r\t\r\t\r\t\r\t\r\t\r\t\r\t\r\t\r\t\r\t\r\t\r\t\r\t\r\t\r\t\r\t\r\t\r\t\r\t\r\t\r\t\r\t\r\t\r\t\r\t\r\t\r\t\r\t\r\t\r\t\r\t\r\t\r\t\r\t\r\t\r\t\r\t\r\t\r\t\r\t\r\t\r\t\r\t\r\t\r\t\r\t\r\t\r\t\r\t\r\t\r\t\r\t\r\t\r\t\r\t\r\t\r\t\r\t\r\t\r\t\r\t\r\t\r\t\r\t\r\t\r\t\r\n",
            "\r\n",
            "\r\n",
            "\r\n",
            "\r\n",
            "\r\n",
            "\r\n",
            "\r\n",
            "\r\n",
            "\r\n",
            "\r\n",
            "\r\n",
            "\r\n",
            "\r\n",
            "\r\n",
            "\r\n",
            "\r\n",
            "\r\n",
            "\r\n",
            "\r\n",
            "\r\n",
            "\r\n",
            "\r\n",
            "\r\n",
            "\r\n",
            "\r\n",
            "\r\n",
            "\r\n",
            "\r\n",
            "\r\n",
            "\r\n",
            "\r\n",
            "\r\n",
            "\r\n",
            "\r\n",
            "\r\n",
            "\r\n",
            "\r\n",
            "\r\n",
            "\r\n",
            "\r\n",
            "\r\n",
            "\r\n",
            "\r\n",
            "\r\n",
            "\r\n",
            "\r\n",
            "\r\n",
            "\r\n",
            "\r\n",
            "\r\n",
            "\r\n",
            "\r\n",
            "\r\n",
            "\r\n",
            "\r\n",
            "\r\n",
            "\r\n",
            "\r\n",
            "\r\n",
            "\r\n",
            "\r\n",
            "\r\n",
            "\r\n",
            "\r\n",
            "\r\n",
            "\r\n",
            "\r\n",
            "\r\n",
            "\r\n",
            "\r\n",
            "\r\n",
            "\r\n",
            "\r\n",
            "\r\n",
            "\r\n",
            "\r\n",
            "\r\n",
            "\r\n",
            "\r\n",
            "\r\n",
            "\r\n",
            "\r\n",
            "\r\n",
            "\r\n",
            "\r\n",
            "\r\n",
            "\r\n",
            "\r\n",
            "\r\n",
            "\r\n",
            "\r\n",
            "\r\n",
            "\r\n",
            "\r\n",
            "\r\n",
            "\r\n",
            "\r\n",
            "\r\n",
            "\r\n",
            "\r\n",
            "\r\n",
            "\r\n",
            "\r\n",
            "\r\n",
            "\r\n",
            "\r\n",
            "\r\n",
            "\r\n",
            "\r\n",
            "\r\n",
            "\r\n",
            "\r\n",
            "\r\n",
            "\r\n",
            "\r\n",
            "\r\n",
            "\r\n",
            "\r\n",
            "\r\n",
            "\r\n",
            "\r\n",
            "\r\n",
            "\r\n",
            "\r\n",
            "\r\n",
            "\r\n",
            "\r\n",
            "\r\n",
            "\r\n",
            "\r\n",
            "\r\n",
            "\r\n",
            "\r\n",
            "\r\n",
            "\r\n",
            "\r\n",
            "\r\n",
            "\r\n",
            "\r\n",
            "\r\n",
            "\r\n",
            "\r\n",
            "\r\n",
            "\r\n",
            "\r\n",
            "\r\n",
            "\r\n",
            "\r\n",
            "\r\n",
            "\r\n",
            "\r\n",
            "\r\n",
            "\r\n",
            "\r\n",
            "\r\n",
            "\r\n",
            "\r\n",
            "\r\n",
            "\r\n",
            "\r\n",
            "\r\n",
            "\r\n",
            "\r\n",
            "\r\n",
            "\r\n",
            "\r\n",
            "\r\n",
            "\r\n",
            "\r\n",
            "\r\n",
            "\r\n",
            "\r\n",
            "\r\n",
            "\r\n",
            "\r\n",
            "\r\n",
            "\r\n",
            "\r\n",
            "\r\n",
            "\r\n",
            "\r\n",
            "\r\n",
            "\r\n",
            "\r\n",
            "\r\n",
            "\r\n",
            "\r\n",
            "\r\n",
            "\r\n",
            "\r\n",
            "\r\n",
            "\r\n",
            "\r\n",
            "\r\n",
            "\r\n",
            "\r\n",
            "\r\n",
            "\r\n",
            "\n"
          ],
          "name": "stdout"
        },
        {
          "output_type": "error",
          "ename": "KeyboardInterrupt",
          "evalue": "ignored",
          "traceback": [
            "\u001b[0;31m---------------------------------------------------------------------------\u001b[0m",
            "\u001b[0;31mKeyboardInterrupt\u001b[0m                         Traceback (most recent call last)",
            "\u001b[0;32m<ipython-input-167-18290ea9b918>\u001b[0m in \u001b[0;36m<module>\u001b[0;34m()\u001b[0m\n\u001b[1;32m      1\u001b[0m \u001b[0;32mfor\u001b[0m \u001b[0mi\u001b[0m \u001b[0;32min\u001b[0m \u001b[0mrange\u001b[0m\u001b[0;34m(\u001b[0m\u001b[0;36m128000\u001b[0m\u001b[0;34m)\u001b[0m\u001b[0;34m:\u001b[0m\u001b[0;34m\u001b[0m\u001b[0;34m\u001b[0m\u001b[0m\n\u001b[1;32m      2\u001b[0m   \u001b[0;32mfor\u001b[0m \u001b[0mj\u001b[0m \u001b[0;32min\u001b[0m \u001b[0mrange\u001b[0m\u001b[0;34m(\u001b[0m\u001b[0;36m200\u001b[0m\u001b[0;34m)\u001b[0m\u001b[0;34m:\u001b[0m\u001b[0;34m\u001b[0m\u001b[0;34m\u001b[0m\u001b[0m\n\u001b[0;32m----> 3\u001b[0;31m     \u001b[0mprint\u001b[0m\u001b[0;34m(\u001b[0m\u001b[0mchr\u001b[0m\u001b[0;34m(\u001b[0m\u001b[0mi\u001b[0m\u001b[0;34m)\u001b[0m\u001b[0;34m,\u001b[0m \u001b[0mend\u001b[0m \u001b[0;34m=\u001b[0m \u001b[0;34m\"\\r\"\u001b[0m\u001b[0;34m)\u001b[0m\u001b[0;34m\u001b[0m\u001b[0;34m\u001b[0m\u001b[0m\n\u001b[0m",
            "\u001b[0;32m/usr/local/lib/python3.6/dist-packages/ipykernel/iostream.py\u001b[0m in \u001b[0;36mwrite\u001b[0;34m(self, string)\u001b[0m\n\u001b[1;32m    398\u001b[0m             \u001b[0mis_child\u001b[0m \u001b[0;34m=\u001b[0m \u001b[0;34m(\u001b[0m\u001b[0;32mnot\u001b[0m \u001b[0mself\u001b[0m\u001b[0;34m.\u001b[0m\u001b[0m_is_master_process\u001b[0m\u001b[0;34m(\u001b[0m\u001b[0;34m)\u001b[0m\u001b[0;34m)\u001b[0m\u001b[0;34m\u001b[0m\u001b[0;34m\u001b[0m\u001b[0m\n\u001b[1;32m    399\u001b[0m             \u001b[0;31m# only touch the buffer in the IO thread to avoid races\u001b[0m\u001b[0;34m\u001b[0m\u001b[0;34m\u001b[0m\u001b[0;34m\u001b[0m\u001b[0m\n\u001b[0;32m--> 400\u001b[0;31m             \u001b[0mself\u001b[0m\u001b[0;34m.\u001b[0m\u001b[0mpub_thread\u001b[0m\u001b[0;34m.\u001b[0m\u001b[0mschedule\u001b[0m\u001b[0;34m(\u001b[0m\u001b[0;32mlambda\u001b[0m \u001b[0;34m:\u001b[0m \u001b[0mself\u001b[0m\u001b[0;34m.\u001b[0m\u001b[0m_buffer\u001b[0m\u001b[0;34m.\u001b[0m\u001b[0mwrite\u001b[0m\u001b[0;34m(\u001b[0m\u001b[0mstring\u001b[0m\u001b[0;34m)\u001b[0m\u001b[0;34m)\u001b[0m\u001b[0;34m\u001b[0m\u001b[0;34m\u001b[0m\u001b[0m\n\u001b[0m\u001b[1;32m    401\u001b[0m             \u001b[0;32mif\u001b[0m \u001b[0mis_child\u001b[0m\u001b[0;34m:\u001b[0m\u001b[0;34m\u001b[0m\u001b[0;34m\u001b[0m\u001b[0m\n\u001b[1;32m    402\u001b[0m                 \u001b[0;31m# newlines imply flush in subprocesses\u001b[0m\u001b[0;34m\u001b[0m\u001b[0;34m\u001b[0m\u001b[0;34m\u001b[0m\u001b[0m\n",
            "\u001b[0;32m/usr/local/lib/python3.6/dist-packages/ipykernel/iostream.py\u001b[0m in \u001b[0;36mschedule\u001b[0;34m(self, f)\u001b[0m\n\u001b[1;32m    201\u001b[0m             \u001b[0mself\u001b[0m\u001b[0;34m.\u001b[0m\u001b[0m_events\u001b[0m\u001b[0;34m.\u001b[0m\u001b[0mappend\u001b[0m\u001b[0;34m(\u001b[0m\u001b[0mf\u001b[0m\u001b[0;34m)\u001b[0m\u001b[0;34m\u001b[0m\u001b[0;34m\u001b[0m\u001b[0m\n\u001b[1;32m    202\u001b[0m             \u001b[0;31m# wake event thread (message content is ignored)\u001b[0m\u001b[0;34m\u001b[0m\u001b[0;34m\u001b[0m\u001b[0;34m\u001b[0m\u001b[0m\n\u001b[0;32m--> 203\u001b[0;31m             \u001b[0mself\u001b[0m\u001b[0;34m.\u001b[0m\u001b[0m_event_pipe\u001b[0m\u001b[0;34m.\u001b[0m\u001b[0msend\u001b[0m\u001b[0;34m(\u001b[0m\u001b[0;34mb''\u001b[0m\u001b[0;34m)\u001b[0m\u001b[0;34m\u001b[0m\u001b[0;34m\u001b[0m\u001b[0m\n\u001b[0m\u001b[1;32m    204\u001b[0m         \u001b[0;32melse\u001b[0m\u001b[0;34m:\u001b[0m\u001b[0;34m\u001b[0m\u001b[0;34m\u001b[0m\u001b[0m\n\u001b[1;32m    205\u001b[0m             \u001b[0mf\u001b[0m\u001b[0;34m(\u001b[0m\u001b[0;34m)\u001b[0m\u001b[0;34m\u001b[0m\u001b[0;34m\u001b[0m\u001b[0m\n",
            "\u001b[0;32m/usr/local/lib/python3.6/dist-packages/zmq/sugar/socket.py\u001b[0m in \u001b[0;36msend\u001b[0;34m(self, data, flags, copy, track, routing_id, group)\u001b[0m\n\u001b[1;32m    414\u001b[0m                                  copy_threshold=self.copy_threshold)\n\u001b[1;32m    415\u001b[0m             \u001b[0mdata\u001b[0m\u001b[0;34m.\u001b[0m\u001b[0mgroup\u001b[0m \u001b[0;34m=\u001b[0m \u001b[0mgroup\u001b[0m\u001b[0;34m\u001b[0m\u001b[0;34m\u001b[0m\u001b[0m\n\u001b[0;32m--> 416\u001b[0;31m         \u001b[0;32mreturn\u001b[0m \u001b[0msuper\u001b[0m\u001b[0;34m(\u001b[0m\u001b[0mSocket\u001b[0m\u001b[0;34m,\u001b[0m \u001b[0mself\u001b[0m\u001b[0;34m)\u001b[0m\u001b[0;34m.\u001b[0m\u001b[0msend\u001b[0m\u001b[0;34m(\u001b[0m\u001b[0mdata\u001b[0m\u001b[0;34m,\u001b[0m \u001b[0mflags\u001b[0m\u001b[0;34m=\u001b[0m\u001b[0mflags\u001b[0m\u001b[0;34m,\u001b[0m \u001b[0mcopy\u001b[0m\u001b[0;34m=\u001b[0m\u001b[0mcopy\u001b[0m\u001b[0;34m,\u001b[0m \u001b[0mtrack\u001b[0m\u001b[0;34m=\u001b[0m\u001b[0mtrack\u001b[0m\u001b[0;34m)\u001b[0m\u001b[0;34m\u001b[0m\u001b[0;34m\u001b[0m\u001b[0m\n\u001b[0m\u001b[1;32m    417\u001b[0m \u001b[0;34m\u001b[0m\u001b[0m\n\u001b[1;32m    418\u001b[0m     \u001b[0;32mdef\u001b[0m \u001b[0msend_multipart\u001b[0m\u001b[0;34m(\u001b[0m\u001b[0mself\u001b[0m\u001b[0;34m,\u001b[0m \u001b[0mmsg_parts\u001b[0m\u001b[0;34m,\u001b[0m \u001b[0mflags\u001b[0m\u001b[0;34m=\u001b[0m\u001b[0;36m0\u001b[0m\u001b[0;34m,\u001b[0m \u001b[0mcopy\u001b[0m\u001b[0;34m=\u001b[0m\u001b[0;32mTrue\u001b[0m\u001b[0;34m,\u001b[0m \u001b[0mtrack\u001b[0m\u001b[0;34m=\u001b[0m\u001b[0;32mFalse\u001b[0m\u001b[0;34m,\u001b[0m \u001b[0;34m**\u001b[0m\u001b[0mkwargs\u001b[0m\u001b[0;34m)\u001b[0m\u001b[0;34m:\u001b[0m\u001b[0;34m\u001b[0m\u001b[0;34m\u001b[0m\u001b[0m\n",
            "\u001b[0;32mzmq/backend/cython/socket.pyx\u001b[0m in \u001b[0;36mzmq.backend.cython.socket.Socket.send\u001b[0;34m()\u001b[0m\n",
            "\u001b[0;32mzmq/backend/cython/socket.pyx\u001b[0m in \u001b[0;36mzmq.backend.cython.socket.Socket.send\u001b[0;34m()\u001b[0m\n",
            "\u001b[0;32mzmq/backend/cython/socket.pyx\u001b[0m in \u001b[0;36mzmq.backend.cython.socket._send_copy\u001b[0;34m()\u001b[0m\n",
            "\u001b[0;32m/usr/local/lib/python3.6/dist-packages/zmq/backend/cython/checkrc.pxd\u001b[0m in \u001b[0;36mzmq.backend.cython.checkrc._check_rc\u001b[0;34m()\u001b[0m\n",
            "\u001b[0;31mKeyboardInterrupt\u001b[0m: "
          ]
        }
      ]
    },
    {
      "cell_type": "code",
      "metadata": {
        "id": "VUtdkM_HZAtw",
        "colab_type": "code",
        "colab": {}
      },
      "source": [
        ""
      ],
      "execution_count": null,
      "outputs": []
    }
  ]
}