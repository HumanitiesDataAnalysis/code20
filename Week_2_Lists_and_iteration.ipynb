{
  "nbformat": 4,
  "nbformat_minor": 0,
  "metadata": {
    "colab": {
      "name": "Week 2: Lists and iteration",
      "provenance": [],
      "collapsed_sections": [
        "gtx2cZUBgQfP",
        "P6yna_mgiR7F"
      ],
      "authorship_tag": "ABX9TyPkQ0HXbx78boq1hzLBLJir",
      "include_colab_link": true
    },
    "kernelspec": {
      "name": "python3",
      "display_name": "Python 3"
    }
  },
  "cells": [
    {
      "cell_type": "markdown",
      "metadata": {
        "id": "view-in-github",
        "colab_type": "text"
      },
      "source": [
        "<a href=\"https://colab.research.google.com/github/HumanitiesDataAnalysis/code20/blob/master/Week_2_Lists_and_iteration.ipynb\" target=\"_parent\"><img src=\"https://colab.research.google.com/assets/colab-badge.svg\" alt=\"Open In Colab\"/></a>"
      ]
    },
    {
      "cell_type": "markdown",
      "metadata": {
        "id": "gtx2cZUBgQfP",
        "colab_type": "text"
      },
      "source": [
        "## Lists and Iteration\n",
        "\n",
        "To this point, we've been looking at two types of basic elements: numbers and letters. You can turn any letter into a number with `ord`; you can turn most numbers into letters with `chr`. Both numbers and letters can be added together, but there's a difference in what comes out.\n",
        "\n"
      ]
    },
    {
      "cell_type": "code",
      "metadata": {
        "id": "C8k9iw-RgbGZ",
        "colab_type": "code",
        "colab": {}
      },
      "source": [
        "2 + 2"
      ],
      "execution_count": null,
      "outputs": []
    },
    {
      "cell_type": "code",
      "metadata": {
        "id": "amfE8pnAgodt",
        "colab_type": "code",
        "colab": {}
      },
      "source": [
        "\"2\" + \"2\""
      ],
      "execution_count": null,
      "outputs": []
    },
    {
      "cell_type": "markdown",
      "metadata": {
        "id": "lFVlaoQKhiwW",
        "colab_type": "text"
      },
      "source": [
        "\"22\" is not a letter--it is *two* letters. This element--or data type--is called a **string**. You can't do everything with a string that you can with a character, for example, this causes an error.\n"
      ]
    },
    {
      "cell_type": "code",
      "metadata": {
        "id": "e79IOO5Lguxl",
        "colab_type": "code",
        "colab": {}
      },
      "source": [
        "ord(\"22\")"
      ],
      "execution_count": null,
      "outputs": []
    },
    {
      "cell_type": "markdown",
      "metadata": {
        "id": "P6yna_mgiR7F",
        "colab_type": "text"
      },
      "source": [
        "## Basic Data Types\n",
        "\n",
        "There are only four basic data types in Python. They are:\n",
        "\n",
        "* strings (\"hello\")\n",
        "* integers (1, 2, 3, 4)\n",
        "* logical (True or False)\n",
        "* real numbers, or \"floats\": (1.1, 3.3, etc.)\n",
        "\n",
        "Everything else is built up out these. The difference between integers and floats probably seems odd, but it has to do with the underlying representation of numbers in the computer; every number in a computer is represented as a [fraction of two integers](https://en.wikipedia.org/wiki/Floating-point_arithmetic#:~:text=A%20floating%2Dpoint%20number%20is,%C3%971000%20or%20145%2C000%2F100.), which can lead to some weird results. For example:"
      ]
    },
    {
      "cell_type": "code",
      "metadata": {
        "id": "osPx51OriI1z",
        "colab_type": "code",
        "colab": {}
      },
      "source": [
        "1.2 - 1"
      ],
      "execution_count": null,
      "outputs": []
    },
    {
      "cell_type": "markdown",
      "metadata": {
        "id": "NW8uMrx8kBnU",
        "colab_type": "text"
      },
      "source": [
        "## Lists\n",
        "\n",
        "But computers are not just calculators on these items. Things start to get more interesting as we bundle together items into groups. Strings are (in a conceptual sense, though actually not technically) the first instance of something called a *list*, which is a set of different items.\n",
        "\n",
        "Lists are so important that they have their own set of characters associated with them; the square brackets. You can create a list by using square brackets:"
      ]
    },
    {
      "cell_type": "code",
      "metadata": {
        "id": "DuIkCy_Mh7Mq",
        "colab_type": "code",
        "colab": {}
      },
      "source": [
        "my_list = [1, 2, 3, 4, 5]"
      ],
      "execution_count": null,
      "outputs": []
    },
    {
      "cell_type": "markdown",
      "metadata": {
        "id": "AtigX59ukhe_",
        "colab_type": "text"
      },
      "source": [
        "And you can access the elements inside a list by using square brackets after the variable name. To get the fourth element of `my_list`, type `my_list[3]`; or to get the fifth element of a string, type `my_string[4]`.\n",
        "\n",
        "**NOTE**: One very confusing thing here is that `my_list[3]` is *not* the third element, but the *fourth* element; that's because **in python, lists start at 0**. Is this a good thing? It's not clear to me--it turns out to make some things easier, and others harder. Here's [an article](http://exple.tive.org/blarg/2013/10/22/citation-needed/), if you want to read more.\n",
        "\n",
        "But be aware that this issue will bedevil you forever in any language."
      ]
    },
    {
      "cell_type": "code",
      "metadata": {
        "id": "9yBX-ZJIkgZN",
        "colab_type": "code",
        "colab": {}
      },
      "source": [
        "my_list[3]"
      ],
      "execution_count": null,
      "outputs": []
    },
    {
      "cell_type": "code",
      "metadata": {
        "id": "0HO_ZgBqigMr",
        "colab_type": "code",
        "colab": {}
      },
      "source": [
        "\"Some letters\"[1]"
      ],
      "execution_count": null,
      "outputs": []
    },
    {
      "cell_type": "code",
      "metadata": {
        "id": "iKJjvivemqLZ",
        "colab_type": "code",
        "colab": {}
      },
      "source": [
        "\"Some letters\"[0]"
      ],
      "execution_count": null,
      "outputs": []
    },
    {
      "cell_type": "code",
      "metadata": {
        "id": "rlGEfFQPnIPG",
        "colab_type": "code",
        "colab": {}
      },
      "source": [
        "\"Some letters\"[-1]"
      ],
      "execution_count": null,
      "outputs": []
    },
    {
      "cell_type": "markdown",
      "metadata": {
        "id": "Sd-qbdO9mq-A",
        "colab_type": "text"
      },
      "source": [
        "You can also use colons to take out a *slice* of a list: play around with these numbers."
      ]
    },
    {
      "cell_type": "code",
      "metadata": {
        "id": "SuGxwbUhk7pk",
        "colab_type": "code",
        "colab": {}
      },
      "source": [
        "\"Some letters\"[4:9]"
      ],
      "execution_count": null,
      "outputs": []
    },
    {
      "cell_type": "markdown",
      "metadata": {
        "id": "rlz6GK6ynTC-",
        "colab_type": "text"
      },
      "source": [
        "# Loops and Iteration\n",
        "\n",
        "The last thing that you can do with lists--and the first place that computers start to be useful--is **loop** over them.\n",
        "\n",
        "Look at this code. It introduces three new things. \n",
        "\n",
        "1. The words `for` and `in`. These are fundamental elements of python syntax, called \"control flow operators\". They are not functions, but do make up building blocks of code.\n",
        "2. A new way to define a variable; saying `for letter in \"Some letters\"` means that the value of letter will be reassigned at each stage in the loop.\n",
        "3. An element of python syntax involving spacing. See how how \"print(letter)\" is indented? That's how you indicate what happens *inside* the loop.\n"
      ]
    },
    {
      "cell_type": "code",
      "metadata": {
        "id": "5mqm-vHAnlCI",
        "colab_type": "code",
        "colab": {}
      },
      "source": [
        "my_string = \"Some letters\"\n",
        "\n",
        "for letter in my_string:\n",
        "  print(letter)"
      ],
      "execution_count": null,
      "outputs": []
    },
    {
      "cell_type": "markdown",
      "metadata": {
        "id": "6tcVRLW41dqJ",
        "colab_type": "text"
      },
      "source": [
        "## While loops\n",
        "\n",
        "Another type of loop is a 'while' loop. It runs a test at every stage in the loop. We can use this, say, to print a table of numbers and their codes.\n"
      ]
    },
    {
      "cell_type": "code",
      "metadata": {
        "id": "n349li3Cno3v",
        "colab_type": "code",
        "colab": {}
      },
      "source": [
        "i = 0\n",
        "while i < 128:\n",
        "  i = i+1\n",
        "  print(i, chr(i))\n"
      ],
      "execution_count": null,
      "outputs": []
    },
    {
      "cell_type": "markdown",
      "metadata": {
        "id": "Rje1rhsn18sW",
        "colab_type": "text"
      },
      "source": [
        "## Infinite Loops\n",
        "\n",
        "Be careful to make sure something changes inside your while loop--otherwise, it might run forever! The code below should never stop. Try running it; to \"break\" the block, you can press the play button next to the cell. After you're done, run the cell below to see how large \"i\" has gotten.\n",
        "\n",
        "If there were a print statement inside this loop, it would cause havoc."
      ]
    },
    {
      "cell_type": "code",
      "metadata": {
        "id": "Z3qiM_Y5nxoC",
        "colab_type": "code",
        "colab": {}
      },
      "source": [
        "i = 1\n",
        "while i > 0:\n",
        "  i = i+1"
      ],
      "execution_count": null,
      "outputs": []
    },
    {
      "cell_type": "code",
      "metadata": {
        "id": "qW1PeT1XuBuS",
        "colab_type": "code",
        "colab": {}
      },
      "source": [
        ""
      ],
      "execution_count": null,
      "outputs": []
    },
    {
      "cell_type": "markdown",
      "metadata": {
        "id": "NQCP6lDm7Kuv",
        "colab_type": "text"
      },
      "source": [
        "## Ways of making lists\n",
        "\n",
        "There loads of ways to make a list. Here are several ways of making exactly the same list.\n",
        "\n"
      ]
    },
    {
      "cell_type": "markdown",
      "metadata": {
        "id": "1hMW-oRa8dms",
        "colab_type": "text"
      },
      "source": [
        "Another way to make lists is to add them together. Often you'll define an empty list with `[]`; and then add on to it. By coupling this with a variable that gets larger each loop, you can generate a bunch of characters in a row."
      ]
    },
    {
      "cell_type": "code",
      "metadata": {
        "id": "J1rFSoqd92yz",
        "colab_type": "code",
        "colab": {}
      },
      "source": [
        "hands = []\n",
        "char = 128070\n",
        "while char < 128081:\n",
        "  hands = hands + [chr(char)]\n",
        "  char = char + 1\n",
        "hands"
      ],
      "execution_count": null,
      "outputs": []
    },
    {
      "cell_type": "markdown",
      "metadata": {
        "id": "fiH_kc8W--66",
        "colab_type": "text"
      },
      "source": [
        "This process is so common that there's a function called `range` that takes care of adding the numbers up for you. It generates all the numbers between any two points; in doing so, it means that you don't have to write `i = 0; i = i+1` all the time."
      ]
    },
    {
      "cell_type": "code",
      "metadata": {
        "id": "IB8qV5XI7m1X",
        "colab_type": "code",
        "colab": {}
      },
      "source": [
        "hands = []\n",
        "for char in range(128070, 128081):\n",
        "  hands = hands + [chr(char)]\n",
        "hands"
      ],
      "execution_count": null,
      "outputs": []
    },
    {
      "cell_type": "markdown",
      "metadata": {
        "id": "YCv_KItD84-k",
        "colab_type": "text"
      },
      "source": [
        "One last way involves a different way of using functions; adding a **dot** to the end of a variable name. By calling `hands.append(chr(i))`, you can add to the end of a list."
      ]
    },
    {
      "cell_type": "code",
      "metadata": {
        "id": "KFUUeovD8jPP",
        "colab_type": "code",
        "colab": {}
      },
      "source": [
        "hands = []\n",
        "for char in range(128070, 128081):\n",
        "  hands.append(chr(char))\n",
        "hands"
      ],
      "execution_count": null,
      "outputs": []
    },
    {
      "cell_type": "markdown",
      "metadata": {
        "id": "GaV8ulwv_OjU",
        "colab_type": "text"
      },
      "source": [
        "Finally, you can actually make a list *all at once* without explicitly calling the for loop by putting a `for` statement inside square brackets."
      ]
    },
    {
      "cell_type": "code",
      "metadata": {
        "id": "CQVdzj-O65LE",
        "colab_type": "code",
        "colab": {}
      },
      "source": [
        "hands = [chr(i) for i in range(128070, 128081)]\n",
        "hands"
      ],
      "execution_count": null,
      "outputs": []
    },
    {
      "cell_type": "markdown",
      "metadata": {
        "id": "YHd2JNCC6kAW",
        "colab_type": "text"
      },
      "source": [
        "## Complicated loops\n",
        "\n",
        "You can nest loops inside of loops to build complicated things. This is probably a little too much for week two; but see if you can understand what's going on here. Try changing some elements; for instance, what happens if you put two spaces in front of the line `print(all_images_for_point)`?"
      ]
    },
    {
      "cell_type": "code",
      "metadata": {
        "id": "CI1yJ6TXuN5n",
        "colab_type": "code",
        "colab": {}
      },
      "source": [
        "hands = [chr(i) for i in range(128070, 128081)]\n",
        "skin_colors = [chr(i) for i in range(127995, 128000)]\n",
        "\n",
        "for hand in hands:\n",
        "  all_images_for_point = hand\n",
        "  for color in skin_colors:\n",
        "    all_images_for_point = all_images_for_point + hand + color\n",
        "  print(all_images_for_point)\n"
      ],
      "execution_count": null,
      "outputs": []
    },
    {
      "cell_type": "markdown",
      "metadata": {
        "id": "LzJmUr9__8V4",
        "colab_type": "text"
      },
      "source": [
        "Find another range of characters *besides* `range(128070, 128081)` where this works."
      ]
    },
    {
      "cell_type": "code",
      "metadata": {
        "id": "4RB61EA4_tUS",
        "colab_type": "code",
        "colab": {}
      },
      "source": [
        "# See this hash symbol here? It's a comment character. Anything after is only for people to read,\n",
        "# not computers.\n",
        "\n",
        "# ZWJ is a special unicode character that binds things together.\n",
        "zwj = chr(8205)"
      ],
      "execution_count": null,
      "outputs": []
    },
    {
      "cell_type": "code",
      "metadata": {
        "id": "B5FXHaYwATWw",
        "colab_type": "code",
        "colab": {}
      },
      "source": [
        "genders = [\"\\U0001F468\", \"\\U0001F469\"]\n",
        "skin_colors = [chr(i) for i in range(127996, 128000)]\n",
        "joiner_character = \"\\u200D\"\n",
        "professions = [\"🎤\", \"💻\"]\n",
        "for profession in professions:\n",
        "  print(\"PROFESSION--\" + profession)\n",
        "  for gender in genders:\n",
        "    print(gender + joiner_character + profession)\n",
        "\n"
      ],
      "execution_count": null,
      "outputs": []
    },
    {
      "cell_type": "markdown",
      "metadata": {
        "id": "j1EjbCbvaQ4A",
        "colab_type": "text"
      },
      "source": [
        "Two last special characters to be aware of: \"\\r\" and \"\\r\".\n",
        "\n",
        "\"\\n\" means \"newline\". \n"
      ]
    },
    {
      "cell_type": "code",
      "metadata": {
        "id": "tQVoqGSNRASp",
        "colab_type": "code",
        "colab": {}
      },
      "source": [
        "print(\"Hello\\n\\nHello, yourself.\")"
      ],
      "execution_count": null,
      "outputs": []
    },
    {
      "cell_type": "code",
      "metadata": {
        "id": "RqEndUK7RVyF",
        "colab_type": "code",
        "colab": {}
      },
      "source": [
        "i = 0\n",
        "while True:\n",
        "  i = i + 1\n",
        "  print(i, end = \"\\r\")"
      ],
      "execution_count": null,
      "outputs": []
    },
    {
      "cell_type": "code",
      "metadata": {
        "id": "0zxv6vgBX4kD",
        "colab_type": "code",
        "colab": {}
      },
      "source": [
        ""
      ],
      "execution_count": null,
      "outputs": []
    },
    {
      "cell_type": "code",
      "metadata": {
        "id": "VUtdkM_HZAtw",
        "colab_type": "code",
        "colab": {}
      },
      "source": [
        ""
      ],
      "execution_count": null,
      "outputs": []
    }
  ]
}