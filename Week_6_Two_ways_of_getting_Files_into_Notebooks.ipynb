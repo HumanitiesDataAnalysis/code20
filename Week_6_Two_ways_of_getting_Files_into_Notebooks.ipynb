{
  "nbformat": 4,
  "nbformat_minor": 0,
  "metadata": {
    "colab": {
      "name": "Week 6: Two ways of getting Files into Notebooks.ipynb",
      "provenance": [],
      "collapsed_sections": [],
      "authorship_tag": "ABX9TyMkmV3wFKaVqw0BwF/QB6lu",
      "include_colab_link": true
    },
    "kernelspec": {
      "name": "python3",
      "display_name": "Python 3"
    }
  },
  "cells": [
    {
      "cell_type": "markdown",
      "metadata": {
        "id": "view-in-github",
        "colab_type": "text"
      },
      "source": [
        "<a href=\"https://colab.research.google.com/github/HumanitiesDataAnalysis/code20/blob/master/Week_6_Two_ways_of_getting_Files_into_Notebooks.ipynb\" target=\"_parent\"><img src=\"https://colab.research.google.com/assets/colab-badge.svg\" alt=\"Open In Colab\"/></a>"
      ]
    },
    {
      "cell_type": "markdown",
      "metadata": {
        "id": "9qb7PiklnYo7"
      },
      "source": [
        "# Two ways to read files into Jupyter notebooks\n",
        "\n",
        "## From a URL.\n",
        "\n",
        "Description: use the urllib module to open a web connection, read the file\n",
        "from the web, and then decode as utf-8 characters.\n",
        "\n",
        "Advantages:\n",
        "\n",
        "1. It will work anywhere (including on *my* computer)\n",
        "2. It doesn't require a local copy.\n",
        "\n",
        "Disadvantages:\n",
        "\n",
        "1. It's slow to re-run.\n",
        "2. In a few years, any given website may disappear, and you might want a local \n",
        "   copy!"
      ]
    },
    {
      "cell_type": "code",
      "metadata": {
        "id": "SKPUDuVCmZYE"
      },
      "source": [
        "import urllib.request\n",
        "url = 'http://www.gutenberg.org/cache/epub/42671/pg42671.txt'\n",
        "request = urllib.request.urlopen(url)\n",
        "fulltext = request.read().decode(\"utf-8\")\n"
      ],
      "execution_count": 12,
      "outputs": []
    },
    {
      "cell_type": "code",
      "metadata": {
        "id": "hMn-ja95nCQb",
        "outputId": "adfbbcd6-493e-4662-8ba2-cd075997c3aa",
        "colab": {
          "base_uri": "https://localhost:8080/",
          "height": 119
        }
      },
      "source": [
        "# Why do you think I start at 1950 here?\n",
        "print(fulltext[1954:2100])"
      ],
      "execution_count": 29,
      "outputs": [
        {
          "output_type": "stream",
          "text": [
            "\n",
            "\r\n",
            "It is a truth universally acknowledged, that a single man in possession\r\n",
            "of a good fortune, must be in want of a wife.\r\n",
            "\r\n",
            "However little known \n"
          ],
          "name": "stdout"
        }
      ]
    },
    {
      "cell_type": "markdown",
      "metadata": {
        "id": "L3xSVYtCogmJ"
      },
      "source": [
        "## Method 2: From a file on your own Google Drive\n",
        "\n",
        "Advantages:\n",
        "\n",
        "1. It's faster\n",
        "2. You can use things you've downloaded yourself.\n",
        "3. With adjustments, you can use this on other types of servers, including NYU's.\n",
        "\n",
        "Disadvantages:\n",
        "\n",
        "1. I won't be able to run your code!\n",
        "2. You're stuck in Google land."
      ]
    },
    {
      "cell_type": "code",
      "metadata": {
        "id": "Ld_OSFHamuNw",
        "outputId": "b53b4656-1029-4545-f81b-5abc07af9105",
        "colab": {
          "base_uri": "https://localhost:8080/",
          "height": 34
        }
      },
      "source": [
        "from google.colab import drive\n",
        "drive.mount('/content/drive')"
      ],
      "execution_count": 3,
      "outputs": [
        {
          "output_type": "stream",
          "text": [
            "Mounted at /content/drive\n"
          ],
          "name": "stdout"
        }
      ]
    },
    {
      "cell_type": "code",
      "metadata": {
        "id": "geLbZQ66mu2K",
        "outputId": "438c66fd-942f-4918-9567-87f291c56a74",
        "colab": {
          "base_uri": "https://localhost:8080/",
          "height": 306
        }
      },
      "source": [
        "import os\n",
        "os.listdir(\"/content/drive/My Drive\")"
      ],
      "execution_count": 5,
      "outputs": [
        {
          "output_type": "execute_result",
          "data": {
            "text/plain": [
              "['Getting started.pdf',\n",
              " 'NYU_DH',\n",
              " 'Untitled document (1).gdoc',\n",
              " 'DH Certificate Committee',\n",
              " 'Gotham.gdoc',\n",
              " 'Dh Certificate Requirements: Two paths.gdoc',\n",
              " 'History of Big Data',\n",
              " 'full archive of form 1295966 on 2020-02-03.xlsx',\n",
              " 'DH Seeds Grant Program',\n",
              " 'Untitled spreadsheet.gsheet',\n",
              " 'DH Seed grants FY20 funding question.gdoc',\n",
              " 'Untitled document.gdoc',\n",
              " 'Colab Notebooks',\n",
              " 'Introduction to Programming',\n",
              " 'Asylum Lab',\n",
              " 'Bookworm Docker Strategy.gdoc',\n",
              " 'Code20 grades.gsheet']"
            ]
          },
          "metadata": {
            "tags": []
          },
          "execution_count": 5
        }
      ]
    },
    {
      "cell_type": "code",
      "metadata": {
        "id": "uoLMzeEnm31p"
      },
      "source": [
        "text = open(\"/content/drive/My Drive/austen.txt\").read()"
      ],
      "execution_count": null,
      "outputs": []
    }
  ]
}