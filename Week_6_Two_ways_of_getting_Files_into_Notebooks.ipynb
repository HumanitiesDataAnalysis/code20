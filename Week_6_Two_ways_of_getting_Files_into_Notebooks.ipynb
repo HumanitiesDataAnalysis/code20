{
  "nbformat": 4,
  "nbformat_minor": 0,
  "metadata": {
    "colab": {
      "name": "Week 6: Two ways of getting Files into Notebooks.ipynb",
      "provenance": [],
      "collapsed_sections": [],
      "authorship_tag": "ABX9TyOXL/rBlhk8i8HOUe6O3uVL",
      "include_colab_link": true
    },
    "kernelspec": {
      "name": "python3",
      "display_name": "Python 3"
    }
  },
  "cells": [
    {
      "cell_type": "markdown",
      "metadata": {
        "id": "view-in-github",
        "colab_type": "text"
      },
      "source": [
        "<a href=\"https://colab.research.google.com/github/HumanitiesDataAnalysis/code20/blob/master/Week_6_Two_ways_of_getting_Files_into_Notebooks.ipynb\" target=\"_parent\"><img src=\"https://colab.research.google.com/assets/colab-badge.svg\" alt=\"Open In Colab\"/></a>"
      ]
    },
    {
      "cell_type": "markdown",
      "metadata": {
        "id": "9qb7PiklnYo7"
      },
      "source": [
        "# Two ways to read files into Jupyter notebooks\n",
        "\n",
        "## From a URL.\n",
        "\n",
        "Description: use the urllib module to open a web connection, read the file\n",
        "from the web, and then decode as utf-8 characters.\n",
        "\n",
        "Advantages:\n",
        "\n",
        "1. It will work anywhere (including on *my* computer)\n",
        "2. It doesn't require a local copy.\n",
        "\n",
        "Disadvantages:\n",
        "\n",
        "1. It's slow to re-run.\n",
        "2. In a few years, any given website may disappear, and you might want a local \n",
        "   copy!"
      ]
    },
    {
      "cell_type": "code",
      "metadata": {
        "id": "SKPUDuVCmZYE"
      },
      "source": [
        "import urllib.request\n",
        "url = 'http://www.gutenberg.org/cache/epub/42671/pg42671.txt'\n",
        "request = urllib.request.urlopen(url)\n",
        "fulltext = request.read().decode(\"utf-8\")\n"
      ],
      "execution_count": 31,
      "outputs": []
    },
    {
      "cell_type": "code",
      "metadata": {
        "id": "hMn-ja95nCQb",
        "outputId": "adfbbcd6-493e-4662-8ba2-cd075997c3aa",
        "colab": {
          "base_uri": "https://localhost:8080/",
          "height": 119
        }
      },
      "source": [
        "# Why do you think I start at 1950 here?\n",
        "print(fulltext[1954:2100])"
      ],
      "execution_count": null,
      "outputs": [
        {
          "output_type": "stream",
          "text": [
            "\n",
            "\r\n",
            "It is a truth universally acknowledged, that a single man in possession\r\n",
            "of a good fortune, must be in want of a wife.\r\n",
            "\r\n",
            "However little known \n"
          ],
          "name": "stdout"
        }
      ]
    },
    {
      "cell_type": "code",
      "metadata": {
        "id": "DzaYF1OdyLV1"
      },
      "source": [
        ""
      ],
      "execution_count": null,
      "outputs": []
    },
    {
      "cell_type": "markdown",
      "metadata": {
        "id": "L3xSVYtCogmJ"
      },
      "source": [
        "## Method 2: From a file on your own Google Drive\n",
        "\n",
        "Advantages:\n",
        "\n",
        "1. It's faster\n",
        "2. You can use things you've downloaded yourself.\n",
        "3. With adjustments, you can use this on other types of servers, including NYU's.\n",
        "\n",
        "Disadvantages:\n",
        "\n",
        "1. I won't be able to run your code!\n",
        "2. You're stuck in Google land."
      ]
    },
    {
      "cell_type": "code",
      "metadata": {
        "id": "Ld_OSFHamuNw",
        "outputId": "b53b4656-1029-4545-f81b-5abc07af9105",
        "colab": {
          "base_uri": "https://localhost:8080/",
          "height": 34
        }
      },
      "source": [
        "from google.colab import drive\n",
        "drive.mount('/content/drive')"
      ],
      "execution_count": null,
      "outputs": [
        {
          "output_type": "stream",
          "text": [
            "Mounted at /content/drive\n"
          ],
          "name": "stdout"
        }
      ]
    },
    {
      "cell_type": "code",
      "metadata": {
        "id": "geLbZQ66mu2K",
        "outputId": "438c66fd-942f-4918-9567-87f291c56a74",
        "colab": {
          "base_uri": "https://localhost:8080/",
          "height": 306
        }
      },
      "source": [
        "import os\n",
        "os.listdir(\"/content/drive/My Drive\")"
      ],
      "execution_count": null,
      "outputs": [
        {
          "output_type": "execute_result",
          "data": {
            "text/plain": [
              "['Getting started.pdf',\n",
              " 'NYU_DH',\n",
              " 'Untitled document (1).gdoc',\n",
              " 'DH Certificate Committee',\n",
              " 'Gotham.gdoc',\n",
              " 'Dh Certificate Requirements: Two paths.gdoc',\n",
              " 'History of Big Data',\n",
              " 'full archive of form 1295966 on 2020-02-03.xlsx',\n",
              " 'DH Seeds Grant Program',\n",
              " 'Untitled spreadsheet.gsheet',\n",
              " 'DH Seed grants FY20 funding question.gdoc',\n",
              " 'Untitled document.gdoc',\n",
              " 'Colab Notebooks',\n",
              " 'Introduction to Programming',\n",
              " 'Asylum Lab',\n",
              " 'Bookworm Docker Strategy.gdoc',\n",
              " 'Code20 grades.gsheet']"
            ]
          },
          "metadata": {
            "tags": []
          },
          "execution_count": 5
        }
      ]
    },
    {
      "cell_type": "code",
      "metadata": {
        "id": "uoLMzeEnm31p"
      },
      "source": [
        "text = open(\"/content/drive/My Drive/austen.txt\").read()"
      ],
      "execution_count": null,
      "outputs": []
    },
    {
      "cell_type": "markdown",
      "metadata": {
        "id": "C__7PnYdzrma"
      },
      "source": [
        "# Imports\n",
        "\n"
      ]
    },
    {
      "cell_type": "code",
      "metadata": {
        "id": "9TFi6e7Wzue3",
        "outputId": "09318b73-b14e-4e42-91f8-7f00f5d5fac6",
        "colab": {
          "base_uri": "https://localhost:8080/",
          "height": 34
        }
      },
      "source": [
        "import time\n",
        "\n",
        "time.time()"
      ],
      "execution_count": 45,
      "outputs": [
        {
          "output_type": "execute_result",
          "data": {
            "text/plain": [
              "1603143674.440919"
            ]
          },
          "metadata": {
            "tags": []
          },
          "execution_count": 45
        }
      ]
    },
    {
      "cell_type": "code",
      "metadata": {
        "id": "-uh9Kd6zz9xk"
      },
      "source": [
        ""
      ],
      "execution_count": null,
      "outputs": []
    },
    {
      "cell_type": "code",
      "metadata": {
        "id": "Kk4w5_vD0MGq",
        "outputId": "6ad192c6-94e4-47fe-8fee-a502c8ab5c7f",
        "colab": {
          "base_uri": "https://localhost:8080/",
          "height": 35
        }
      },
      "source": [
        "def birthday_greeting(name, age):\n",
        "  # This is weird--you have to put commas in strange places.\n",
        "  return \"Hello, \" + name + \", happy \" + str(age) + \"th birthday!\"\n",
        "\n",
        "birthday_greeting(\"Ben\", 45)"
      ],
      "execution_count": 49,
      "outputs": [
        {
          "output_type": "execute_result",
          "data": {
            "application/vnd.google.colaboratory.intrinsic+json": {
              "type": "string"
            },
            "text/plain": [
              "'Hello, Ben, happy 45th birthday!'"
            ]
          },
          "metadata": {
            "tags": []
          },
          "execution_count": 49
        }
      ]
    },
    {
      "cell_type": "markdown",
      "metadata": {
        "id": "CSeL0a-4z_fJ"
      },
      "source": [
        "F-strings"
      ]
    },
    {
      "cell_type": "markdown",
      "metadata": {
        "id": "RB02j3gjz-eI"
      },
      "source": [
        ""
      ]
    },
    {
      "cell_type": "code",
      "metadata": {
        "id": "uaxa1dgu0CDx",
        "outputId": "4c539f38-b28b-4e0b-b773-f644fa7004ba",
        "colab": {
          "base_uri": "https://localhost:8080/",
          "height": 35
        }
      },
      "source": [
        "def birthday_greeting(name, age):\n",
        "  return f\"Hello, {name}, happy {age}th birthday!\"\n",
        "\n",
        "birthday_greeting(\"Ben\", 45)"
      ],
      "execution_count": 51,
      "outputs": [
        {
          "output_type": "execute_result",
          "data": {
            "application/vnd.google.colaboratory.intrinsic+json": {
              "type": "string"
            },
            "text/plain": [
              "'Hello, Ben, happy 45th birthday!'"
            ]
          },
          "metadata": {
            "tags": []
          },
          "execution_count": 51
        }
      ]
    },
    {
      "cell_type": "markdown",
      "metadata": {
        "id": "mOT4xkGzzb-b"
      },
      "source": [
        "# Thinking about efficiency in code.\n",
        "\n",
        "When we start working with books, it's possible to do things inefficiently."
      ]
    },
    {
      "cell_type": "code",
      "metadata": {
        "id": "5A2iFryZyN-N"
      },
      "source": [
        "moby_dick = urllib.request.urlopen('https://www.gutenberg.org/files/2701/2701.txt').read().decode(\"utf-8\")\n",
        "all_words = moby_dick.split(\" \")"
      ],
      "execution_count": 42,
      "outputs": []
    },
    {
      "cell_type": "code",
      "metadata": {
        "id": "5HM_W06TyQw2",
        "outputId": "78992544-3792-441f-9e78-4ce553d16967",
        "colab": {
          "base_uri": "https://localhost:8080/",
          "height": 357
        }
      },
      "source": [
        "last_word = \"\"\n",
        "seen_words = []\n",
        "number_read = 0\n",
        "for word in all_words:\n",
        "  number_read += 1\n",
        "  if word in seen_words:\n",
        "    pass\n",
        "  else:\n",
        "    seen_words.append(word)\n",
        "  if number_read % 10000 == 0:\n",
        "    print(f\"{number_read} {len(seen_words)}\", end = \"\\n\")"
      ],
      "execution_count": 52,
      "outputs": [
        {
          "output_type": "stream",
          "text": [
            "10000 3906\n",
            "20000 6743\n",
            "30000 9492\n",
            "40000 11911\n",
            "50000 14521\n",
            "60000 17051\n",
            "70000 19553\n",
            "80000 21669\n",
            "90000 23741\n",
            "100000 25802\n",
            "110000 27788\n",
            "120000 29579\n",
            "130000 31497\n",
            "140000 33452\n",
            "150000 35396\n",
            "160000 37300\n",
            "170000 39232\n",
            "180000 41057\n",
            "190000 42796\n",
            "200000 44736\n"
          ],
          "name": "stdout"
        }
      ]
    },
    {
      "cell_type": "code",
      "metadata": {
        "id": "RV54HInpy0-I"
      },
      "source": [
        "last_word = \"\"\n",
        "seen_words = []\n",
        "number_read = 0\n",
        "last_time = time.time()\n",
        "for word in all_words:\n",
        "  number_read += 1\n",
        "  if word in seen_words:\n",
        "    pass\n",
        "  else:\n",
        "    seen_words.append(word)\n",
        "  if number_read % 10000 == 0:\n",
        "    print(number_read, len(seen_words), last_time - time.time(), end = \"\\n\")"
      ],
      "execution_count": null,
      "outputs": []
    }
  ]
}