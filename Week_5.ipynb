{
  "nbformat": 4,
  "nbformat_minor": 0,
  "metadata": {
    "colab": {
      "name": "Week 5.ipynb",
      "provenance": [],
      "collapsed_sections": [],
      "authorship_tag": "ABX9TyOpyESSycwgIWar6s0KhZSU",
      "include_colab_link": true
    },
    "kernelspec": {
      "name": "python3",
      "display_name": "Python 3"
    }
  },
  "cells": [
    {
      "cell_type": "markdown",
      "metadata": {
        "id": "view-in-github",
        "colab_type": "text"
      },
      "source": [
        "<a href=\"https://colab.research.google.com/github/HumanitiesDataAnalysis/code20/blob/master/Week_5.ipynb\" target=\"_parent\"><img src=\"https://colab.research.google.com/assets/colab-badge.svg\" alt=\"Open In Colab\"/></a>"
      ]
    },
    {
      "cell_type": "markdown",
      "metadata": {
        "id": "vcZ5ecDljRff"
      },
      "source": [
        "Think about the difference between these two things."
      ]
    },
    {
      "cell_type": "code",
      "metadata": {
        "id": "Jb0XSxykjIKi"
      },
      "source": [
        "def double_1(sequence):\n",
        "  output = []\n",
        "  for elem in sequence:\n",
        "    output = output + [elem * 2]\n",
        "  return output\n",
        "\n",
        "def double_2(sequence):\n",
        "  output = \"\"\n",
        "  for elem in sequence:\n",
        "    output = output + elem * 2\n",
        "  return output\n"
      ],
      "execution_count": 25,
      "outputs": []
    },
    {
      "cell_type": "markdown",
      "metadata": {
        "id": "vcZ5ecDljRff"
      },
      "source": [
        "The reason you can't add a number to a list is that it's ambiguous what it should be! Sometimes--as in the `numpy` module we're not using--the result would be adding 3 to each element. Other times it would be adding just to the end of a list."
      ]
    },
    {
      "cell_type": "code",
      "metadata": {
        "id": "1R4bAIP5jtB5",
        "outputId": "47717983-3e7e-4b97-8b32-524e8e509033",
        "colab": {
          "base_uri": "https://localhost:8080/",
          "height": 34
        }
      },
      "source": [
        "import numpy as np\n",
        "\n",
        "np.array([1, 2, 3]) + 3\n"
      ],
      "execution_count": 32,
      "outputs": [
        {
          "output_type": "execute_result",
          "data": {
            "text/plain": [
              "array([4, 5, 6])"
            ]
          },
          "metadata": {
            "tags": []
          },
          "execution_count": 32
        }
      ]
    },
    {
      "cell_type": "markdown",
      "metadata": {
        "id": "IGPTtUp9s2rn"
      },
      "source": [
        "And how about this one?"
      ]
    },
    {
      "cell_type": "code",
      "metadata": {
        "id": "iG-W4i4MszIB",
        "outputId": "f52857d1-0dae-4051-f282-83173c9d40e1",
        "colab": {
          "base_uri": "https://localhost:8080/",
          "height": 51
        }
      },
      "source": [
        "def double_3(sequence):\n",
        "  output = []\n",
        "  for elem in sequence:\n",
        "    output = output + [elem * 2]\n",
        "  print(output)\n",
        "\n",
        "value = double_3([\"A\", \"B\"])\n",
        "\n",
        "\n",
        "3 + 3.3"
      ],
      "execution_count": 38,
      "outputs": [
        {
          "output_type": "stream",
          "text": [
            "['AA', 'BB']\n"
          ],
          "name": "stdout"
        },
        {
          "output_type": "execute_result",
          "data": {
            "text/plain": [
              "6.3"
            ]
          },
          "metadata": {
            "tags": []
          },
          "execution_count": 38
        }
      ]
    },
    {
      "cell_type": "markdown",
      "metadata": {
        "id": "BuF6E5-NmB8B"
      },
      "source": [
        "What I was terrified someone would do:"
      ]
    },
    {
      "cell_type": "code",
      "metadata": {
        "id": "zpITdMspl8Xy",
        "outputId": "b3a02eff-585d-40ed-c5e5-30a5c198624a",
        "colab": {
          "base_uri": "https://localhost:8080/",
          "height": 35
        }
      },
      "source": [
        "def encode(string, change_each_step = 1):\n",
        "  shift = 0\n",
        "  output = \"\"\n",
        "  for letter in string:\n",
        "    point = ord(letter)\n",
        "    output = output + chr(point + shift)\n",
        "    shift = shift + change_each_step\n",
        "  return output\n",
        "\n",
        "\n",
        "\n",
        "encode(\"OOOOOOOOOOOO\")\n",
        "\n",
        "encode(\"BCDEFGHI\", change_each_step=-1)\n"
      ],
      "execution_count": 50,
      "outputs": [
        {
          "output_type": "execute_result",
          "data": {
            "application/vnd.google.colaboratory.intrinsic+json": {
              "type": "string"
            },
            "text/plain": [
              "'BBBBBBBB'"
            ]
          },
          "metadata": {
            "tags": []
          },
          "execution_count": 50
        }
      ]
    },
    {
      "cell_type": "code",
      "metadata": {
        "id": "NrfH0sTb6VUU",
        "outputId": "30c1fdce-ed42-463a-99c3-a9a0230d854a",
        "colab": {
          "base_uri": "https://localhost:8080/",
          "height": 68
        }
      },
      "source": [
        "\n",
        "def exclamation(strings):\n",
        "  for elem in strings:\n",
        "    try:\n",
        "      print(elem + \"!\")\n",
        "    except:\n",
        "      pass\n",
        "\n",
        "exclamation([\"Good\", 2, \"bad\", \"ugly\"])"
      ],
      "execution_count": 49,
      "outputs": [
        {
          "output_type": "stream",
          "text": [
            "Good!\n",
            "bad!\n",
            "ugly!\n"
          ],
          "name": "stdout"
        }
      ]
    },
    {
      "cell_type": "markdown",
      "metadata": {
        "id": "0beulbEHjMlY"
      },
      "source": [
        ""
      ]
    }
  ]
}
