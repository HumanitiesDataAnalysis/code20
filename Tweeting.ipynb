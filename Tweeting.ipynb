{
  "nbformat": 4,
  "nbformat_minor": 0,
  "metadata": {
    "colab": {
      "name": "Tweeting.ipynb",
      "provenance": [],
      "collapsed_sections": [],
      "authorship_tag": "ABX9TyO2TWzp/3t95OYRrh3HFSZj",
      "include_colab_link": true
    },
    "kernelspec": {
      "name": "python3",
      "display_name": "Python 3"
    }
  },
  "cells": [
    {
      "cell_type": "markdown",
      "metadata": {
        "id": "view-in-github",
        "colab_type": "text"
      },
      "source": [
        "<a href=\"https://colab.research.google.com/github/HumanitiesDataAnalysis/code20/blob/master/Tweeting.ipynb\" target=\"_parent\"><img src=\"https://colab.research.google.com/assets/colab-badge.svg\" alt=\"Open In Colab\"/></a>"
      ]
    },
    {
      "cell_type": "code",
      "metadata": {
        "id": "8F-KNsjj1BWz"
      },
      "source": [
        "remote = \"http://benschmidt.org/tweets.ndjson\"\n",
        "import urllib.request\n",
        "remote_text = urllib.request.urlopen(remote).read().decode(\"utf-8\")\n",
        "import re\n",
        "import json"
      ],
      "execution_count": 4,
      "outputs": []
    },
    {
      "cell_type": "code",
      "metadata": {
        "id": "M_BhmEXi2uux"
      },
      "source": [
        "polling_locations = [(40.5680594, -74.1181754), (40.629476, -74.1484488), (40.5476486, -74.1541394), (40.6088665, -74.1643063), (40.5094381, -74.2452944), (40.5825958, -74.077497), (40.6163124, -74.1437097), (40.5403057, -74.1728837), (40.627431, -74.0805295), (40.6349863, -74.1148927), (40.7023006, -73.7982035), (40.7684097, -73.9303472), (40.7565904, -73.8335695), (40.5894124, -73.8037499), (40.7896488, -73.77216421), (40.6728572, -73.832624), (40.7340215, -73.8626605), (40.7372292, -73.8807904), (40.7502102, -73.8872411), (40.7382528, -73.8216732), (40.7563494, -73.9261383), (40.7438487, -73.93516659), (40.7709491, -73.788652), (40.6963676, -73.7374843), (40.7137044, -73.8303458), (40.7614878, -73.8692014), (40.7414554, -73.733647), (40.7105133, -73.8938946), (40.7971389, -73.9690754), (40.8025784, -73.956329), (40.8162568, -73.9605773), (40.7272482, -74.003446), (40.7714509, -73.9602622), (40.8140141, -73.9443246), (40.7298054, -73.9999408), (40.7507082, -73.9959402), (40.8491027, -73.933295), (40.7134495, -73.9882219), (40.7936912, -73.9507996), (40.7379838, -73.9773665), (40.842416, -73.9437307), (40.7710481, -73.9846269), (40.8406233, -73.9415832), (40.7286686, -73.9798197), (40.5896371, -73.9888006), (40.7092093, -73.9461217), (40.6500809, -73.8891544), (40.6659961, -73.9066642), (40.7046746, -73.9679046), (40.6739286, -73.9371146), (40.6110736, -73.9933181), (40.6858951, -73.919669), (40.6348776, -73.9129108), (40.662725, -74.016379), (40.6391085, -74.017881), (40.6954775, -73.9889615), (40.6880793, -73.9717005), (40.6460037, -73.9595704), (40.6758608, -74.0045508), (40.696622, -73.9494246), (40.6539157, -73.9361042), (40.6272269, -74.0415647), (40.6212115, -73.984709), (40.6779639, -73.8936177), (40.6079272, -73.9650117), (40.5739913, -73.9926782), (40.6967365, -73.9141968), (40.6712083, -73.9658186), (40.630656, -73.9570127), (40.6826571, -73.9774709), (40.6192654, -73.9268272), (40.8740335, -73.8339288), (40.8481724, -73.8999344), (40.8215181, -73.8576028), (40.8158207, -73.8165938), (40.900772, -73.8561174), (40.8644488, -73.9024384), (40.82554, -73.8695477), (40.8583665, -73.8892316), (40.8790803, -73.913484), (40.8602873, -73.8625646), (40.8331536, -73.9075623), (40.8833918, -73.8548003), (40.8349613, -73.8785324), (40.823494, -73.9007195), (40.8260887, -73.9260005), (40.8328187, -73.9224181), (40.835419, -73.8627648)]"
      ],
      "execution_count": 5,
      "outputs": []
    },
    {
      "cell_type": "code",
      "metadata": {
        "id": "IphUUShi1Uo2"
      },
      "source": [
        "class Tweet:\n",
        "  def __init__(self, text_string):\n",
        "    \"\"\"\n",
        "    Initialized using the text of json. (We could require the \n",
        "    json to be parsed first, if we wanted... but whatever!)\n",
        "    \"\"\"\n",
        "    self.tweet = json.loads(text_string)\n",
        "\n",
        "  def text(self):\n",
        "    return self.tweet['text']\n",
        "\n",
        "  def user(self):\n",
        "    return self.tweet['user']['name']\n",
        "\n",
        "  def coords(self):\n",
        "    try:\n",
        "      long, lat = self.tweet['coordinates']['coordinates']\n",
        "      return (lat, long)\n",
        "    except:\n",
        "      return None\n",
        "\n",
        "  def distance_to_polling_place(self):\n",
        "    \"\"\"\n",
        "    Distance in miles to the nearest polling place.\n",
        "    \"\"\"\n",
        "    # Start by assuming infinite distance\n",
        "    best_distance = float(\"inf\")\n",
        "    if self.coords() is None:\n",
        "      return best_distance\n",
        "    lat, long = self.coords()\n",
        "    for plat, plong in polling_locations:\n",
        "      # Distance using the pythagorean theorem\n",
        "      # In New York, a degree of longitude is about 2/3 the length of a\n",
        "      # degree of latitude, and I can't let that go.\n",
        "      distance = ((lat - plat)**2 + ((long - plong) * 2/3 )**2)**(1/2)\n",
        "      if distance < best_distance:\n",
        "        best_distance = distance\n",
        "    # We're measuring in degrees, which are about 111 miles.\n",
        "    return best_distance * 111\n",
        "\n",
        "  def __repr__(self):\n",
        "    return \"TWEET: \" + self.text()[:100]\n",
        "\n",
        "  def bio(self):\n",
        "    return self.tweet['user']['description']\n",
        "\n"
      ],
      "execution_count": 6,
      "outputs": []
    },
    {
      "cell_type": "code",
      "metadata": {
        "id": "dIZ-W92q1SEY"
      },
      "source": [
        "class Tweetset():\n",
        "  \"\"\"\n",
        "  A class that manages a list of tweets.\n",
        "  \"\"\"\n",
        "  def __init__(self, sourcetext = None, tweetlist = None):\n",
        "    self.tweets = []\n",
        "    if tweetlist is not None:\n",
        "      self.tweets = tweetlist\n",
        "      return\n",
        "    for line in sourcetext.split(\"\\n\"):\n",
        "      try:\n",
        "        the_tweet = Tweet(line)\n",
        "        self.tweets.append(the_tweet)\n",
        "      except:\n",
        "        pass\n",
        "\n",
        "  def find_regex(self, regex):\n",
        "    all_text = []\n",
        "    for tweet in self.tweets:\n",
        "        text = tweet.text()\n",
        "        if re.search(regex, text):\n",
        "            all_text.append(tweet)\n",
        "    return all_text\n",
        "\n",
        "  def exclude_user(self, name):\n",
        "    tweets = []\n",
        "    for tweet in self.tweets:\n",
        "      if tweet.user() != name:\n",
        "        tweets.append(tweet)\n",
        "    return Tweetset(tweetlist = tweets)\n",
        "\n",
        "  def sort_by_polling_distance(self):\n",
        "    self.tweets.sort(key = lambda x: x.distance_to_polling_place())\n",
        "\n",
        "  def filter_to_election_hashtags(self):\n",
        "      \"\"\"\n",
        "      print every tweet text that has a election-related string in it.\n",
        "      \"\"\"\n",
        "      el_regex = \"🌹|🗳️|🇺🇸|Trump|Pence|[vV]ot(e|ing|d)|line|Biden|Harris|2020|[Ee]lect(ion)|poll(s)\"\n",
        "      for tweet in self.find_regex(el_regex):\n",
        "          print(tweet.text())"
      ],
      "execution_count": 7,
      "outputs": []
    },
    {
      "cell_type": "code",
      "metadata": {
        "id": "x_SiZJm21xH9"
      },
      "source": [
        "nyc = Tweetset(remote_text)"
      ],
      "execution_count": 8,
      "outputs": []
    },
    {
      "cell_type": "code",
      "metadata": {
        "id": "YcmFfIapW_x1"
      },
      "source": [
        "no_511 = nyc.exclude_user(\"511 New York\").exclude_user(\"511NY 456 Lines\")"
      ],
      "execution_count": 9,
      "outputs": []
    },
    {
      "cell_type": "code",
      "metadata": {
        "id": "md3oFHgJZKy9",
        "outputId": "5cdde104-8eaf-4758-aa43-7df284708ad7",
        "colab": {
          "base_uri": "https://localhost:8080/"
        }
      },
      "source": [
        "no_511.sort_by_polling_distance()\n",
        "no_511.tweets[1], no_511.tweets[1].distance_to_polling_place()"
      ],
      "execution_count": 11,
      "outputs": [
        {
          "output_type": "execute_result",
          "data": {
            "text/plain": [
              "(TWEET: #CRUMMIEBEATS #nolimit #mercedesbenz #beats #luxurylifestyle #fym @ Outside https://t.co/JfuNrGxIXX,\n",
              " 0.02286173367297525)"
            ]
          },
          "metadata": {
            "tags": []
          },
          "execution_count": 11
        }
      ]
    },
    {
      "cell_type": "code",
      "metadata": {
        "id": "WN1-ZG9k11wT"
      },
      "source": [
        ""
      ],
      "execution_count": null,
      "outputs": []
    },
    {
      "cell_type": "markdown",
      "metadata": {
        "id": "dE_WoKwEHeYK"
      },
      "source": [
        "## Inheriting from a list...\n",
        "\n",
        "...means that we get all the list methods directly"
      ]
    },
    {
      "cell_type": "code",
      "metadata": {
        "id": "RzBO_mw-GovR"
      },
      "source": [
        "class Tweetlist(list):\n",
        "  \"\"\"\n",
        "  A class that manages a list of tweets.\n",
        "  \"\"\"\n",
        "  def __init__(self, sourcetext = None, tweetlist = None):\n",
        "    if tweetlist is not None:\n",
        "      super().__init__(tweetlist)\n",
        "      self.tweets = tweetlist\n",
        "      return\n",
        "    super().__init__([])\n",
        "    for line in sourcetext.split(\"\\n\"):\n",
        "      try:\n",
        "        the_tweet = Tweet(line)\n",
        "        self.append(the_tweet)\n",
        "      except:\n",
        "        pass\n",
        "\n",
        "  def find_regex(self, regex):\n",
        "    all_text = []\n",
        "    for tweet in self:\n",
        "        text = tweet.text()\n",
        "        if re.search(regex, text):\n",
        "            all_text.append(tweet)\n",
        "    return all_text\n",
        "\n",
        "  def exclude_user(self, name):\n",
        "    tweets = []\n",
        "    for tweet in self:\n",
        "      if tweet.user() != name:\n",
        "        tweets.append(tweet)\n",
        "    return Tweetset(tweetlist = tweets)\n",
        "\n",
        "  def sort_by_polling_distance(self):\n",
        "    self.sort(key = lambda x: x.distance_to_polling_place())\n",
        "\n",
        "  def filter_to_election_hashtags(self):\n",
        "      \"\"\"\n",
        "      print every tweet text that has a election-related string in it.\n",
        "      \"\"\"\n",
        "      el_regex = \"🌹|🗳️|🇺🇸|Trump|Pence|[vV]ot(e|ing|d)|line|Biden|Harris|2020|[Ee]lect(ion)|poll(s)\"\n",
        "      for tweet in self.find_regex(el_regex):\n",
        "          print(tweet.text())"
      ],
      "execution_count": 12,
      "outputs": []
    },
    {
      "cell_type": "code",
      "metadata": {
        "id": "hwvKAieT2bWc",
        "outputId": "803228fb-a43d-413e-a0c1-e61d23008bff",
        "colab": {
          "base_uri": "https://localhost:8080/"
        }
      },
      "source": [
        "nyc = Tweetlist(remote_text)\n",
        "\n",
        "for t in nyc:\n",
        "  if t.distance_to_polling_place() < 1/10:\n",
        "    print(f\"{t.text()}\")\n"
      ],
      "execution_count": 13,
      "outputs": [
        {
          "output_type": "stream",
          "text": [
            "Get out &amp; vote (@ St Johns Rec Center in Brooklyn, NY) https://t.co/AMiYdjPvNR https://t.co/nKrrvU0Wa0\n",
            "I'm at Sarku Japan in Brooklyn, NY w/ @browncoko @gerryvisco @pattydukesnyc @kimbu18 https://t.co/qmLXPTVEFV\n",
            "Just posted a photo @ Cuts &amp; Slices NYC https://t.co/zZIiGgesY7\n",
            "Just posted a photo @ Harlem Food Bar https://t.co/Fb996tB6hX\n",
            "I'm at Columbia University Medical Center in New York, NY https://t.co/T63EerEZ8T\n",
            "Dr Kristine Hassan, NYC testimonial about FMR Education...passion, support, safe place to learn with no egos!! Than… https://t.co/TJAvsR37tT\n",
            "Just posted a photo @ RUE-B https://t.co/L5FoLv2RMR\n",
            "Dynamite frites as you head into the weekend... 📷: @movingforwardpr  #fries #fries #pommesfrites #belgianfries… https://t.co/ySr8X4nRil\n",
            "#repost @elviejoyayo\n",
            "・・・\n",
            "Churrasco (skirt Steak) for the perfect steak dinner. @ Yayo's Latin Cuisine https://t.co/2NJXcsNiv6\n",
            "HalfAMill #RestInPowerKing🙏\n",
            "#MiliatoForEver💪💯 #BrooklynLegends #GoneButneverForgotten #OriginalFirmBiz… https://t.co/xni2V260Vy\n",
            "Lmfaoooo RT @Druski2Funny: Dudes never wanna do the \"Handshake\" til Females around 😂 https://t.co/qCafAVkE9J\n",
            "#CRUMMIEBEATS #nolimit #mercedesbenz #beats #luxurylifestyle #fym @ Outside https://t.co/JfuNrGxIXX\n",
            "Just posted a photo @ Comedy Cellar https://t.co/zuma5rVZIG\n",
            "Looking for a Physician Assistant position in NY? Mount Sinai Services of the Icah... is hiring today, click here t… https://t.co/d5bAWs5JRv\n",
            "Today the line for early voting was several blocks long, at 6:30 AM, in the rain. Nonetheless, enjoyed all 50 min o… https://t.co/C8G58eQhKt\n",
            "Buying myself breakfast after standing on line for two hours.  It is cold, wet and windy out but still worth it.  D… https://t.co/JA51KBYwyH\n"
          ],
          "name": "stdout"
        }
      ]
    },
    {
      "cell_type": "code",
      "metadata": {
        "id": "RAk5My7g4IP4",
        "outputId": "a0643787-d354-4d53-ea69-443e9beca19a",
        "colab": {
          "base_uri": "https://localhost:8080/"
        }
      },
      "source": [
        "nyc[0]"
      ],
      "execution_count": 14,
      "outputs": [
        {
          "output_type": "execute_result",
          "data": {
            "text/plain": [
              "TWEET: Cleared: Incident on #NJ139Lower EB from East of Tonnelle Avenue to Jersey Ave"
            ]
          },
          "metadata": {
            "tags": []
          },
          "execution_count": 14
        }
      ]
    },
    {
      "cell_type": "code",
      "metadata": {
        "id": "9aV3urxY4dBw"
      },
      "source": [
        ""
      ],
      "execution_count": null,
      "outputs": []
    },
    {
      "cell_type": "code",
      "metadata": {
        "id": "fbolr4g-44bi"
      },
      "source": [
        ""
      ],
      "execution_count": null,
      "outputs": []
    }
  ]
}