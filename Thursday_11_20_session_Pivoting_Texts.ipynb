{
  "nbformat": 4,
  "nbformat_minor": 0,
  "metadata": {
    "colab": {
      "name": "Thursday 11-20 session: Pivoting Texts",
      "provenance": [],
      "collapsed_sections": [],
      "authorship_tag": "ABX9TyPibXL5j9+xceXy7SL1oOJY",
      "include_colab_link": true
    },
    "kernelspec": {
      "name": "python3",
      "display_name": "Python 3"
    }
  },
  "cells": [
    {
      "cell_type": "markdown",
      "metadata": {
        "id": "view-in-github",
        "colab_type": "text"
      },
      "source": [
        "<a href=\"https://colab.research.google.com/github/HumanitiesDataAnalysis/code20/blob/master/Thursday_11_20_session_Pivoting_Texts.ipynb\" target=\"_parent\"><img src=\"https://colab.research.google.com/assets/colab-badge.svg\" alt=\"Open In Colab\"/></a>"
      ]
    },
    {
      "cell_type": "code",
      "metadata": {
        "id": "-w_6zCtvdipY"
      },
      "source": [
        "from textblob import TextBlob"
      ],
      "execution_count": null,
      "outputs": []
    },
    {
      "cell_type": "code",
      "metadata": {
        "id": "eF_ZsvFKdujX"
      },
      "source": [
        "import urllib\n",
        "moby_dick = urllib.request.urlopen('https://www.gutenberg.org/files/2701/2701.txt').read().decode(\"utf-8\")\n",
        "url = 'http://www.gutenberg.org/cache/epub/42671/pg42671.txt'\n",
        "request = urllib.request.urlopen(url)\n",
        "fulltext = request.read().decode(\"utf-8\")\n"
      ],
      "execution_count": null,
      "outputs": []
    },
    {
      "cell_type": "code",
      "metadata": {
        "id": "3rquiEsSd0TY"
      },
      "source": [
        "austen = fulltext[1900:]\n",
        "moby_dick_full = moby_dick[2900:]"
      ],
      "execution_count": null,
      "outputs": []
    },
    {
      "cell_type": "code",
      "metadata": {
        "id": "FEAjHcuvkC__"
      },
      "source": [
        "pride = TextBlob(austen)\n",
        "moby = TextBlob(moby_dick_full)"
      ],
      "execution_count": null,
      "outputs": []
    },
    {
      "cell_type": "code",
      "metadata": {
        "colab": {
          "base_uri": "https://localhost:8080/"
        },
        "id": "S-eph0KIR2PN",
        "outputId": "fc2a2fe1-b38a-40ba-aa5c-471bd228d436"
      },
      "source": [
        "import nltk\n",
        "nltk.download('punkt')\n",
        "nltk.download('averaged_perceptron_tagger')"
      ],
      "execution_count": null,
      "outputs": [
        {
          "output_type": "stream",
          "text": [
            "[nltk_data] Downloading package punkt to /root/nltk_data...\n",
            "[nltk_data]   Package punkt is already up-to-date!\n",
            "[nltk_data] Downloading package averaged_perceptron_tagger to\n",
            "[nltk_data]     /root/nltk_data...\n",
            "[nltk_data]   Package averaged_perceptron_tagger is already up-to-\n",
            "[nltk_data]       date!\n"
          ],
          "name": "stdout"
        },
        {
          "output_type": "execute_result",
          "data": {
            "text/plain": [
              "True"
            ]
          },
          "metadata": {
            "tags": []
          },
          "execution_count": 54
        }
      ]
    },
    {
      "cell_type": "code",
      "metadata": {
        "id": "87iKFwQFkS_a"
      },
      "source": [
        "pride_tags = pride.tags\n",
        "moby_tags = moby.tags"
      ],
      "execution_count": null,
      "outputs": []
    },
    {
      "cell_type": "code",
      "metadata": {
        "id": "3ZDG_IeAkbrO"
      },
      "source": [
        "from collections import Counter\n"
      ],
      "execution_count": null,
      "outputs": []
    },
    {
      "cell_type": "code",
      "metadata": {
        "id": "eh17eyzZkhga",
        "colab": {
          "base_uri": "https://localhost:8080/"
        },
        "outputId": "66b63d89-3dac-41bf-a3b0-0f996c60e87d"
      },
      "source": [
        "def sentence_as_tags(sent):\n",
        "  taglist = sent.tags\n",
        "  return \"-\".join([el[1] for el in taglist])\n",
        "\n",
        "sentence_as_tags(moby.sentences[510])\n",
        "\n",
        "from collections import Counter\n",
        "from collections import defaultdict\n",
        "\n",
        "austen_tags = defaultdict(list)\n",
        "\n",
        "for sent in pride.sentences:\n",
        "  austen_tags[sentence_as_tags(sent)].append(sent)\n",
        "\n",
        "for sent in moby.sentences:\n",
        "  structure = sentence_as_tags(sent)\n",
        "  if structure in austen_tags and len(structure) > 10:\n",
        "    print(sent, austen_tags[structure])"
      ],
      "execution_count": null,
      "outputs": [
        {
          "output_type": "stream",
          "text": [
            "can copy and\r\n",
            "distribute it in the United States without permission and\r\n",
            "without paying copyright royalties. [Sentence(\"can copy and distribute it in the United States without\r\n",
            "permission and without paying copyright royalties.\")]\n",
            "I'll try the bench here.\" [Sentence(\"\"She will drop the acquaintance entirely.\"\")]\n",
            "He was an undergraduate. [Sentence(\"He made no answer.\"), Sentence(\"It was all conjecture.\"\")]\n",
            "You cannot hide the soul. [Sentence(\"I should infinitely prefer a book.\"\")]\n",
            "I felt a melting in me. [Sentence(\"He\n",
            "drew a chair near her.\")]\n",
            "\"A clam for supper? [Sentence(\"A house in town!\")]\n",
            "Where's your harpoon?\" [Sentence(\"\"Where is your sister?\"\")]\n",
            "You see him? [Sentence(\"I congratulate her.\")]\n",
            "They were full of hope and fruition. [Sentence(\"He was full of joy and\n",
            "attention.\")]\n",
            "\"It's very queer. [Sentence(\"She practises very constantly.\"\")]\n",
            "(Folio), CHAPTER II. [Sentence(\"\"Miss Elizabeth Bennet!\"\")]\n",
            "(Folio), CHAPTER III. [Sentence(\"\"Miss Elizabeth Bennet!\"\")]\n",
            "(Folio) CHAPTER IV. [Sentence(\"\"Miss Elizabeth Bennet!\"\")]\n",
            "(Folio), CHAPTER VI. [Sentence(\"\"Miss Elizabeth Bennet!\"\")]\n",
            "Adieu, Sulphur Bottom! [Sentence(\"\"Miss Elizabeth Bennet!\"\")]\n",
            "(Octavo), CHAPTER II. [Sentence(\"\"Miss Elizabeth Bennet!\"\")]\n",
            "(Octavo), CHAPTER III. [Sentence(\"\"Miss Elizabeth Bennet!\"\")]\n",
            "(Octavo), CHAPTER IV. [Sentence(\"\"Miss Elizabeth Bennet!\"\")]\n",
            "(Octavo), CHAPTER V. [Sentence(\"\"Miss Elizabeth Bennet!\"\")]\n",
            "(Duodecimo), CHAPTER II. [Sentence(\"\"Miss Elizabeth Bennet!\"\")]\n",
            "(Duodecimo), CHAPTER III. [Sentence(\"\"Miss Elizabeth Bennet!\"\")]\n",
            "I lost\n",
            "this leg. [Sentence(\"He made no answer.\"), Sentence(\"It was all conjecture.\"\")]\n",
            "I save my sweat. [Sentence(\"\"I honour your circumspection.\"), Sentence(\"\"I beg your pardon.\")]\n",
            "ENGLISH SAILOR\n",
            "\n",
            "Blood! [Sentence(\"\"Miss Elizabeth Bennet!\"\")]\n",
            "O Lord, Lord! [Sentence(\"\"Miss Elizabeth Bennet!\"\")]\n",
            "\"That's his hump. [Sentence(\"This is my advice.\")]\n",
            "murmured Ahab, gazing over into the water. [Sentence(\"cried Elizabeth, brightening up for a moment.\")]\n",
            "cried Don Pedro. [Sentence(\"repeated Miss Bingley.\"), Sentence(\"cried Miss Bingley.\"), Sentence(\"repeated Mr. Bennet.\")]\n",
            "\"'What do you think? [Sentence(\"\"What do you think?\"), Sentence(\"\"What do you mean?\"\")]\n",
            "Now, repeat after me. [Sentence(\"Only look at her.\")]\n",
            "It is so passing wonderful! [Sentence(\"It is almost past belief.\")]\n",
            "I see no need of this.' [Sentence(\"\"I see no occasion for that.\")]\n",
            "Yet habit--strange thing! [Sentence(\"Then pray speak aloud.\")]\n",
            "It's an awful question. [Sentence(\"\"It is no such thing.\")]\n",
            "Nor is this all. [Sentence(\"\"And is this all?\"\")]\n",
            "It is still colossal. [Sentence(\"It is highly improper.\"), Sentence(\"He is perfectly amiable.\")]\n",
            "He has no proper nose. [Sentence(\"\"It is no such thing.\")]\n",
            "\"What's the matter? [Sentence(\"what is the matter?\"\")]\n",
            "Ho, where's\n",
            "his harpoon? [Sentence(\"Jane shook her head.\"), Sentence(\"Darcy mentioned his letter.\")]\n",
            "Tashtego, Queequeg, Daggoo! [Sentence(\"\"Miss Elizabeth Bennet!\"\")]\n",
            "I would not take it. [Sentence(\"\"I cannot believe it.\"), Sentence(\"I cannot\n",
            "     understand it.\"), Sentence(\"He\n",
            "cannot afford it.\"), Sentence(\"You must not suspect me.\"), Sentence(\"\"I can easily believe it.\")]\n",
            "\"They have, they have. [Sentence(\"You know I have.\")]\n",
            "Luff, luff a point! [Sentence(\"Elizabeth made no answer.\"), Sentence(\"Darcy made no answer.\")]\n",
            "So, so, I see him! [Sentence(\"\"Not as you represent it.\")]\n",
            "I see:  the ship! [Sentence(\"\"I am all astonishment.\")]\n",
            "--SIR WILLIAM DAVENANT. [Sentence(\"\"Miss Elizabeth Bennet!\"\")]\n",
            "PREFACE TO GONDIBERT. [Sentence(\"\"Miss Elizabeth Bennet!\"\")]\n",
            "--SIR T. BROWNE. [Sentence(\"\"Miss Elizabeth Bennet!\"\")]\n",
            "--N. E. PRIMER. [Sentence(\"\"Miss Elizabeth Bennet!\"\")]\n",
            "--ELIZABETH OAKES SMITH. [Sentence(\"\"Miss Elizabeth Bennet!\"\")]\n",
            "HENRY T. CHEEVER. [Sentence(\"\"Miss Elizabeth Bennet!\"\")]\n",
            "U. S. EX. [Sentence(\"\"Miss Elizabeth Bennet!\"\")]\n",
            "It was the while.\" [Sentence(\"He made no answer.\"), Sentence(\"It was all conjecture.\"\")]\n"
          ],
          "name": "stdout"
        }
      ]
    },
    {
      "cell_type": "code",
      "metadata": {
        "colab": {
          "base_uri": "https://localhost:8080/",
          "height": 53
        },
        "id": "Ef2SWWtWTsUy",
        "outputId": "fab6204a-f642-4d0c-91e8-50f4a8b08552"
      },
      "source": [
        "pride.sentences[120].parse()"
      ],
      "execution_count": null,
      "outputs": [
        {
          "output_type": "execute_result",
          "data": {
            "application/vnd.google.colaboratory.intrinsic+json": {
              "type": "string"
            },
            "text/plain": [
              "'Her/PRP$/B-NP/O report/NN/I-NP/O was/VBD/B-VP/O highly/RB/B-ADJP/O favourable/JJ/I-ADJP/O ././O/O'"
            ]
          },
          "metadata": {
            "tags": []
          },
          "execution_count": 49
        }
      ]
    },
    {
      "cell_type": "code",
      "metadata": {
        "colab": {
          "base_uri": "https://localhost:8080/"
        },
        "id": "UjMHhi4jUF7z",
        "outputId": "a35f7e79-e174-4a15-85f1-387739e1fac4"
      },
      "source": [
        "printed = 0\n",
        "for sentence in pride.sentences:\n",
        "  if \"CC\" in sentence_as_tags(sentence):\n",
        "    print(sentence)\n",
        "    printed += 1\n",
        "    if printed > 10:\n",
        "      break"
      ],
      "execution_count": null,
      "outputs": [
        {
          "output_type": "stream",
          "text": [
            "5_]\r\n",
            "\r\n",
            "\r\n",
            "\r\n",
            "\r\n",
            "PRIDE & PREJUDICE.\n",
            "However little known the feelings or views of such a man may be on his\r\n",
            "first entering a neighbourhood, this truth is so well fixed in the minds\r\n",
            "of the surrounding families, that he is considered as the rightful\r\n",
            "property of some one or other of their daughters.\n",
            "\"But it is,\" returned she; \"for Mrs. Long has just been here, and she\r\n",
            "told me all about it.\"\n",
            "\"_You_ want to tell me, and I have no objection to hearing it.\"\n",
            "\"Why, my dear, you must know, Mrs. Long says that Netherfield is taken\r\n",
            "by a young man of large fortune from the north of England; that he came\r\n",
            "down on Monday in a chaise and four to see the place, and was so much\r\n",
            "delighted with it that he agreed with Mr. Morris immediately; that he is\r\n",
            "to take possession before Michaelmas, and some of his servants are to be\r\n",
            "in the house by the end of next week.\"\n",
            "\"Is he married or single?\"\n",
            "A single man of large fortune; four\r\n",
            "or five thousand a year.\n",
            "But it is very likely that he\r\n",
            "_may_ fall in love with one of them, and therefore you must visit him as\r\n",
            "soon as he comes.\"\n",
            "You and the girls may go, or you may send\r\n",
            "them by themselves, which perhaps will be still better, for as you are\r\n",
            "as handsome as any of them, Mr. Bingley might like you the best of the\r\n",
            "party.\"\n",
            "I certainly _have_ had my share of beauty, but\r\n",
            "I do not pretend to be any thing extraordinary now.\n",
            "\"But, my dear, you must indeed go and see Mr. Bingley when he comes into\r\n",
            "the neighbourhood.\"\n"
          ],
          "name": "stdout"
        }
      ]
    },
    {
      "cell_type": "code",
      "metadata": {
        "colab": {
          "base_uri": "https://localhost:8080/",
          "height": 201
        },
        "id": "19_5znLfSXt5",
        "outputId": "53eb0b12-30a7-485a-aaa6-7a8fe7a2c5f6"
      },
      "source": [
        "moby_dick_full.sentences[1000]"
      ],
      "execution_count": null,
      "outputs": [
        {
          "output_type": "error",
          "ename": "AttributeError",
          "evalue": "ignored",
          "traceback": [
            "\u001b[0;31m---------------------------------------------------------------------------\u001b[0m",
            "\u001b[0;31mAttributeError\u001b[0m                            Traceback (most recent call last)",
            "\u001b[0;32m<ipython-input-16-72b56b90602e>\u001b[0m in \u001b[0;36m<module>\u001b[0;34m()\u001b[0m\n\u001b[0;32m----> 1\u001b[0;31m \u001b[0mmoby_dick_full\u001b[0m\u001b[0;34m.\u001b[0m\u001b[0msentences\u001b[0m\u001b[0;34m[\u001b[0m\u001b[0;36m1000\u001b[0m\u001b[0;34m]\u001b[0m\u001b[0;34m\u001b[0m\u001b[0;34m\u001b[0m\u001b[0m\n\u001b[0m",
            "\u001b[0;31mAttributeError\u001b[0m: 'str' object has no attribute 'sentences'"
          ]
        }
      ]
    },
    {
      "cell_type": "code",
      "metadata": {
        "id": "k9hNgMZbmPL0"
      },
      "source": [
        "list(zip(top_moby, top_pride))\n",
        "moby_position = 0;\n",
        "replacements = {}\n",
        "skipwords = [\"Mr.\", \"Mrs.\", \"Miss\", \"Sir\", \n",
        "              \"Mr\", \"Mrs\", \"Colonel\", \"Lady\", \"Gutenberg-tm\",\n",
        "              \"Project\"]\n",
        "for word, count in top_pride:\n",
        "  if word in skipwords:\n",
        "    continue\n",
        "  replacement = top_moby[moby_position][0]\n",
        "  moby_position = moby_position + 1\n",
        "  replacements[word] = replacement\n",
        "\n",
        "replacements[\"Eliza\"] = replacements[\"Elizabeth\"]"
      ],
      "execution_count": null,
      "outputs": []
    },
    {
      "cell_type": "code",
      "metadata": {
        "id": "lk2Z_Glrm_Jt"
      },
      "source": [
        "copy = austen\n",
        "import re\n",
        "for word, replacement in replacements.items():\n",
        "  copy = copy.replace(word, replacement)"
      ],
      "execution_count": null,
      "outputs": []
    },
    {
      "cell_type": "code",
      "metadata": {
        "colab": {
          "base_uri": "https://localhost:8080/"
        },
        "id": "j5d62aWjnI0G",
        "outputId": "ce85c46b-2cd9-403d-dd39-33ac6aad48c0"
      },
      "source": [
        "import random\n",
        "r = random.randint(0, len(copy) -1000)\n",
        "print(copy[r:(r + 1000)])"
      ],
      "execution_count": null,
      "outputs": [
        {
          "output_type": "stream",
          "text": [
            "\r\n",
            "where is your sash my dear?\"\r\n",
            "\r\n",
            "But when her mother was gone, Captain would not be prevailed on to go down\r\n",
            "without one of her sisters.\r\n",
            "\r\n",
            "The same anxiety to get them by themselves, was visible again in the\r\n",
            "evening. After tea, Mr. Stubb retired to the library, as was his\r\n",
            "custom, and Tashtego went up stairs to her instrument. Two obstacles of the\r\n",
            "five being thus removed, Mrs. Stubb sat looking and winking at\r\n",
            "Ahab and God for a considerable time, without making any\r\n",
            "impression on them. Ahab would not observe her; and when at last\r\n",
            "Nantucket did, she very innocently said, \"What is the matter mamma? What do\r\n",
            "you keep winking at me for? What am I to do?\"\r\n",
            "\r\n",
            "\"Nothing child, nothing. I did not wink at you.\" She then sat still five\r\n",
            "minutes longer; but unable to waste such a precious occasion, she\r\n",
            "suddenly got up, and saying to Nantucket,\r\n",
            "\r\n",
            "\"Come here, my love, I want to speak to you,\" took her out of the room.\r\n",
            "Captain instantly gave a look at Ahab, which spoke her distress at\r\n",
            "such \n"
          ],
          "name": "stdout"
        }
      ]
    },
    {
      "cell_type": "code",
      "metadata": {
        "colab": {
          "base_uri": "https://localhost:8080/"
        },
        "id": "I3hWUPGopbgH",
        "outputId": "500de25b-9f25-435d-d765-90b810474c84"
      },
      "source": [
        "help(re.sub)"
      ],
      "execution_count": null,
      "outputs": [
        {
          "output_type": "stream",
          "text": [
            "Help on function sub in module re:\n",
            "\n",
            "sub(pattern, repl, string, count=0, flags=0)\n",
            "    Return the string obtained by replacing the leftmost\n",
            "    non-overlapping occurrences of the pattern in string by the\n",
            "    replacement repl.  repl can be either a string or a callable;\n",
            "    if a string, backslash escapes in it are processed.  If it is\n",
            "    a callable, it's passed the match object and must return\n",
            "    a replacement string to be used.\n",
            "\n"
          ],
          "name": "stdout"
        }
      ]
    },
    {
      "cell_type": "code",
      "metadata": {
        "id": "SqbgclRbpo-5"
      },
      "source": [
        ""
      ],
      "execution_count": null,
      "outputs": []
    }
  ]
}