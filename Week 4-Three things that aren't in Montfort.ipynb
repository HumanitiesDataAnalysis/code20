{
  "nbformat": 4,
  "nbformat_minor": 0,
  "metadata": {
    "colab": {
      "name": "Week 4",
      "provenance": [],
      "collapsed_sections": [],
      "authorship_tag": "ABX9TyNqnO0LCRM8PrV0E2tqYi2L",
      "include_colab_link": true
    },
    "kernelspec": {
      "name": "python3",
      "display_name": "Python 3"
    }
  },
  "cells": [
    {
      "cell_type": "markdown",
      "metadata": {
        "id": "view-in-github",
        "colab_type": "text"
      },
      "source": [
        "<a href=\"https://colab.research.google.com/github/HumanitiesDataAnalysis/code20/blob/master/Week%204-Three%20things%20that%20aren't%20in%20Montfort.ipynb\" target=\"_parent\"><img src=\"https://colab.research.google.com/assets/colab-badge.svg\" alt=\"Open In Colab\"/></a>"
      ]
    },
    {
      "cell_type": "markdown",
      "metadata": {
        "id": "32VSzo6hHZnk"
      },
      "source": [
        "# Three things that are missing\n",
        "\n",
        "... from Montfort's text that I think you need to know.\n",
        "\n",
        "# Methods\n",
        "\n",
        "Methods are special functions that are bound to objects. Strings, lists, and numbers all have their own associated methods; you call them by putting a period at the end of the variable name and then writing the function. Note that you don't have to put anything inside the parentheses some of the time--methods are called *on the object itself*."
      ]
    },
    {
      "cell_type": "code",
      "metadata": {
        "id": "2BS0m87xpuqj",
        "outputId": "573f64f9-bd18-4f59-8f8c-c95b21dbc3f2",
        "colab": {
          "base_uri": "https://localhost:8080/",
          "height": 35
        }
      },
      "source": [
        "word = \"John Jacob Jingleheimer Schmidt\"\n",
        "\n",
        "word.lower()"
      ],
      "execution_count": 124,
      "outputs": [
        {
          "output_type": "execute_result",
          "data": {
            "application/vnd.google.colaboratory.intrinsic+json": {
              "type": "string"
            },
            "text/plain": [
              "'john jacob jingleheimer schmidt'"
            ]
          },
          "metadata": {
            "tags": []
          },
          "execution_count": 124
        }
      ]
    },
    {
      "cell_type": "markdown",
      "metadata": {
        "id": "XfOYfeCzkO-v"
      },
      "source": [
        "The original value stays the same--the lowercase version is just a returned thing."
      ]
    },
    {
      "cell_type": "code",
      "metadata": {
        "id": "wfXKktA_D1U0",
        "outputId": "eec492fe-a16a-403e-9b4c-e10dbd4e6d2e",
        "colab": {
          "base_uri": "https://localhost:8080/",
          "height": 35
        }
      },
      "source": [
        "word"
      ],
      "execution_count": 57,
      "outputs": [
        {
          "output_type": "execute_result",
          "data": {
            "application/vnd.google.colaboratory.intrinsic+json": {
              "type": "string"
            },
            "text/plain": [
              "'Benjamin MacDonald Schmidt'"
            ]
          },
          "metadata": {
            "tags": []
          },
          "execution_count": 57
        }
      ]
    },
    {
      "cell_type": "code",
      "metadata": {
        "id": "b_MQT0_cpv4Z",
        "outputId": "40566dd5-edeb-4c7e-b658-3c0b739a67ad",
        "colab": {
          "base_uri": "https://localhost:8080/",
          "height": 35
        }
      },
      "source": [
        "word.upper()"
      ],
      "execution_count": 52,
      "outputs": [
        {
          "output_type": "execute_result",
          "data": {
            "application/vnd.google.colaboratory.intrinsic+json": {
              "type": "string"
            },
            "text/plain": [
              "'BENJAMIN MACDONALD SCHMIDT'"
            ]
          },
          "metadata": {
            "tags": []
          },
          "execution_count": 52
        }
      ]
    },
    {
      "cell_type": "code",
      "metadata": {
        "id": "bMiylvmapxKd",
        "outputId": "94557745-7b9b-4e41-d3c0-8244d2e8bf69",
        "colab": {
          "base_uri": "https://localhost:8080/",
          "height": 35
        }
      },
      "source": [
        "word.capitalize() # The first word."
      ],
      "execution_count": 125,
      "outputs": [
        {
          "output_type": "execute_result",
          "data": {
            "application/vnd.google.colaboratory.intrinsic+json": {
              "type": "string"
            },
            "text/plain": [
              "'John jacob jingleheimer schmidt'"
            ]
          },
          "metadata": {
            "tags": []
          },
          "execution_count": 125
        }
      ]
    },
    {
      "cell_type": "code",
      "metadata": {
        "id": "z54SKaTTpyIs",
        "outputId": "9f086fce-5e9d-4e4a-dff5-de3ad9f15869",
        "colab": {
          "base_uri": "https://localhost:8080/",
          "height": 34
        }
      },
      "source": [
        "word.split(\" \")"
      ],
      "execution_count": 53,
      "outputs": [
        {
          "output_type": "execute_result",
          "data": {
            "text/plain": [
              "['Benjamin', 'MacDonald', 'Schmidt']"
            ]
          },
          "metadata": {
            "tags": []
          },
          "execution_count": 53
        }
      ]
    },
    {
      "cell_type": "markdown",
      "metadata": {
        "id": "lgLUGwkKqwJB"
      },
      "source": [
        "# List Methods\n",
        "\n",
        "List methods usually alter the list *in place*, rather than returning something new. Sometimes they do both! You need to be careful that you understand which is happening."
      ]
    },
    {
      "cell_type": "code",
      "metadata": {
        "id": "H0-O3Ac3qEZB",
        "outputId": "7a70af51-cd54-4600-f700-c5fbed6da79d",
        "colab": {
          "base_uri": "https://localhost:8080/",
          "height": 272
        }
      },
      "source": [
        "my_list = \"We the people of the United States, in order to form a more perfect union\".split(\" \")\n",
        "my_list"
      ],
      "execution_count": 60,
      "outputs": [
        {
          "output_type": "execute_result",
          "data": {
            "text/plain": [
              "['We',\n",
              " 'the',\n",
              " 'people',\n",
              " 'of',\n",
              " 'the',\n",
              " 'United',\n",
              " 'States,',\n",
              " 'in',\n",
              " 'order',\n",
              " 'to',\n",
              " 'form',\n",
              " 'a',\n",
              " 'more',\n",
              " 'perfect',\n",
              " 'union']"
            ]
          },
          "metadata": {
            "tags": []
          },
          "execution_count": 60
        }
      ]
    },
    {
      "cell_type": "code",
      "metadata": {
        "id": "AaP7jNi1qF1E"
      },
      "source": [
        "my_list.sort()"
      ],
      "execution_count": 61,
      "outputs": []
    },
    {
      "cell_type": "markdown",
      "metadata": {
        "id": "rPV87KL6jZpD"
      },
      "source": [
        "### Sorting\n",
        "\n",
        "Note that sorting happens **in place**. Some class methods return a new object, but others modify the existing one. Now `my_list` looks different!"
      ]
    },
    {
      "cell_type": "code",
      "metadata": {
        "id": "Yq6WkMsbEEiW",
        "outputId": "425afcfd-3b18-40f4-92aa-424b14667781",
        "colab": {
          "base_uri": "https://localhost:8080/",
          "height": 272
        }
      },
      "source": [
        "my_list"
      ],
      "execution_count": 62,
      "outputs": [
        {
          "output_type": "execute_result",
          "data": {
            "text/plain": [
              "['States,',\n",
              " 'United',\n",
              " 'We',\n",
              " 'a',\n",
              " 'form',\n",
              " 'in',\n",
              " 'more',\n",
              " 'of',\n",
              " 'order',\n",
              " 'people',\n",
              " 'perfect',\n",
              " 'the',\n",
              " 'the',\n",
              " 'to',\n",
              " 'union']"
            ]
          },
          "metadata": {
            "tags": []
          },
          "execution_count": 62
        }
      ]
    },
    {
      "cell_type": "code",
      "metadata": {
        "id": "Uo0cO7rYqIHY",
        "outputId": "a1c9fb8c-b9b8-4dc2-a2da-79ef16f62c19",
        "colab": {
          "base_uri": "https://localhost:8080/",
          "height": 306
        }
      },
      "source": [
        "# 'append' is an important list method--it adds an item to the end of a list.\n",
        "my_list.append(\"Trump\")\n",
        "my_list"
      ],
      "execution_count": 117,
      "outputs": [
        {
          "output_type": "execute_result",
          "data": {
            "text/plain": [
              "['We',\n",
              " 'the',\n",
              " 'people',\n",
              " 'of',\n",
              " 'the',\n",
              " 'United',\n",
              " 'States,',\n",
              " 'in',\n",
              " 'order',\n",
              " 'to',\n",
              " 'make',\n",
              " 'a',\n",
              " 'more',\n",
              " 'perfect',\n",
              " 'union',\n",
              " 'Trump',\n",
              " 'Trump']"
            ]
          },
          "metadata": {
            "tags": []
          },
          "execution_count": 117
        }
      ]
    },
    {
      "cell_type": "code",
      "metadata": {
        "id": "6AZw5dt7qr7v",
        "outputId": "bcde0873-850c-4093-f6de-43cac43e78f3",
        "colab": {
          "base_uri": "https://localhost:8080/",
          "height": 34
        }
      },
      "source": [
        "my_list = \"We the people of the United States, in order to make a more perfect union\".split(\" \")\n",
        "# Can you figure out what this does?\n",
        "my_list.index(\"United\")"
      ],
      "execution_count": 118,
      "outputs": [
        {
          "output_type": "execute_result",
          "data": {
            "text/plain": [
              "5"
            ]
          },
          "metadata": {
            "tags": []
          },
          "execution_count": 118
        }
      ]
    },
    {
      "cell_type": "markdown",
      "metadata": {
        "id": "qNHsMLTVJI9V"
      },
      "source": [
        "# Dictionaries\n",
        "\n",
        "Dictionaries are a basic type that lets you look up data by a string. Lists are good when it makes sense to think of things as sorted by position; for unsorted relations where one piece of data defines another, a dictionary is often the natural way to store information.\n",
        "\n",
        "Each element in a dictionary is a **pair**; these are called the **key** and the **value**. In creating one, you separate the key from the value with a colon, and separate each entry with parentheses. One dictionary might be a structure to store the height for each person in a class:"
      ]
    },
    {
      "cell_type": "code",
      "metadata": {
        "id": "R2bHcjDuqu6c"
      },
      "source": [
        "# Dictionaries.\n",
        "heights = {\n",
        "    \"Ben\": 6.5,\n",
        "    \"Priscilla\": 8,\n",
        "    \"Aiqi\": 22.7,\n",
        "    \"Alyssa\": 100.8\n",
        "}"
      ],
      "execution_count": 119,
      "outputs": []
    },
    {
      "cell_type": "markdown",
      "metadata": {
        "id": "OtHk7k9xOUgq"
      },
      "source": [
        "To access elements in a dictionary, you use the same square-bracket notation \n",
        "you use to get elements of a list by location. But instead of accessing by *number* (`letters[3]`), you access by *name*.\n",
        "\n",
        "That's all there is to dictionaries, but since they don't show up in the Montfort text, think about how you might incorporate them into some of the free projects."
      ]
    },
    {
      "cell_type": "code",
      "metadata": {
        "id": "hH9ZEorpOW-j"
      },
      "source": [
        "heights[\"Ben\"]"
      ],
      "execution_count": null,
      "outputs": []
    },
    {
      "cell_type": "markdown",
      "metadata": {
        "id": "BxaWhyamj_FI"
      },
      "source": [
        "## Dict methods\n",
        "dicts have methods of their own--for instance, you can iterate across the\n",
        "items of a dict getting both keys and values at the same time."
      ]
    },
    {
      "cell_type": "code",
      "metadata": {
        "id": "YWhK4GQxj0_Q",
        "outputId": "09e97283-c6a5-427c-c039-4063f5a97ad6",
        "colab": {
          "base_uri": "https://localhost:8080/",
          "height": 85
        }
      },
      "source": [
        "for key, value in heights.items():\n",
        "  print (key + \"-\" + str(value))"
      ],
      "execution_count": 122,
      "outputs": [
        {
          "output_type": "stream",
          "text": [
            "Ben-6.5\n",
            "Priscilla-8\n",
            "Aiqi-22.7\n",
            "Alyssa-100.8\n"
          ],
          "name": "stdout"
        }
      ]
    },
    {
      "cell_type": "markdown",
      "metadata": {
        "id": "INCQ5ZwbOspn"
      },
      "source": [
        "# Errors\n",
        "\n",
        "We've encountered a lot of errors in this class! In many programming languages, the way that you handle errors is to write your code so that it doesn't produce any more errors: but in Python more than most, it is very\n",
        "common in all sorts of code to *catch* and handle them. Consider the following alteration of double, double that gets the height of each person in a list."
      ]
    },
    {
      "cell_type": "code",
      "metadata": {
        "id": "Qpt3llBwPGDY",
        "outputId": "ecf7214e-f24d-4f63-c1f5-e467bcccb7bc",
        "colab": {
          "base_uri": "https://localhost:8080/",
          "height": 34
        }
      },
      "source": [
        "def get_height(sequence, heights):\n",
        "  output = []\n",
        "  for name in sequence:\n",
        "    output = output + [heights[name]]\n",
        "  return output\n",
        "\n",
        "get_height([\"Ben\", \"Priscilla\"], heights)"
      ],
      "execution_count": 95,
      "outputs": [
        {
          "output_type": "execute_result",
          "data": {
            "text/plain": [
              "[6.5, 8]"
            ]
          },
          "metadata": {
            "tags": []
          },
          "execution_count": 95
        }
      ]
    },
    {
      "cell_type": "markdown",
      "metadata": {
        "id": "ZeGEibWWQVzc"
      },
      "source": [
        "It works great for names in the domain. But if you try it on someone whose name is not in the list, the entire function crashes. "
      ]
    },
    {
      "cell_type": "code",
      "metadata": {
        "id": "58wwuLO6QVJk",
        "outputId": "5517fb7c-d0e8-4881-a17d-be29bbe075d2",
        "colab": {
          "base_uri": "https://localhost:8080/",
          "height": 283
        }
      },
      "source": [
        "get_height([\"Ben\", \"Priscilla\", \"Alejandro\"], heights)"
      ],
      "execution_count": 101,
      "outputs": [
        {
          "output_type": "error",
          "ename": "KeyError",
          "evalue": "ignored",
          "traceback": [
            "\u001b[0;31m---------------------------------------------------------------------------\u001b[0m",
            "\u001b[0;31mKeyError\u001b[0m                                  Traceback (most recent call last)",
            "\u001b[0;32m<ipython-input-101-50be52f30d31>\u001b[0m in \u001b[0;36m<module>\u001b[0;34m()\u001b[0m\n\u001b[0;32m----> 1\u001b[0;31m \u001b[0mget_height\u001b[0m\u001b[0;34m(\u001b[0m\u001b[0;34m[\u001b[0m\u001b[0;34m\"Ben\"\u001b[0m\u001b[0;34m,\u001b[0m \u001b[0;34m\"Priscilla\"\u001b[0m\u001b[0;34m,\u001b[0m \u001b[0;34m\"Alejandro\"\u001b[0m\u001b[0;34m]\u001b[0m\u001b[0;34m,\u001b[0m \u001b[0mheights\u001b[0m\u001b[0;34m)\u001b[0m\u001b[0;34m\u001b[0m\u001b[0;34m\u001b[0m\u001b[0m\n\u001b[0m",
            "\u001b[0;32m<ipython-input-95-76bace10ff7f>\u001b[0m in \u001b[0;36mget_height\u001b[0;34m(sequence, heights)\u001b[0m\n\u001b[1;32m      2\u001b[0m   \u001b[0moutput\u001b[0m \u001b[0;34m=\u001b[0m \u001b[0;34m[\u001b[0m\u001b[0;34m]\u001b[0m\u001b[0;34m\u001b[0m\u001b[0;34m\u001b[0m\u001b[0m\n\u001b[1;32m      3\u001b[0m   \u001b[0;32mfor\u001b[0m \u001b[0mname\u001b[0m \u001b[0;32min\u001b[0m \u001b[0msequence\u001b[0m\u001b[0;34m:\u001b[0m\u001b[0;34m\u001b[0m\u001b[0;34m\u001b[0m\u001b[0m\n\u001b[0;32m----> 4\u001b[0;31m     \u001b[0moutput\u001b[0m \u001b[0;34m=\u001b[0m \u001b[0moutput\u001b[0m \u001b[0;34m+\u001b[0m \u001b[0;34m[\u001b[0m\u001b[0mheights\u001b[0m\u001b[0;34m[\u001b[0m\u001b[0mname\u001b[0m\u001b[0;34m]\u001b[0m\u001b[0;34m]\u001b[0m\u001b[0;34m\u001b[0m\u001b[0;34m\u001b[0m\u001b[0m\n\u001b[0m\u001b[1;32m      5\u001b[0m   \u001b[0;32mreturn\u001b[0m \u001b[0moutput\u001b[0m\u001b[0;34m\u001b[0m\u001b[0;34m\u001b[0m\u001b[0m\n\u001b[1;32m      6\u001b[0m \u001b[0;34m\u001b[0m\u001b[0m\n",
            "\u001b[0;31mKeyError\u001b[0m: 'Alejandro'"
          ]
        }
      ]
    },
    {
      "cell_type": "markdown",
      "metadata": {
        "id": "2DvohvtmQlPX"
      },
      "source": [
        "Sometimes you want to just keep going in a case like this; to **handle** the error. Just like we can use indented 'if' and 'else' blocks, we can use a two-part block composed of 'try' and 'catch'. (If you do 'try' without 'catch', you'll get a *syntax* error, which means that Python can't even read your code--there's no way to recover from these.) \n",
        "\n",
        "In the example below, any error causes the person to be assigned a height of `None`. You could also assign a default value here, or even do something stranger like skip the entry altogether."
      ]
    },
    {
      "cell_type": "code",
      "metadata": {
        "id": "eGosPmOYQjxW",
        "outputId": "69de330b-6f18-47d1-b3de-6e7d757c1f0e",
        "colab": {
          "base_uri": "https://localhost:8080/",
          "height": 198
        }
      },
      "source": [
        "def get_height_safe(sequence, heights):\n",
        "  output = []\n",
        "  for name in sequence:\n",
        "    try:\n",
        "      output = output + [heights[name]]\n",
        "    except:\n",
        "      output = output + [None]\n",
        "  return output\n",
        "\n",
        "get_height_safe([\"Ben\", \"Priscilla\", \"Alejandro\"], heights)"
      ],
      "execution_count": 1,
      "outputs": [
        {
          "output_type": "error",
          "ename": "NameError",
          "evalue": "ignored",
          "traceback": [
            "\u001b[0;31m---------------------------------------------------------------------------\u001b[0m",
            "\u001b[0;31mNameError\u001b[0m                                 Traceback (most recent call last)",
            "\u001b[0;32m<ipython-input-1-785c12e7ff76>\u001b[0m in \u001b[0;36m<module>\u001b[0;34m()\u001b[0m\n\u001b[1;32m      8\u001b[0m   \u001b[0;32mreturn\u001b[0m \u001b[0moutput\u001b[0m\u001b[0;34m\u001b[0m\u001b[0;34m\u001b[0m\u001b[0m\n\u001b[1;32m      9\u001b[0m \u001b[0;34m\u001b[0m\u001b[0m\n\u001b[0;32m---> 10\u001b[0;31m \u001b[0mget_height_safe\u001b[0m\u001b[0;34m(\u001b[0m\u001b[0;34m[\u001b[0m\u001b[0;34m\"Ben\"\u001b[0m\u001b[0;34m,\u001b[0m \u001b[0;34m\"Priscilla\"\u001b[0m\u001b[0;34m,\u001b[0m \u001b[0;34m\"Alejandro\"\u001b[0m\u001b[0;34m]\u001b[0m\u001b[0;34m,\u001b[0m \u001b[0mheights\u001b[0m\u001b[0;34m)\u001b[0m\u001b[0;34m\u001b[0m\u001b[0;34m\u001b[0m\u001b[0m\n\u001b[0m",
            "\u001b[0;31mNameError\u001b[0m: name 'heights' is not defined"
          ]
        }
      ]
    },
    {
      "cell_type": "markdown",
      "metadata": {
        "id": "KUeU8zf1SCQP"
      },
      "source": [
        "# A summatize example: encoder functions.\n",
        "\n",
        "Here's an alteration of double-double that encodes one string into another, using the `chr` and `ord` functions we looked at in the first week. See if you can make sure you understand each line of this function. Note that we could define encode and decode separately, but since they follow the same logic, it makes sense to write a *general* function and call it with a different shift)."
      ]
    },
    {
      "cell_type": "code",
      "metadata": {
        "id": "MHRL0LCTE8FA"
      },
      "source": [
        "def shift_letters(message, shift):\n",
        "  encoded = \"\"\n",
        "  for letter in message:\n",
        "    code = ord(letter)\n",
        "    new_code = code + shift\n",
        "    encoded = encoded + chr(new_code)\n",
        "  return encoded\n",
        "\n",
        "def encode(message):\n",
        "  return ncode(message, 1)\n",
        "\n",
        "def decode(message):\n",
        "  return ncode(message, -1)"
      ],
      "execution_count": 111,
      "outputs": []
    },
    {
      "cell_type": "code",
      "metadata": {
        "id": "i4apDoQNSXkh",
        "outputId": "8b4ad545-04f2-4970-ac78-f9f388855e0a",
        "colab": {
          "base_uri": "https://localhost:8080/",
          "height": 35
        }
      },
      "source": [
        "encode(\"Hello Everybody\")\n",
        "\n"
      ],
      "execution_count": 113,
      "outputs": [
        {
          "output_type": "execute_result",
          "data": {
            "application/vnd.google.colaboratory.intrinsic+json": {
              "type": "string"
            },
            "text/plain": [
              "'Ifmmp!Fwfszcpez'"
            ]
          },
          "metadata": {
            "tags": []
          },
          "execution_count": 113
        }
      ]
    },
    {
      "cell_type": "code",
      "metadata": {
        "id": "5iMuc45USg1K",
        "outputId": "745657f0-b1a1-4deb-cf8b-ec7c94a3d1b9",
        "colab": {
          "base_uri": "https://localhost:8080/",
          "height": 35
        }
      },
      "source": [
        "decode(\"Ifmmp!Fwfszcpez\")"
      ],
      "execution_count": 114,
      "outputs": [
        {
          "output_type": "execute_result",
          "data": {
            "application/vnd.google.colaboratory.intrinsic+json": {
              "type": "string"
            },
            "text/plain": [
              "'Hello Everybody'"
            ]
          },
          "metadata": {
            "tags": []
          },
          "execution_count": 114
        }
      ]
    },
    {
      "cell_type": "markdown",
      "metadata": {
        "id": "TEtRxyPBSYGV"
      },
      "source": [
        "For our next group sessions, I want you to post an encoded message but *not* the encoder function you use. Be as simple or creative as you want.\n",
        "\n",
        "\n",
        "## Encoding with a dictionary\n",
        "\n",
        "Here's a function that encodes using not code points, but a dictionary.\n",
        "It also uses the `.lower()` method of strings we discussed earlier.\n"
      ]
    },
    {
      "cell_type": "code",
      "metadata": {
        "id": "5b1e2VB5F2oX",
        "outputId": "53c70f1b-067d-4127-d533-9e335d0eea54",
        "colab": {
          "base_uri": "https://localhost:8080/",
          "height": 35
        }
      },
      "source": [
        "substitutions = dict()\n",
        "for letter in \"ABCDEFGHIJKLMNOPQRSTUVWXYZ \":\n",
        "    switches[letter] = letter.lower()\n",
        "    switches[letter.lower()] = letter\n",
        "\n",
        "def encode2(message, switches):\n",
        "    encoded = \"\"\n",
        "    for letter in message:\n",
        "        # Under what conditions will this fail? How can we fix it?\n",
        "        encoded += switches[letter]\n",
        "    return encoded\n",
        "\n",
        "encode2(\"Hello Everyone\", switches)"
      ],
      "execution_count": 116,
      "outputs": [
        {
          "output_type": "execute_result",
          "data": {
            "application/vnd.google.colaboratory.intrinsic+json": {
              "type": "string"
            },
            "text/plain": [
              "'hELLO eVERYONE'"
            ]
          },
          "metadata": {
            "tags": []
          },
          "execution_count": 116
        }
      ]
    },
    {
      "cell_type": "markdown",
      "metadata": {
        "id": "TFqIi8Oxi1oa"
      },
      "source": [
        "Think about what the 'decode' function would be in this case. (Hint--you don't have a write a new function.)"
      ]
    },
    {
      "cell_type": "code",
      "metadata": {
        "id": "0hBORF9oGj2u",
        "outputId": "cd6e687a-35f9-412f-ea5b-01df649df9c4",
        "colab": {
          "base_uri": "https://localhost:8080/",
          "height": 35
        }
      },
      "source": [
        ""
      ],
      "execution_count": 115,
      "outputs": [
        {
          "output_type": "execute_result",
          "data": {
            "application/vnd.google.colaboratory.intrinsic+json": {
              "type": "string"
            },
            "text/plain": [
              "'E'"
            ]
          },
          "metadata": {
            "tags": []
          },
          "execution_count": 115
        }
      ]
    },
    {
      "cell_type": "markdown",
      "metadata": {
        "id": "RSIFJKtejMBA"
      },
      "source": [
        "## Project for groups\n",
        "\n",
        "1. Write a paired encoder and decoder, as close to the models above as you want. Post an encoded message to slack."
      ]
    },
    {
      "cell_type": "code",
      "metadata": {
        "id": "7QJIToXRI2Rv"
      },
      "source": [
        ""
      ],
      "execution_count": 82,
      "outputs": []
    },
    {
      "cell_type": "code",
      "metadata": {
        "id": "NPYN7dx8JBt8"
      },
      "source": [
        ""
      ],
      "execution_count": 82,
      "outputs": []
    }
  ]
}