{
  "nbformat": 4,
  "nbformat_minor": 0,
  "metadata": {
    "colab": {
      "name": "Scraping the Web.ipynb",
      "provenance": [],
      "collapsed_sections": [],
      "authorship_tag": "ABX9TyO9Ydc6aWP3MWPJb0Arork5",
      "include_colab_link": true
    },
    "kernelspec": {
      "name": "python3",
      "display_name": "Python 3"
    }
  },
  "cells": [
    {
      "cell_type": "markdown",
      "metadata": {
        "id": "view-in-github",
        "colab_type": "text"
      },
      "source": [
        "<a href=\"https://colab.research.google.com/github/HumanitiesDataAnalysis/code20/blob/master/Scraping_the_Web.ipynb\" target=\"_parent\"><img src=\"https://colab.research.google.com/assets/colab-badge.svg\" alt=\"Open In Colab\"/></a>"
      ]
    },
    {
      "cell_type": "markdown",
      "metadata": {
        "id": "vYatcshmSJra"
      },
      "source": [
        "# Web Scraping\n",
        "\n",
        "Let's talk about how to pull unstructured data from the web.\n",
        "\n",
        "You should start with a real page.\n",
        "\n",
        "The first question is: can you understand the URL? Try changing some elements in it."
      ]
    },
    {
      "cell_type": "code",
      "metadata": {
        "id": "gjs4NYRURV8U"
      },
      "source": [
        "url = \"https://archive.org/details/KSTS_20170829_010000_Noticiero_Telemundo_48/start/1775/end/1835?q=telemundo+refugiados\""
      ],
      "execution_count": null,
      "outputs": []
    },
    {
      "cell_type": "code",
      "metadata": {
        "id": "L7Mxx6s5Rgu3"
      },
      "source": [
        "import urllib\n",
        "\n",
        "from urllib.request import urlopen"
      ],
      "execution_count": null,
      "outputs": []
    },
    {
      "cell_type": "code",
      "metadata": {
        "id": "_Jd3sZuTRnxv"
      },
      "source": [
        "text = urlopen(url).read()"
      ],
      "execution_count": null,
      "outputs": []
    },
    {
      "cell_type": "markdown",
      "metadata": {
        "id": "okVjm9OSRhl3"
      },
      "source": [
        "If you understand a bit about HTML, you can go deeper into this by parsing it out. The standard library for HTML parsing is called \"BeautifulSoup\". If you use 'inspect element'"
      ]
    },
    {
      "cell_type": "markdown",
      "metadata": {
        "id": "Fhua1U2fwyih"
      },
      "source": [
        "* Attributes\n",
        "* Elements\n",
        "* ids"
      ]
    },
    {
      "cell_type": "code",
      "metadata": {
        "id": "WaQ-R76fw1sE"
      },
      "source": [
        "<div id=\"head-2\" class=\"subtitle text\">Some code</div>"
      ],
      "execution_count": null,
      "outputs": []
    },
    {
      "cell_type": "code",
      "metadata": {
        "id": "FaYFprByRYyB"
      },
      "source": [
        "from bs4 import BeautifulSoup"
      ],
      "execution_count": null,
      "outputs": []
    },
    {
      "cell_type": "code",
      "metadata": {
        "id": "y2OkCezgRgOB"
      },
      "source": [
        "parsed = BeautifulSoup(text)"
      ],
      "execution_count": null,
      "outputs": []
    },
    {
      "cell_type": "code",
      "metadata": {
        "id": "1Bi9H0N2Sbp1"
      },
      "source": [
        "elements = parsed.findAll(attrs={\"class\": \"snipin\"})"
      ],
      "execution_count": null,
      "outputs": []
    },
    {
      "cell_type": "code",
      "metadata": {
        "colab": {
          "base_uri": "https://localhost:8080/"
        },
        "id": "b2JeLVqGShfs",
        "outputId": "a1566674-b772-4494-cdb3-500bc2d259c4"
      },
      "source": [
        "for element in elements:\n",
        "  print(element.text)"
      ],
      "execution_count": null,
      "outputs": [
        {
          "output_type": "stream",
          "text": [
            "\n",
            "            relacionados con ellos podrian ser responsables por otros ataques. blanca --- yo me despido pero los dej con ms informacin en nuestra emisin de noticias a las seis de la tarde --- cesar ---transitar por la ciudad de houston es imposible... y las rutas de evacuacin en las zonas afectadas estn congestionadas. lorena --mucha gente continua atrapada en las zonas en donde se dio la orden de evacuacin obligatoria. y mientras nuestro compañero fernando mejia, cubra este incidente devastador..... ayud a una residente a salir de su casa. take 2 boxes cesar fernando, cmo se encuentran? take lot intro fernando buenas tardes tanto la señora como yo estamos bien. aqu en este vecindario que colinda con el desage de la presa el nivel del agua est subiendo rpidamente, la orden de evacuar se dio pero algunos quedaron detrs. nat sound los residentes en este vecindario sacaban a toda prisa sus           \n",
            "\n",
            "            pertenencias ms importantes, documentos y comida para sus mascotas, ah fue que nos enteramos de sherr smith nat sound \"my friend sheer is in the house in the corner\" -she still there? -witch house? -right in the corner\" nos dijo que su amiga se encontraba en la casa de la esquina y necesitaba ayuda, son momentos que uno no piensa dos veces y decid ir en su ayuda. nat sound 35:25\" \"vamos a ver si la podemos ayudar nosotros. vean donde me llegue el agua, está muy cerca de los desages de la presa y el nivel está subiendo rápidamente, vamos a ver si la señora necesita ayuda\" nat sound 36:05\" \"is anybody home? -hello, where are you? -over here\" -i am from the news, i heard you need some help.           \n",
            "\n",
            "            -i just getting some medicine and vitamins. sherr estaba bien y solo estaba empacando cosas importantes, su casa se encuentra justo a un lado de los desages de la presa, ella me cometo que esta mañana todo estaba bien, pero al parecer soltaron agua y su casa y todas las del vecindario se inundaron. nat sound 38:29\" \"can you help carrie those, this are heavy\" en la bolsa sherr leva documentos importantes y comida para sus mascotas. nat sound 38:54\" terrible, we went to some much of this, i don't understand why this is happening again\" dijo sentirse terriblemente mal de perder todo, sherr llego a houston en busca de un lugar ms seguro para vivir ya que ella haba perdido todo en nueva orleans con katrina anos atrs. nat sound 40:49\" \"i don't know where i am going from her\" salir de su casa fue un difcil por la cantidad de agua a nuestro alrededor, al final y despus de caminar por varios metros llegamos a un lugar seguro hasta donde tena su carro estacionado. nat soud \"bye, thanks. -bye sheer, good luck\" outro fernando el agua que cubre esta rea es del desagua de la presa que est a unos 300 metros hacia adentro, el nivel del agua al menos en las casas ms cercanas ah es de aproximadamente 5 pies, la           \n",
            "\n",
            "            preocupacin es que si llegan abrir las compuertas esta rea quedara totalmente inundada. regresamos al estudio. topvo/lorena --tambin en houston......seis miembros de una familia podran haber sido arrastrados por la corriente, esto de acuerdo con sus seres queridos. --\"virginia saldivar\" dice que sus padres y cuatro nietos estn desaparecidos. se encontraban en un vehculo que se fue de frente en el agua cerca de un rio. --el conductor logr escapar, pero no pudo sacarlos, se sujet de un rbol mientras la corriente se llev al coche.... --las autoridades no han confirmado la desaparicin de esta familia.... vo cesar - telemundo se une en un acto solidario con las vctimas de esta catstrofe a travs de la iniciativa \"el poder en ti\". - si uste est interesado en participar y ayudar a las personas afectadas por el huracn \"harvey\" puede hacerlo entrando a la pgina de internet que aparece en pantalla... \"www punto el poder en ti punto com diagonal cruz roja\" o llamar al nmero 1-800-596-6567. - su donacin har posible que la cruz roja pueda proveer           \n",
            "\n",
            "            servicios de ayuda a todos los afectados. cesar organizadores de grupos anti- fascitas llevaron a cabo una rueda de prensa esta tarde para referirse a los ataques y arrestos ocurridos durante las protestas de bekerley lorena --melissa hernandez est en vivo desde berkeley ..... take 2boxes --melissa cul es el mensaje de estas personas? meli live buenas tardes estas personas hicieron una invitacin a no enfocarse en los arrestos y peleas que ocurrieron ayer sino en el gran nmero de personas que se tom las calles de esta ciudad para marchar en contra del fascismo y a favor de los derechos civiles demostrando que a los invitados no deseados, por lo menos aqu en berkeley, se les muestra la puerta.. take vo y es que ayer cerca de 4-mil personas se tomaron las calles de esta ciudad para manifestarse en contra del fascismo. una de las protestas empez a las 10 de la mañana cerca           \n",
            "\n",
            "            de la universidad uc berkeley donde todo transcurri tranquilamente. sin embargo una vez estas personas empezaron a marchar hacia el parque martin luther king jr, empezaron los problemas. varias personas agarraron a golpes a integrantes del pequeño grupo de simpatizantes de donald trump que llego hasta el mismo parque para, segn ellos, defender su derecho de libre expresin. la polica realizo ms de una docena de arrestos por riñas de este tipo. hoy una de las organizadoras de estas protestas indico que no buscan violencia pero no permitirn que grupos de supremaca blanca o simpatizantes del ku klux klan vengan a imponer miedo en esta ciudad. take sot xchitl johnson/ refuse facism we will not innitiate violence esta representante de la organizacin \"refuse fascism \" dijo que ellos no incitan a la violencia pero si respetan el derecho de las personas a defenderse y agrego que ella, tras ser insultada y ataca por nazistas, entiende el enojo de las personas y su consejo es actuar como cuando se tiene a un invitado no deseado en casa, primero, segn ella, se les pide que no vengan, si no lo hacen les pide que se vayan, y si no se van, se les muestra la puerta y eso fue lo que paso ayer..           \n",
            "\n",
            "            con vo en cuanto al ataque de algunos periodistas durante la protesta, la organizadora de este grupo dijo no pueden hablar especficamente sobre cada caso pero recalc que la comunidad est asustada y en situaciones de alta tensin como estas es fcil sentirse atacado. on camera los organizadores de \"refuse fascism\" tambin anunciaron que se planean multitudinarias marchas a lo largo de todo el pas para el prximo 4 de noviembre. reportando en vivo desde berkeley mh t48 ; ; ; ; ; ; cesar --el oficial de la polica de san francisco suspendido de su cargo, \"joshua enea\" se present esta mañana en una corte de pittsburg en el caso de pornografa infantil en su contra. take vo --la audiencia de \"enea\" se pospuso hasta el 13 de septiembre, porque la fiscala no acudi al tribunal. el agente fue arrestado en julio pasado despues de una investigacin en la que las autoridades indicaron que el oficial tenia pornografa infantil en su computadora personal, en su           \n",
            "\n",
            "            casa de antioch. cesar hoy el senado de california aprob un proyecto de ley que, de ser firmada por el gobernador brown, prohibira a los abogados en las cortes preguntar por el estatus migratorio ...si no tiene relevancia para el caso... lorena algo que activistas calificaron como un alivio en medio de un ambiente tan anti inmigrante... andres brender nos informa... take pkg pkg activistas y algunos abogados califican la aprobacin del proyecto de ley sb785, comoo una victoria para el inmigrante, cuya desconfianza en el sistema de justicia dicen expertos, ha aumentado peligrosamente sot george gascn/fiscal de sf las autoridades de inmigracin estn yendo a las cortes buscando inmigrantes que puede estar sin documentos y hace arrestos.. la fiscala asegura que eso ocurre porque se le pregunta indiscreta, pero peligrosamente a los involucrados en un juicio, su estatus migratorio... sot george entonces le preguntan a la persona si aplicaron para una visa u o visa y que claramente quiere decir que una persona est sin documentos bridge para convertirse en ley deber hora pasar por la asamblea, y luego el gobernador jerry brown la debera de firmar.... de ser as y si se convierte en ley, los abogados no podrn preguntar           \n",
            "\n",
            "            el estatus migratorio en ningn juicio que sea abierto al pblico, al menos que tengan autorizacin de un juez el senador scott wiener fue el co autor del proyecto de ley ... en un esfuerzo bipartidista sot scott wiener/senador (d) san francisco ambos demcratas y republicanos votaron a favor de los inmigrantes sot mark silverman/abogad o de inmigracin este proyecto de ley va a beneficiar a los inmigrantes en dos respectos... primero va a quedar que est informacin pueda ser utilizado por ice o hs.... segundo va a quedar miedo que inmigrantes den testimonio ab t48 vo cesar           \n",
            "\n",
            "            --mientras que el gobernador de california, jerry brown, le pidi al presidente trump que no elimine el programa federal que protege a las personas que ingresaron indocumentados al pais cuando eran niños. --en una carta enviada a la casa blanca, el gobernador mencion que deportar personas del pais en el que crecieron es un acto cruel y que va en contra de los ideales con los que se fund este pais. --el fiscal general del estado tambien expres su opinin. take sot \"estos jovenes que estan trabajando,estan pagando impuestos, estan mejorando sus vecindarios, estan comprando casas, empezando negocios, y lo que vemos es que daca ha sido un exito para todos.\" cont vo cesar --se estima que ms de 150 mil soñadores beneficiados con la accion diferida viven en el estado de california. lorena/take vo ---con el objetivo de fortalecer la defensa de los derechos labporales y de difundir mayor informacin sobre los mismos entre la comunidad, el consulado de mexico en san jose inauguro su semana           \n",
            "\n",
            "            informativa sobre este tema... take vo ---esta se realizara a partir de hoy hasta el 4 de septiembre y consta de seminarios que podran ayudar a los asistentes a conocer sus derechos sin importar su estatus migratorio... ---tambien se ofrece proteccion consular en los casos que se requiera... take sotmauricio toussaint, consul de mexico en san jose 5:08...\"independientemente del estatus migratorio cada persona, cada trabajador tiene derechos, esta protegido y debe de conocerlos y asesorarse para defender su situacion\"...5:22 con vo lorena ---los seminarios y consultoras se llevan a cabo en las instalaciones del consulado general ubicado en el 302 enzo dr, suite 200, san jos... ---de 9:00 de la mañana a 12:30 de la tarde. lorena --a un año de la muerte de juan gabriel, se realizan homenajes para recordar al divo de jurez...... en la ciudad de mxico, lo recuerdan con su msica... cesar adems decenas de personas, han acudido a dejar flores al pie de la estatua del cantautor... jazive prez est ah, y nos tiene los detalles...           \n",
            "\n",
            "            take pkg :01 :10 fast :24 :48 :55 01:24 track: cantaron lo ms fuerte que pudieron en un intento por hacer que su mensaje llegara hasta el cielo. track: las letras eran las mismas que un da penetraron sus corazones, dice don tito llevando un poema y una rosa roja , que los hicieron suspirar, amar y llorar en la voz privilegiada del divio de juarez . track: globos blancos y flores fueron colocados en la galería de los grandes , por quienes durante años siguieron la carrera del cantautor y bailaron al ritmo de la alegría justo como el les enseño.... track: y no en solo en la capital mexicana , el recuerdo se volvió fiesta ... en su natal michoacán lo rememoraron con una misa y un festival , mientas que ciudad juárez , frontera que tanto amo ... se lleno de colores y música en su honor .. track: y es que para todos ellos juan gabriel no se ha ido ...y no lo hará , pues a través de sus canciones permanecera siempre como su amor eterno e inolvidable ... en méxico , jazive perez , telemundo ... take vo/lorena           \n",
            "\n",
            "            --desalojados... decenas de indigentes son forzadas en           \n",
            "\n",
            "            abandonar un campamento improvisado, y ahora buscan otro lugar para refugiarse de las altas temperaturas... gabriel live el barcelona presenta a su nuevo refuerzo el dia de hoy.. \"dembl\" ademas take vo los san jose earthquakes sacan una victoria importante en calidad de visitante ayer.. los detalles en deportes. live weather cam           \n",
            "\n",
            "\n",
            "\n",
            "            san jose sobre la construccion de casas miniatura para indigentes, esta manana decenas de desamparados fueron desalojados de un terreno al norte de la ciudad... cesar pero aseguran los afectados no iran muy lejos... sandra bermudez con los detalles... take pkg 00:05 banner 00:19 gina 00:48 jim 01:48 scott pkg desde las 7 de la manana, comenzaron a llegar camiones recolectores de basura y camionetas de la ciudad de san jose a la esquina de las calles oakland y corie court iban acompanados por agentes policiacos, bomberos y representantes del distrito de agua... estuvieron ahi para hacer cumplir una order de desalojo de indigentes... sot gina adriano, vocera distrito de agua las personas son dadas una notificacion, minimo 72 horas se les avisa que la zona sera limpiada vo por medio de estos avisos les dejaron saber que hoy lunes 28 de agosto tendrian que llevarse todas sus pertenencias... y advertian que si se quedaban ahi estarian cometiendo un delito y enfrentarian cargos criminales por traspaso... la mayoria hiceron caso y se les vio moviendo sus cosas... pero no fueron muy lejos pues aseguran regresaran en           \n",
            "\n",
            "            cualquier momento... sot jim turner, indigente tengo que empacar todo, y como no lo puedo dejar en ningun lugar lo subire a una carretilla y estare paseando mis cosas todo el dia hasta que se vayan y en la noche volvere a poner mi casa de campana ... eso hare por lo menos una semana... vo las agencias que emitieron la notificacion supuestamente lo estan haciendo por que durante las proximas dos semanas estaran cortando la maleza a lo largo de coyote creek, desde old oakland road hasta haselet way... sot es muy importante en preparacion para este trabajo poder librara esas areas de basura de bloques que existen desafortunadamente esos bloqueos causan ese tipo de obstaculos vo dicen que hay unas plantas que parecen bambu y que pueden impedir el paso del agua del arrollo... pero activistas y lideres religiosos externaron su descontento pues el probelma dicen no se esta resolviendo de raiz.... pues son unas 50 personas las que ahi vivian y quienes ahora           \n",
            "\n",
            "            estaran deambulando por las calles hasta encontrar un sitio viable para pasar la noche... sot scott weigestcham, pastor lo que esto representa es un ciclo sin fin de gente moviendose de un lugar a otro, pero nunca pueden establecerse vo sandra bermudez noticiero telemundo 48... top vo cesar ---legisladores estatales estan buscando aprobar medidas para enfrentar la crisis de vivienda asequible en california... ---para eso colocaran en la elecciones de junio de 2018 un proyecto que aprobaria 3mil millones de dolares para construir viviendas a bajo precio... ---otro proyecto simplificaria el proceso para consruir residencias... ---los legisladores creen que con la aprobacion de las propuestas se fomentaria el empleo entre comunidades de bajos ingresos. lorena --- es momento de conocer lo que acontece en el mundo de los deportes --- cesar --- pasamos con gabriel sotelo y la actualidad deportiva --- hola que tal y feliz lunes           \n",
            "\n",
            "            arrancamos con lo que nos dejo el cierre de la jornada numero siete del torneo apertura de la liga mx.. toluca recibio la visita de puebla.. take vo los diablos se vieron sorpendidos por la franja y terinaro el primer tiempo perdiendo. ya en el complemento vendria la reaccion de los pupilos de cristante con tantos de \"perg\" al 57 y uribe al \"73\" para darle la vuelta y quedarse con el partido por resultado final de dos a uno. mientras tanto pumas sigue siendo un desastre que hace unos dias le dio las gracias a palencia y lo saco del banquillo del conjunto universitario. las cosas solo empeoraron este fin de semana despues de perder ante veracruz uno a cero con el tanto solitario de daniel villava. este fin de semana gerardo torrado quien sera el proximo \"director deportivo de selecciones nacionales\" estuvo de visita en la bahia y nuestro compañero juan francisco ramirez pudo platicar           \n",
            "\n",
            "            con el uno a uno sobre su nuevo cargo.. aqui le tenemos una parte de la entrevista. take sot trt:21 sec outcue:content o juan carlos osorio y su cuerpo tcnico han convocado a ral lpez y csar montes para sustituir a erick gutirrez y elas hernndez en la seleccin mexicana en los prximos partidos de clasificacin para el mundial de rusia 2018 ante panam y costa rica. lopez y montes causaron baja por lesion. en la major legue soccer la temporada regular se encuentra en la recta final y para los san jose earthquakes cada ppunto es vital para amarrar un boleto a los playoffs. take vo el dia de ayer los quakes vacunaron nuevamente al galaxy de los angeles, esta vez por marcador final de tres a cero y depaso quedandose con dos de los tres           \n",
            "\n",
            "   cali clasicos disputados esta temporada. le tenemos palabras de marco ureña uno de los anotadores de este partido. take sot trt:18 sec outcue:saliendo por ultimo el extremo francs \"ousmane dembélé\" de 20 años lleg finalmente al barcelona, tras duras negociaciones con el borussia dortmund. el fichaje costo un total de 105 millones de euros... este es el segundo ms caro de la historia del ftbol despus de neymar que cost 222 millones de euros del barcelona al pars saint germain. esa es toda la informacion que les tengo al momento, los espero a las 11 de la noche con mas del mundo de los deportes.. que tengan excelente tarde gabriela pasamos contigo. gabriela live          \n",
            "\n",
            " \n",
            "\n",
            "            ♪ suena música [vo] al ayudar a nuestros jóvenes, ayudamos a toda la comunidad a ser mejor. wells fargo ha apoyado al hispanic scholarship fund con más de 15 millones de dólares para ayudar a estudiantes latinos. porque cuando tú llegas, llegamos todos contigo. [recepcionista] hi diana! [diana] hi!           \n",
            "\n",
            "            apretarse el cinturón y tener un poco de apoyo, como el que podemos ofrecerle en pg&e. con nuestro programa care usted puede ahorrar 20% o más en su factura mensual. solicitar sólo toma unos minutos y no se requieren documentos. a veces tener un poco más puede significar tanto... visite pge.com/care e inscríbase hoy mismo.           \n",
            "\n",
            "\n",
            "\n",
            "\n",
            "\n",
            "            live weather beauty camera segment ends           \n",
            "\n",
            "\n",
            "\n",
            "            napa acusada de posecin de drogas y robo de identidad... reveal 2 --atroz --un enfermero inyectaba farmacos letales a sus pacientes por el deseo de obtener admiracin al revivirlos... reveal 3 --se roba un autobs escolar y provoca una persecucin policial a alta velocidad y todo qued captado en cmara...           \n",
            "\n",
            "            --esto y mas en vivo a las once. cam 2 anchor ...no se olvide de escribirnos al correo \"noticiero t 48 arroba telemundo punto com\" ..... anchor --- y si tiene una historia que contarnos llmenos al 408 944 4813. anchor gracias por acompanarnos, los dejamos con el noticiero nacional de telemundo... ---           \n",
            "\n",
            "            no deja de subir en houston barrios enteros están sepultados, hay 5.000 refugiados, los rescates algunos muy dramáticos se multiplican. >> necesitamos ayuda noticias telemundo recorre un barrio latino donde residentes reclaman desesperados por una ayuda que no les llega hay polémica porque no se evacuó la ciudad completa. >> en defensa de daca, jóvenes dreamers en el país exigen al presidente trump que no ponga fin al programa migratorio, crece angustia hay más de 800 mil indocumentados que podrían enfrentar pronto la deportación. >> juan gabriel eterno. a un año de la muerte del divo de juárez millones de seguidores le rinden homenaje recordando las canciones y el legado de uno de los más grandes cantautores de la música latina. noticias telemundo comienza ya. >> ♪ (música) ♪ >>           \n"
          ],
          "name": "stdout"
        }
      ]
    },
    {
      "cell_type": "code",
      "metadata": {
        "id": "NLytUXfkTEPu"
      },
      "source": [
        "from urllib.request import urlopen "
      ],
      "execution_count": null,
      "outputs": []
    },
    {
      "cell_type": "code",
      "metadata": {
        "id": "rHQERbJKsslA"
      },
      "source": [
        "lines = urlopen('https://www.stern.nyu.edu/faculty/search_name_form').readlines()"
      ],
      "execution_count": null,
      "outputs": []
    },
    {
      "cell_type": "code",
      "metadata": {
        "id": "7-o5RGIjs0Ur"
      },
      "source": [
        "bios = [l.decode(\"utf-8\") for l in lines if \"faculty/bio\" in l.decode(\"utf-8\")]"
      ],
      "execution_count": null,
      "outputs": []
    },
    {
      "cell_type": "code",
      "metadata": {
        "id": "RsQyKFIks1vO"
      },
      "source": [
        "people = []\n",
        "for person in bios:\n",
        "  splitted = person.split('\"')\n",
        "  people.append({\"name\": splitted[2], \"url\": splitted[1]})"
      ],
      "execution_count": null,
      "outputs": []
    },
    {
      "cell_type": "code",
      "metadata": {
        "colab": {
          "base_uri": "https://localhost:8080/"
        },
        "id": "iUMJOQCjs5uQ",
        "outputId": "5340df9e-aff1-41d6-b8d9-f5de3b9fdab4"
      },
      "source": [
        "people[100]"
      ],
      "execution_count": null,
      "outputs": [
        {
          "output_type": "execute_result",
          "data": {
            "text/plain": [
              "{'name': '>Drohojowski, Francisco </a></td>\\n',\n",
              " 'url': 'https://www.stern.nyu.edu/faculty/bio/francisco-drohojowski'}"
            ]
          },
          "metadata": {
            "tags": []
          },
          "execution_count": 19
        }
      ]
    },
    {
      "cell_type": "code",
      "metadata": {
        "colab": {
          "base_uri": "https://localhost:8080/",
          "height": 271
        },
        "id": "94QF4-GEuLft",
        "outputId": "884fca74-a523-41e9-f690-efb1702a17ae"
      },
      "source": [
        "import time\n",
        "all_entries = []\n",
        "for person in people:\n",
        "  new_text = urlopen(person['url']).read()\n",
        "  all_entries.append(new_text)\n",
        "  print(person['name'])\n",
        "  time.sleep(10)"
      ],
      "execution_count": null,
      "outputs": [
        {
          "output_type": "stream",
          "text": [
            ">Acharya, Viral V.</a></td>\n",
            "\n",
            ">Adamson, Allen </a></td>\n",
            "\n"
          ],
          "name": "stdout"
        },
        {
          "output_type": "error",
          "ename": "KeyboardInterrupt",
          "evalue": "ignored",
          "traceback": [
            "\u001b[0;31m---------------------------------------------------------------------------\u001b[0m",
            "\u001b[0;31mKeyboardInterrupt\u001b[0m                         Traceback (most recent call last)",
            "\u001b[0;32m<ipython-input-21-f772fa447b1d>\u001b[0m in \u001b[0;36m<module>\u001b[0;34m()\u001b[0m\n\u001b[1;32m      5\u001b[0m   \u001b[0mall_entries\u001b[0m\u001b[0;34m.\u001b[0m\u001b[0mappend\u001b[0m\u001b[0;34m(\u001b[0m\u001b[0mnew_text\u001b[0m\u001b[0;34m)\u001b[0m\u001b[0;34m\u001b[0m\u001b[0;34m\u001b[0m\u001b[0m\n\u001b[1;32m      6\u001b[0m   \u001b[0mprint\u001b[0m\u001b[0;34m(\u001b[0m\u001b[0mperson\u001b[0m\u001b[0;34m[\u001b[0m\u001b[0;34m'name'\u001b[0m\u001b[0;34m]\u001b[0m\u001b[0;34m)\u001b[0m\u001b[0;34m\u001b[0m\u001b[0;34m\u001b[0m\u001b[0m\n\u001b[0;32m----> 7\u001b[0;31m   \u001b[0mtime\u001b[0m\u001b[0;34m.\u001b[0m\u001b[0msleep\u001b[0m\u001b[0;34m(\u001b[0m\u001b[0;36m10\u001b[0m\u001b[0;34m)\u001b[0m\u001b[0;34m\u001b[0m\u001b[0;34m\u001b[0m\u001b[0m\n\u001b[0m",
            "\u001b[0;31mKeyboardInterrupt\u001b[0m: "
          ]
        }
      ]
    },
    {
      "cell_type": "code",
      "metadata": {
        "colab": {
          "base_uri": "https://localhost:8080/"
        },
        "id": "hKcaaYINu06S",
        "outputId": "c1425b0b-71cb-43f5-ff53-de6538f9633f"
      },
      "source": [
        "[l for l in all_entries[0].decode(\"utf-8\").split(\"\\n\") if \".jpg\" in l]"
      ],
      "execution_count": null,
      "outputs": [
        {
          "output_type": "execute_result",
          "data": {
            "text/plain": [
              "['           <img src=\"https://www.stern.nyu.edu/faculty/static/photos/vacharya.jpg\" height=\"260\" alt=\"Viral V. Acharya\">']"
            ]
          },
          "metadata": {
            "tags": []
          },
          "execution_count": 25
        }
      ]
    },
    {
      "cell_type": "code",
      "metadata": {
        "id": "y15LawJrvBYO"
      },
      "source": [
        ""
      ],
      "execution_count": null,
      "outputs": []
    }
  ]
}