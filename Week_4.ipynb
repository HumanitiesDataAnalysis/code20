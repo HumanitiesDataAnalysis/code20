{
  "nbformat": 4,
  "nbformat_minor": 0,
  "metadata": {
    "colab": {
      "name": "Week 4",
      "provenance": [],
      "collapsed_sections": [],
      "authorship_tag": "ABX9TyPcCa20EszAbyZNkNUn2iT6",
      "include_colab_link": true
    },
    "kernelspec": {
      "name": "python3",
      "display_name": "Python 3"
    }
  },
  "cells": [
    {
      "cell_type": "markdown",
      "metadata": {
        "id": "view-in-github",
        "colab_type": "text"
      },
      "source": [
        "<a href=\"https://colab.research.google.com/github/HumanitiesDataAnalysis/code20/blob/master/Week_4.ipynb\" target=\"_parent\"><img src=\"https://colab.research.google.com/assets/colab-badge.svg\" alt=\"Open In Colab\"/></a>"
      ]
    },
    {
      "cell_type": "markdown",
      "metadata": {
        "id": "32VSzo6hHZnk"
      },
      "source": [
        "# Three things that are missing\n",
        "\n",
        "... from Montfort's text that I think you need to know.\n",
        "\n",
        "# Methods\n",
        "\n",
        "Methods are special functions that are bound to objects. Strings, lists, and numbers all have their own associated methods; you call them by putting a period at the end of the variable name and then writing the function. Note that you don't have to put anything inside the parentheses some of the time--methods are called *on the object itself*."
      ]
    },
    {
      "cell_type": "code",
      "metadata": {
        "id": "2BS0m87xpuqj",
        "outputId": "eb133271-eb1c-4e9c-febd-dd241b7db0f4",
        "colab": {
          "base_uri": "https://localhost:8080/",
          "height": 35
        }
      },
      "source": [
        "word = \"John Jacob Jingleheimer Schmidt\"\n",
        "\n",
        "word.lower()"
      ],
      "execution_count": 6,
      "outputs": [
        {
          "output_type": "execute_result",
          "data": {
            "application/vnd.google.colaboratory.intrinsic+json": {
              "type": "string"
            },
            "text/plain": [
              "'john jacob jingleheimer schmidt'"
            ]
          },
          "metadata": {
            "tags": []
          },
          "execution_count": 6
        }
      ]
    },
    {
      "cell_type": "markdown",
      "metadata": {
        "id": "XfOYfeCzkO-v"
      },
      "source": [
        "The original value stays the same--the lowercase version is just a returned thing."
      ]
    },
    {
      "cell_type": "code",
      "metadata": {
        "id": "wfXKktA_D1U0",
        "outputId": "26247a35-262b-4d48-ca26-86b9f3877d29",
        "colab": {
          "base_uri": "https://localhost:8080/",
          "height": 35
        }
      },
      "source": [
        "word"
      ],
      "execution_count": 7,
      "outputs": [
        {
          "output_type": "execute_result",
          "data": {
            "application/vnd.google.colaboratory.intrinsic+json": {
              "type": "string"
            },
            "text/plain": [
              "'John Jacob Jingleheimer Schmidt'"
            ]
          },
          "metadata": {
            "tags": []
          },
          "execution_count": 7
        }
      ]
    },
    {
      "cell_type": "code",
      "metadata": {
        "id": "b_MQT0_cpv4Z",
        "outputId": "433a26d3-f37a-4ac1-9542-b77b1a4bcb65",
        "colab": {
          "base_uri": "https://localhost:8080/",
          "height": 35
        }
      },
      "source": [
        "word.upper()"
      ],
      "execution_count": 8,
      "outputs": [
        {
          "output_type": "execute_result",
          "data": {
            "application/vnd.google.colaboratory.intrinsic+json": {
              "type": "string"
            },
            "text/plain": [
              "'JOHN JACOB JINGLEHEIMER SCHMIDT'"
            ]
          },
          "metadata": {
            "tags": []
          },
          "execution_count": 8
        }
      ]
    },
    {
      "cell_type": "code",
      "metadata": {
        "id": "bMiylvmapxKd",
        "outputId": "83685bef-e25f-4870-c689-5de27004abff",
        "colab": {
          "base_uri": "https://localhost:8080/",
          "height": 35
        }
      },
      "source": [
        "word.capitalize() # The first word."
      ],
      "execution_count": 9,
      "outputs": [
        {
          "output_type": "execute_result",
          "data": {
            "application/vnd.google.colaboratory.intrinsic+json": {
              "type": "string"
            },
            "text/plain": [
              "'John jacob jingleheimer schmidt'"
            ]
          },
          "metadata": {
            "tags": []
          },
          "execution_count": 9
        }
      ]
    },
    {
      "cell_type": "code",
      "metadata": {
        "id": "z54SKaTTpyIs",
        "outputId": "bb3ed3d5-e844-48e4-9ecb-cf8b05845adf",
        "colab": {
          "base_uri": "https://localhost:8080/",
          "height": 34
        }
      },
      "source": [
        "word.split(\" \")"
      ],
      "execution_count": 10,
      "outputs": [
        {
          "output_type": "execute_result",
          "data": {
            "text/plain": [
              "['John', 'Jacob', 'Jingleheimer', 'Schmidt']"
            ]
          },
          "metadata": {
            "tags": []
          },
          "execution_count": 10
        }
      ]
    },
    {
      "cell_type": "markdown",
      "metadata": {
        "id": "lgLUGwkKqwJB"
      },
      "source": [
        "# List Methods\n",
        "\n",
        "List methods usually alter the list *in place*, rather than returning something new. Sometimes they do both! You need to be careful that you understand which is happening."
      ]
    },
    {
      "cell_type": "code",
      "metadata": {
        "id": "H0-O3Ac3qEZB",
        "outputId": "9825950c-be08-467c-af52-d96b17952367",
        "colab": {
          "base_uri": "https://localhost:8080/",
          "height": 272
        }
      },
      "source": [
        "my_list = \"We the people of the United States, in order to form a more perfect union\".split(\" \")\n",
        "my_list"
      ],
      "execution_count": 11,
      "outputs": [
        {
          "output_type": "execute_result",
          "data": {
            "text/plain": [
              "['We',\n",
              " 'the',\n",
              " 'people',\n",
              " 'of',\n",
              " 'the',\n",
              " 'United',\n",
              " 'States,',\n",
              " 'in',\n",
              " 'order',\n",
              " 'to',\n",
              " 'form',\n",
              " 'a',\n",
              " 'more',\n",
              " 'perfect',\n",
              " 'union']"
            ]
          },
          "metadata": {
            "tags": []
          },
          "execution_count": 11
        }
      ]
    },
    {
      "cell_type": "code",
      "metadata": {
        "id": "AaP7jNi1qF1E"
      },
      "source": [
        "my_list.sort()"
      ],
      "execution_count": 12,
      "outputs": []
    },
    {
      "cell_type": "markdown",
      "metadata": {
        "id": "rPV87KL6jZpD"
      },
      "source": [
        "### Sorting\n",
        "\n",
        "Note that sorting happens **in place**. Some class methods return a new object, but others modify the existing one. Now `my_list` looks different!"
      ]
    },
    {
      "cell_type": "code",
      "metadata": {
        "id": "Yq6WkMsbEEiW",
        "outputId": "5a3eafb3-65ad-45b3-e89c-f965b01f4016",
        "colab": {
          "base_uri": "https://localhost:8080/",
          "height": 272
        }
      },
      "source": [
        "my_list"
      ],
      "execution_count": 13,
      "outputs": [
        {
          "output_type": "execute_result",
          "data": {
            "text/plain": [
              "['States,',\n",
              " 'United',\n",
              " 'We',\n",
              " 'a',\n",
              " 'form',\n",
              " 'in',\n",
              " 'more',\n",
              " 'of',\n",
              " 'order',\n",
              " 'people',\n",
              " 'perfect',\n",
              " 'the',\n",
              " 'the',\n",
              " 'to',\n",
              " 'union']"
            ]
          },
          "metadata": {
            "tags": []
          },
          "execution_count": 13
        }
      ]
    },
    {
      "cell_type": "code",
      "metadata": {
        "id": "Uo0cO7rYqIHY",
        "outputId": "d7ddcde0-bc1a-41ff-c716-538e305578e2",
        "colab": {
          "base_uri": "https://localhost:8080/",
          "height": 289
        }
      },
      "source": [
        "# 'append' is an important list method--it adds an item to the end of a list.\n",
        "my_list.append(\"Trump\")\n",
        "my_list"
      ],
      "execution_count": 14,
      "outputs": [
        {
          "output_type": "execute_result",
          "data": {
            "text/plain": [
              "['States,',\n",
              " 'United',\n",
              " 'We',\n",
              " 'a',\n",
              " 'form',\n",
              " 'in',\n",
              " 'more',\n",
              " 'of',\n",
              " 'order',\n",
              " 'people',\n",
              " 'perfect',\n",
              " 'the',\n",
              " 'the',\n",
              " 'to',\n",
              " 'union',\n",
              " 'Trump']"
            ]
          },
          "metadata": {
            "tags": []
          },
          "execution_count": 14
        }
      ]
    },
    {
      "cell_type": "code",
      "metadata": {
        "id": "6AZw5dt7qr7v",
        "outputId": "9d056a23-7071-4eee-f695-f2403693d7b8",
        "colab": {
          "base_uri": "https://localhost:8080/",
          "height": 34
        }
      },
      "source": [
        "my_list = \"We the people of the United States, in order to make a more perfect union\".split(\" \")\n",
        "# Can you figure out what this does?\n",
        "my_list.index(\"United\")"
      ],
      "execution_count": 15,
      "outputs": [
        {
          "output_type": "execute_result",
          "data": {
            "text/plain": [
              "5"
            ]
          },
          "metadata": {
            "tags": []
          },
          "execution_count": 15
        }
      ]
    },
    {
      "cell_type": "markdown",
      "metadata": {
        "id": "qNHsMLTVJI9V"
      },
      "source": [
        "# Dictionaries\n",
        "\n",
        "Dictionaries are a basic type that lets you look up data by a string. Lists are good when it makes sense to think of things as sorted by position; for unsorted relations where one piece of data defines another, a dictionary is often the natural way to store information.\n",
        "\n",
        "Each element in a dictionary is a **pair**; these are called the **key** and the **value**. In creating one, you separate the key from the value with a colon, and separate each entry with parentheses. One dictionary might be a structure to store the height for each person in a class:"
      ]
    },
    {
      "cell_type": "code",
      "metadata": {
        "id": "R2bHcjDuqu6c"
      },
      "source": [
        "# Dictionaries.\n",
        "heights = {\n",
        "    \"Ben\": 6.5,\n",
        "    \"Priscilla\": 8,\n",
        "    \"Aiqi\": 22.7,\n",
        "    \"Alyssa\": 100.8\n",
        "}"
      ],
      "execution_count": 16,
      "outputs": []
    },
    {
      "cell_type": "markdown",
      "metadata": {
        "id": "OtHk7k9xOUgq"
      },
      "source": [
        "To access elements in a dictionary, you use the same square-bracket notation \n",
        "you use to get elements of a list by location. But instead of accessing by *number* (`letters[3]`), you access by *name*.\n",
        "\n",
        "That's all there is to dictionaries, but since they don't show up in the Montfort text, think about how you might incorporate them into some of the free projects."
      ]
    },
    {
      "cell_type": "code",
      "metadata": {
        "id": "hH9ZEorpOW-j",
        "outputId": "9f9a139d-9a31-4b2f-82d0-7931bbb8dc88",
        "colab": {
          "base_uri": "https://localhost:8080/",
          "height": 34
        }
      },
      "source": [
        "heights[\"Ben\"]"
      ],
      "execution_count": 17,
      "outputs": [
        {
          "output_type": "execute_result",
          "data": {
            "text/plain": [
              "6.5"
            ]
          },
          "metadata": {
            "tags": []
          },
          "execution_count": 17
        }
      ]
    },
    {
      "cell_type": "markdown",
      "metadata": {
        "id": "BxaWhyamj_FI"
      },
      "source": [
        "## Dict methods\n",
        "dicts have methods of their own--for instance, you can iterate across the\n",
        "items of a dict getting both keys and values at the same time."
      ]
    },
    {
      "cell_type": "code",
      "metadata": {
        "id": "YWhK4GQxj0_Q",
        "outputId": "dacf0a28-8f83-4399-d548-6e2235696cf7",
        "colab": {
          "base_uri": "https://localhost:8080/",
          "height": 85
        }
      },
      "source": [
        "for key, value in heights.items():\n",
        "  print (key + \"-\" + str(value))"
      ],
      "execution_count": 18,
      "outputs": [
        {
          "output_type": "stream",
          "text": [
            "Ben-6.5\n",
            "Priscilla-8\n",
            "Aiqi-22.7\n",
            "Alyssa-100.8\n"
          ],
          "name": "stdout"
        }
      ]
    },
    {
      "cell_type": "markdown",
      "metadata": {
        "id": "INCQ5ZwbOspn"
      },
      "source": [
        "# Errors\n",
        "\n",
        "We've encountered a lot of errors in this class! In many programming languages, the way that you handle errors is to write your code so that it doesn't produce any more errors: but in Python more than most, it is very\n",
        "common in all sorts of code to *catch* and handle them. Consider the following alteration of double, double that gets the height of each person in a list."
      ]
    },
    {
      "cell_type": "code",
      "metadata": {
        "id": "Qpt3llBwPGDY",
        "outputId": "2e1dc501-e039-4776-aa96-5f532ee65f6f",
        "colab": {
          "base_uri": "https://localhost:8080/",
          "height": 34
        }
      },
      "source": [
        "def get_height(sequence, heights):\n",
        "  output = []\n",
        "  for name in sequence:\n",
        "    output = output + [heights[name]]\n",
        "  return output\n",
        "\n",
        "get_height([\"Ben\", \"Priscilla\"], heights)"
      ],
      "execution_count": 19,
      "outputs": [
        {
          "output_type": "execute_result",
          "data": {
            "text/plain": [
              "[6.5, 8]"
            ]
          },
          "metadata": {
            "tags": []
          },
          "execution_count": 19
        }
      ]
    },
    {
      "cell_type": "markdown",
      "metadata": {
        "id": "ZeGEibWWQVzc"
      },
      "source": [
        "It works great for names in the domain. But if you try it on someone whose name is not in the list, the entire function crashes. "
      ]
    },
    {
      "cell_type": "code",
      "metadata": {
        "id": "58wwuLO6QVJk",
        "outputId": "10d321ef-f53c-4a60-c06d-178cf394a577",
        "colab": {
          "base_uri": "https://localhost:8080/",
          "height": 283
        }
      },
      "source": [
        "get_height([\"Ben\", \"Priscilla\", \"Alejandro\"], heights)"
      ],
      "execution_count": 20,
      "outputs": [
        {
          "output_type": "error",
          "ename": "KeyError",
          "evalue": "ignored",
          "traceback": [
            "\u001b[0;31m---------------------------------------------------------------------------\u001b[0m",
            "\u001b[0;31mKeyError\u001b[0m                                  Traceback (most recent call last)",
            "\u001b[0;32m<ipython-input-20-50be52f30d31>\u001b[0m in \u001b[0;36m<module>\u001b[0;34m()\u001b[0m\n\u001b[0;32m----> 1\u001b[0;31m \u001b[0mget_height\u001b[0m\u001b[0;34m(\u001b[0m\u001b[0;34m[\u001b[0m\u001b[0;34m\"Ben\"\u001b[0m\u001b[0;34m,\u001b[0m \u001b[0;34m\"Priscilla\"\u001b[0m\u001b[0;34m,\u001b[0m \u001b[0;34m\"Alejandro\"\u001b[0m\u001b[0;34m]\u001b[0m\u001b[0;34m,\u001b[0m \u001b[0mheights\u001b[0m\u001b[0;34m)\u001b[0m\u001b[0;34m\u001b[0m\u001b[0;34m\u001b[0m\u001b[0m\n\u001b[0m",
            "\u001b[0;32m<ipython-input-19-76bace10ff7f>\u001b[0m in \u001b[0;36mget_height\u001b[0;34m(sequence, heights)\u001b[0m\n\u001b[1;32m      2\u001b[0m   \u001b[0moutput\u001b[0m \u001b[0;34m=\u001b[0m \u001b[0;34m[\u001b[0m\u001b[0;34m]\u001b[0m\u001b[0;34m\u001b[0m\u001b[0;34m\u001b[0m\u001b[0m\n\u001b[1;32m      3\u001b[0m   \u001b[0;32mfor\u001b[0m \u001b[0mname\u001b[0m \u001b[0;32min\u001b[0m \u001b[0msequence\u001b[0m\u001b[0;34m:\u001b[0m\u001b[0;34m\u001b[0m\u001b[0;34m\u001b[0m\u001b[0m\n\u001b[0;32m----> 4\u001b[0;31m     \u001b[0moutput\u001b[0m \u001b[0;34m=\u001b[0m \u001b[0moutput\u001b[0m \u001b[0;34m+\u001b[0m \u001b[0;34m[\u001b[0m\u001b[0mheights\u001b[0m\u001b[0;34m[\u001b[0m\u001b[0mname\u001b[0m\u001b[0;34m]\u001b[0m\u001b[0;34m]\u001b[0m\u001b[0;34m\u001b[0m\u001b[0;34m\u001b[0m\u001b[0m\n\u001b[0m\u001b[1;32m      5\u001b[0m   \u001b[0;32mreturn\u001b[0m \u001b[0moutput\u001b[0m\u001b[0;34m\u001b[0m\u001b[0;34m\u001b[0m\u001b[0m\n\u001b[1;32m      6\u001b[0m \u001b[0;34m\u001b[0m\u001b[0m\n",
            "\u001b[0;31mKeyError\u001b[0m: 'Alejandro'"
          ]
        }
      ]
    },
    {
      "cell_type": "markdown",
      "metadata": {
        "id": "2DvohvtmQlPX"
      },
      "source": [
        "Sometimes you want to just keep going in a case like this; to **handle** the error. Just like we can use indented 'if' and 'else' blocks, we can use a two-part block composed of 'try' and 'catch'. (If you do 'try' without 'catch', you'll get a *syntax* error, which means that Python can't even read your code--there's no way to recover from these.) \n",
        "\n",
        "In the example below, any error causes the person to be assigned a height of `None`. You could also assign a default value here, or even do something stranger like skip the entry altogether."
      ]
    },
    {
      "cell_type": "code",
      "metadata": {
        "id": "eGosPmOYQjxW",
        "outputId": "4c5177aa-7f9a-4902-85b2-be5dcbd5bc54",
        "colab": {
          "base_uri": "https://localhost:8080/",
          "height": 34
        }
      },
      "source": [
        "def get_height_safe(sequence, heights):\n",
        "  output = []\n",
        "  for name in sequence:\n",
        "    try:\n",
        "      output = output + [heights[name]]\n",
        "    except:\n",
        "      output = output + [None]\n",
        "  return output\n",
        "\n",
        "get_height_safe([\"Ben\", \"Priscilla\", \"Alejandro\"], heights)"
      ],
      "execution_count": 21,
      "outputs": [
        {
          "output_type": "execute_result",
          "data": {
            "text/plain": [
              "[6.5, 8, None]"
            ]
          },
          "metadata": {
            "tags": []
          },
          "execution_count": 21
        }
      ]
    },
    {
      "cell_type": "markdown",
      "metadata": {
        "id": "KUeU8zf1SCQP"
      },
      "source": [
        "# A summatize example: encoder functions.\n",
        "\n",
        "Here's an alteration of double-double that encodes one string into another, using the `chr` and `ord` functions we looked at in the first week. See if you can make sure you understand each line of this function. Note that we could define encode and decode separately, but since they follow the same logic, it makes sense to write a *general* function and call it with a different shift)."
      ]
    },
    {
      "cell_type": "code",
      "metadata": {
        "id": "MHRL0LCTE8FA"
      },
      "source": [
        "def shift_letters(message, shift):\n",
        "  encoded = \"\"\n",
        "  for letter in message:\n",
        "    code = ord(letter)\n",
        "    new_code = code + shift\n",
        "    try:\n",
        "      encoded = encoded + chr(new_code)\n",
        "    except:\n",
        "      encoded = encoded + \"?\"\n",
        "  return encoded\n",
        "\n",
        "def encode(message):\n",
        "  return shift_letters(message, 1)\n",
        "\n",
        "def decode(message):\n",
        "  return shift_letters(message, -1)"
      ],
      "execution_count": 25,
      "outputs": []
    },
    {
      "cell_type": "code",
      "metadata": {
        "id": "i4apDoQNSXkh",
        "outputId": "6e8bf183-9c53-4d55-b208-93dd0cb3b2d0",
        "colab": {
          "base_uri": "https://localhost:8080/",
          "height": 35
        }
      },
      "source": [
        "encode(\"Hello Everybody\")\n",
        "\n"
      ],
      "execution_count": 26,
      "outputs": [
        {
          "output_type": "execute_result",
          "data": {
            "application/vnd.google.colaboratory.intrinsic+json": {
              "type": "string"
            },
            "text/plain": [
              "'Ifmmp!Fwfszcpez'"
            ]
          },
          "metadata": {
            "tags": []
          },
          "execution_count": 26
        }
      ]
    },
    {
      "cell_type": "code",
      "metadata": {
        "id": "5iMuc45USg1K",
        "outputId": "92bb905d-8a53-4d03-b0b5-61c1e9f3e211",
        "colab": {
          "base_uri": "https://localhost:8080/",
          "height": 35
        }
      },
      "source": [
        "decode(\"Ifmmp!Fwfszcpez\")"
      ],
      "execution_count": 27,
      "outputs": [
        {
          "output_type": "execute_result",
          "data": {
            "application/vnd.google.colaboratory.intrinsic+json": {
              "type": "string"
            },
            "text/plain": [
              "'Hello Everybody'"
            ]
          },
          "metadata": {
            "tags": []
          },
          "execution_count": 27
        }
      ]
    },
    {
      "cell_type": "code",
      "metadata": {
        "id": "wi5Imkt2AQ1u"
      },
      "source": [
        ""
      ],
      "execution_count": 27,
      "outputs": []
    },
    {
      "cell_type": "markdown",
      "metadata": {
        "id": "TEtRxyPBSYGV"
      },
      "source": [
        "For our next group sessions, I want you to post an encoded message but *not* the encoder function you use. Be as simple or creative as you want.\n",
        "\n",
        "\n",
        "## Encoding with a dictionary\n",
        "\n",
        "Here's a function that encodes using not code points, but a dictionary.\n",
        "It also uses the `.lower()` method of strings we discussed earlier.\n"
      ]
    },
    {
      "cell_type": "code",
      "metadata": {
        "id": "5b1e2VB5F2oX",
        "outputId": "8dbd362e-3c61-42d6-de38-f39e25f58970",
        "colab": {
          "base_uri": "https://localhost:8080/",
          "height": 35
        }
      },
      "source": [
        "switches = {\n",
        "    \"e\": \"z\",\n",
        "    \"z\": \"e\",\n",
        "    \"t\": \"p\",\n",
        "    \"p\": \"t\",\n",
        "    \"r\": \"l\",\n",
        "    \"l\": \"r\",\n",
        "    \"h\": \"a\",\n",
        "    \"a\": \"h\"\n",
        "}\n",
        "\n",
        "def encode2(message, switches):\n",
        "    encoded = \"\"\n",
        "    for letter in message:\n",
        "        # Under what conditions will this fail? How can we fix it?\n",
        "        try: \n",
        "          encoded += switches[letter]\n",
        "        except:\n",
        "          encoded = encoded + letter\n",
        "    return encoded\n",
        "\n",
        "encode2(\"hello everyone\", switches)\n"
      ],
      "execution_count": 30,
      "outputs": [
        {
          "output_type": "execute_result",
          "data": {
            "application/vnd.google.colaboratory.intrinsic+json": {
              "type": "string"
            },
            "text/plain": [
              "'azrro zvzlyonz'"
            ]
          },
          "metadata": {
            "tags": []
          },
          "execution_count": 30
        }
      ]
    },
    {
      "cell_type": "markdown",
      "metadata": {
        "id": "TFqIi8Oxi1oa"
      },
      "source": [
        "Think about what the 'decode' function would be in this case. (Hint--you don't have a write a new function.)"
      ]
    },
    {
      "cell_type": "code",
      "metadata": {
        "id": "0hBORF9oGj2u"
      },
      "source": [
        ""
      ],
      "execution_count": null,
      "outputs": []
    },
    {
      "cell_type": "markdown",
      "metadata": {
        "id": "RSIFJKtejMBA"
      },
      "source": [
        "## Project for groups\n",
        "\n",
        "1. Write a paired encoder and decoder, as close to the models above as you want. Post an encoded message to slack."
      ]
    },
    {
      "cell_type": "code",
      "metadata": {
        "id": "7QJIToXRI2Rv"
      },
      "source": [
        "# Decoding Yusuf's message"
      ],
      "execution_count": null,
      "outputs": []
    },
    {
      "cell_type": "code",
      "metadata": {
        "id": "NPYN7dx8JBt8"
      },
      "source": [
        "secret_message = \"\"\"¸ǐǠƔǐƄǌƄǌƔƤǐƤƸƄƴǔĠƐƸƄǌǐǈĄƔƠǐǈƼƘƜƸƤƴƴƄǈƜƼǈŀǤǈƼǐƄǈƼưǀǠĔǌ聤ǐǈƼƘǐƸƼĴƬƌƤĸƔǌǔưưƤǜǌǌƄưƌǌƤƠŐ¸ǌƔƤǐƤƸƄƴǔƠƌƤưƈǔǀƐƸƄǌƔƤƐǔǐŌƔƐƼČưƄƌƤǐƤǈČƘƼǌƔƸƤưǀƤƌǌƤƐƔƠǐǌƐǈƄǜƼǐǈƔƔǘǐƄƠǐǌƜƸƤƐƄƔǈƐƸƄǌǐƸƔƴƸƜƤǌǌƄƔƴƼǌƸƤƐưƤǔƈƼǐƐƔǈƼǘƄƔƐƸƔƼǌưƄƔǘ聤Ĥ°ǌƬǈƼǜǐƤǜƼƠƐƸƄ°ǌƤƔƐƼƌǐƄƠǜǐǔƼƈƄƜƸƤƬƸƤƠǐƘƼǤƄǜǐƸƔǈƔƘƘƤƐǈƔƠǐƄǈƄƔǘƄƠưưƄƔǜǐƄƠǐǌƤǌǐƸƔƐǔǐǌǌƔƤǐƤƸƄƴǔƠǈƔƠǐƼƠǐƤǜƜƸƤƬǈƼǜƘƼǐƤƘƔƸƔƈƔƠǐƘƼƠƌǔƴƔƌƸƤŌ¸ǐǔƼ´ƬƔƔǜ°ƸƤ´ƬƔƔǜǐǈƄǀǈǔƼǤƸƼƬǈƼǜƐƔǐǈƔƌƸƼƌƔƴƼǌƔǈƤǔǄƔǈưưƤǜǌǌƄưƌǌƤƠŐ¸ǐƄƬǈƼǜƼǐƼƐǐǌǔƴǔƼǤǐƄƠǐƔƌƤǐƌƄǈǀƄǌƤǌƴƄǈƜƼǈǀǈƔǐǔǀƴƼƌƜƸƤǐƤǈŜèǌƔƜƄǔƜƸƄưǈƔƠǐƼƜƸƤǜƼưưƼƘƔƠǐǐǔƼƈƄǜƼƸƬƐưǔƼƠǌǔƼǤ°ƐǈƼƌƔǈƔƠǐǈƼĘ¸ƠƌƸƔǈĘƴƼǈƘǌƤƠǌƤƸƄǀŌǌƄǈƔƠǐƼƸƄƴƼǈƘƔƌƸƔǈƔƘƘƤƐǌƄǤưǈƄƔƸǐƼƸǌƤƔƸƼƐƸƄ°ưưƄǐƄǌƔƜƄǔƜƸƄưǤưưƄƔǈǐ聤ƸƔǈƄǌƔƜƄǔƜƸƄưǈƔǐǔǀƴƼƌ职ƔƴƄƸƔƠǐǤƈƐƔǌǔƘƸƼƌƔƈǐ聤ƸƼĐ¸ƔǈƔƠǜƔǌưƔǤưƤǌƄƔǌǈƔƘǌƸƄǈǐƸƼƠǐǤǀƸƤƸǈƄƔưǔƼǤǐƄƠǜǐǔĈ¸ǌƔǘưƔǌƴƔƠǐǌƔƤǐƤƸƄƴǔƠƔƠǐƐƸƄƔƌƸƔƜƤưưƔǐƸƤưƄƤƌƤƘƤǐǈƄƐƸǔƼǈƄǤưǈƄưǔƌƤǐǈƄǀƜƸƤǐǔǀƴƼƌƠƌǈƄƔǌƔǈƘƼǐǈƼǌǈƄưǔƌƤǐǈƄǀƄƘƼƄƌƸƄǈƘƄǔƜƸƤưƔƠǐǌ聤ǐƤ°ƐƸƼƌƔŌ¸ǌƴƜƤƐƄǈƄǀưƄƸƼƤǐƌƸǔƘǈƼ°ƐƔǐƸƔƤǈƼǐƌƔƨƈƼ°ƔǘƤǐƄǈƔǀƴƤưưƄƌƼǐƸǈƄƔưưư聤ǔƼǤǐƄƠǜ职ƜƸƤƴƴƄǈƜƼǈǀƘƼǌƔưǤǐǌƘƼǤǐƔƤǈƄǘƔƐƤǜƄƼǐƔưƈƄƸƔƴƄǌ聤ǐĤ¸ƔǈƔƠǐǐǔƼǌƔƜƄǔƜƸƄưƜƸƤƴƴƄǈƜƼǈǀǐƸƔǈƔƘƘƤƐƔƠǐưưƄƘƼƴǔƤƐƔƴǤǀǀƄƠƄƘƼƐƸƤƬǌ聤ǐƤƔǌǔƄƌƔƈǌƔǌǈǔƼƌŌČƐƄǈƜǈƔƐƸǔƸƤƔƜƄǔƜƸƄưưƄƸƼƤǐƌǔǈǐǌƸƤƸƄǌƄƐƄƔǈǀǌƔƐƤǜǌ聤ǐƤ°ǐǌǈƤĘ¸ƸǈƄƔưǔƼǤǐƄƠǐƔƜƄǔƜƸƄư¤ǤưƸƼǈƼ ǐǌǈƤƘƔƠǐǌƄưƄƔƐƤǐƤƔƬƄƴǐƄƠǐǌƔǈǔǐƄƔƘƼǜǐǌƄƠƸƼƠǐǤŀƔǌǔƄƌƔƈǌƤƠǐƼƐƔŜ¸ƸƼǌƤǈƄǀƴƼƌƘƼƔƬƄǌƔƠǐǈƼƘǐǌǔƨǌƔƜƄǔƜƸƄưǈƔƠǐƼƔƴƼǌǐƄǌƔǌǀƴƤưƜǜƔƘƄƠǐƤǜ°ƸƼƠǐǤŀƸǈƄƔưưư聤ǔƼǤ°ǌǌƄưƌǌƤƠǐƸĤ\"\"\""
      ],
      "execution_count": null,
      "outputs": []
    },
    {
      "cell_type": "code",
      "metadata": {
        "id": "Us_RgROj329H"
      },
      "source": [
        "secret_message"
      ],
      "execution_count": null,
      "outputs": []
    },
    {
      "cell_type": "code",
      "metadata": {
        "id": "5wxdeCYQ38lu"
      },
      "source": [
        ""
      ],
      "execution_count": null,
      "outputs": []
    },
    {
      "cell_type": "code",
      "metadata": {
        "id": "8RCkVsOQ4PUC"
      },
      "source": [
        "decoded1 = [ ord(char)/4 for char in secret_message ]\n",
        "decoded1.reverse()\n"
      ],
      "execution_count": null,
      "outputs": []
    },
    {
      "cell_type": "code",
      "metadata": {
        "id": "ipHDDdZb4Yfp"
      },
      "source": [
        "decoded2 = \"\".join([chr(int(code)) for code in decoded1])"
      ],
      "execution_count": null,
      "outputs": []
    },
    {
      "cell_type": "code",
      "metadata": {
        "id": "Asy8gn4l4wTH"
      },
      "source": [
        "decoded2"
      ],
      "execution_count": null,
      "outputs": []
    },
    {
      "cell_type": "code",
      "metadata": {
        "id": "ytmfpyld7jEW"
      },
      "source": [
        ""
      ],
      "execution_count": null,
      "outputs": []
    },
    {
      "cell_type": "code",
      "metadata": {
        "id": "a9QBjHp98UYz"
      },
      "source": [
        ""
      ],
      "execution_count": null,
      "outputs": []
    }
  ]
}